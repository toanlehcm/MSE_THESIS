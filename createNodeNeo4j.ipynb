{
 "cells": [
  {
   "cell_type": "code",
   "execution_count": 1,
   "metadata": {},
   "outputs": [],
   "source": [
    "from neo4j import GraphDatabase\n",
    "import json\n"
   ]
  },
  {
   "cell_type": "code",
   "execution_count": 2,
   "metadata": {},
   "outputs": [],
   "source": [
    "driver = GraphDatabase.driver(\n",
    "    'bolt://localhost:7687', auth=('neo4j', 'password'))\n"
   ]
  },
  {
   "cell_type": "code",
   "execution_count": null,
   "metadata": {},
   "outputs": [],
   "source": [
    "with open('data/create_node_dict.json', 'r', encoding=\"utf-8\") as fp:\n",
    "    create_node_dict = json.load(fp)\n",
    "    fp.close()\n",
    "\n",
    "HOUSE_NODE = create_node_dict[\"HOUSE_NODE\"]\n",
    "CITY_NODE = create_node_dict[\"CITY_NODE\"]\n",
    "DISTRICT_NODE = create_node_dict[\"DISTRICT_NODE\"]\n",
    "WARD_NODE = create_node_dict[\"WARD_NODE\"]\n",
    "STREET_NODE = create_node_dict[\"STREET_NODE\"]\n",
    "HOUSE_NUMBER_NODE = create_node_dict[\"HOUSE_NUMBER_NODE\"]"
   ]
  },
  {
   "cell_type": "code",
   "execution_count": 18,
   "metadata": {},
   "outputs": [],
   "source": [
    "def run_query(query):\n",
    "    with driver.session(database=\"htdb\") as session:\n",
    "        result = session.run(query)\n"
   ]
  },
  {
   "cell_type": "code",
   "execution_count": 19,
   "metadata": {},
   "outputs": [],
   "source": [
    "def create_node_query(link_data, node_label, node_id, node_name, node_alias):\n",
    "    create_query = \"LOAD CSV FROM '\"+link_data+\"' AS line \" + \\\n",
    "        \"WITH line skip 1 \" + \\\n",
    "        \"MERGE (n:\"+node_label+\" {\"+node_id+\": line[0]}) \" + \\\n",
    "        \"SET n.\"+node_name+\" = line[1] \"+\"SET n.\"+node_alias+\" = line[2]\"\n",
    "\n",
    "    # print(create_query)\n",
    "    run_query(create_query)\n"
   ]
  },
  {
   "cell_type": "code",
   "execution_count": 20,
   "metadata": {},
   "outputs": [
    {
     "name": "stdout",
     "output_type": "stream",
     "text": [
      "LOAD CSV FROM 'https://www.dropbox.com/s/safuqktujru1ltg/house_data.csv?dl=1' AS line WITH line skip 1 MERGE (n:House {house_id: line[0]}) SET n.house_name = line[1] SET n.house_alias = line[2]\n"
     ]
    }
   ],
   "source": [
    "# Create house nodes\n",
    "create_node_query(HOUSE_NODE[\"link\"],\n",
    "                  HOUSE_NODE[\"label\"], HOUSE_NODE[\"id\"], HOUSE_NODE[\"name\"], HOUSE_NODE[\"alias\"])\n"
   ]
  },
  {
   "cell_type": "code",
   "execution_count": 21,
   "metadata": {},
   "outputs": [
    {
     "name": "stdout",
     "output_type": "stream",
     "text": [
      "LOAD CSV FROM 'https://www.dropbox.com/s/tesj1dnpmxodtxy/city_data.csv?dl=1' AS line WITH line skip 1 MERGE (n:City {city_id: line[0]}) SET n.city_name = line[1] SET n.city_alias = line[2]\n"
     ]
    }
   ],
   "source": [
    "# Create city nodes\n",
    "create_node_query(CITY_NODE[\"link\"],\n",
    "                  CITY_NODE[\"label\"], CITY_NODE[\"id\"], CITY_NODE[\"name\"], CITY_NODE[\"alias\"])\n"
   ]
  },
  {
   "cell_type": "code",
   "execution_count": 22,
   "metadata": {},
   "outputs": [
    {
     "name": "stdout",
     "output_type": "stream",
     "text": [
      "LOAD CSV FROM 'https://www.dropbox.com/s/5u13y315i7tml6m/district_data.csv?dl=1' AS line WITH line skip 1 MERGE (n:District {district_id: line[0]}) SET n.district_name = line[1] SET n.district_alias = line[2]\n"
     ]
    }
   ],
   "source": [
    "# Create district nodes\n",
    "create_node_query(DISTRICT_NODE[\"link\"],\n",
    "                  DISTRICT_NODE[\"label\"], DISTRICT_NODE[\"id\"], DISTRICT_NODE[\"name\"], DISTRICT_NODE[\"alias\"])\n"
   ]
  },
  {
   "cell_type": "code",
   "execution_count": 23,
   "metadata": {},
   "outputs": [
    {
     "name": "stdout",
     "output_type": "stream",
     "text": [
      "LOAD CSV FROM 'https://www.dropbox.com/s/cyzlllbs5x4lv13/ward_data.csv?dl=1' AS line WITH line skip 1 MERGE (n:Ward {ward_id: line[0]}) SET n.ward_name = line[1] SET n.ward_alias = line[2]\n"
     ]
    }
   ],
   "source": [
    "# Create ward nodes\n",
    "create_node_query(WARD_NODE[\"link\"],\n",
    "                  WARD_NODE[\"label\"], WARD_NODE[\"id\"], WARD_NODE[\"name\"], WARD_NODE[\"alias\"])\n"
   ]
  },
  {
   "cell_type": "code",
   "execution_count": 24,
   "metadata": {},
   "outputs": [
    {
     "name": "stdout",
     "output_type": "stream",
     "text": [
      "LOAD CSV FROM 'https://www.dropbox.com/s/6kgamz4p0ot4ntf/street_data.csv?dl=1' AS line WITH line skip 1 MERGE (n:Street {street_id: line[0]}) SET n.street_name = line[1] SET n.street_alias = line[2]\n"
     ]
    }
   ],
   "source": [
    "# Create street nodes\n",
    "create_node_query(STREET_NODE[\"link\"],\n",
    "                  STREET_NODE[\"label\"], STREET_NODE[\"id\"], STREET_NODE[\"name\"], STREET_NODE[\"alias\"])\n"
   ]
  },
  {
   "cell_type": "code",
   "execution_count": 25,
   "metadata": {},
   "outputs": [
    {
     "name": "stdout",
     "output_type": "stream",
     "text": [
      "LOAD CSV FROM 'https://www.dropbox.com/s/rk9m14wi9kon91y/house_number_data.csv?dl=1' AS line WITH line skip 1 MERGE (n:House_number {house_number_id: line[0]}) SET n.house_number = line[1] SET n.house_number_alias = line[2]\n"
     ]
    }
   ],
   "source": [
    "# Create house_number nodes\n",
    "create_node_query(HOUSE_NUMBER_NODE[\"link\"],\n",
    "                  HOUSE_NUMBER_NODE[\"label\"], HOUSE_NUMBER_NODE[\"id\"], HOUSE_NUMBER_NODE[\"name\"], HOUSE_NUMBER_NODE[\"alias\"])\n"
   ]
  },
  {
   "cell_type": "code",
   "execution_count": null,
   "metadata": {},
   "outputs": [],
   "source": []
  }
 ],
 "metadata": {
  "kernelspec": {
   "display_name": "Python 3.7.9 64-bit",
   "language": "python",
   "name": "python3"
  },
  "language_info": {
   "codemirror_mode": {
    "name": "ipython",
    "version": 3
   },
   "file_extension": ".py",
   "mimetype": "text/x-python",
   "name": "python",
   "nbconvert_exporter": "python",
   "pygments_lexer": "ipython3",
   "version": "3.7.9"
  },
  "orig_nbformat": 4,
  "vscode": {
   "interpreter": {
    "hash": "aee8b7b246df8f9039afb4144a1f6fd8d2ca17a180786b69acc140d282b71a49"
   }
  }
 },
 "nbformat": 4,
 "nbformat_minor": 2
}
