{
 "cells": [
  {
   "cell_type": "code",
   "execution_count": 1,
   "metadata": {},
   "outputs": [],
   "source": [
    "from neo4j import GraphDatabase\n",
    "import json\n"
   ]
  },
  {
   "cell_type": "code",
   "execution_count": 2,
   "metadata": {},
   "outputs": [],
   "source": [
    "driver = GraphDatabase.driver(\n",
    "    'bolt://localhost:7687', auth=('neo4j', 'password'))\n"
   ]
  },
  {
   "cell_type": "code",
   "execution_count": 7,
   "metadata": {},
   "outputs": [],
   "source": [
    "with open('data/create_node_dict.json', 'r', encoding=\"utf-8\") as fp:\n",
    "    create_node_dict = json.load(fp)\n",
    "    fp.close()\n",
    "\n",
    "HOUSE_NODE = create_node_dict[\"HOUSE_NODE\"]\n",
    "CITY_NODE = create_node_dict[\"CITY_NODE\"]\n",
    "DISTRICT_NODE = create_node_dict[\"DISTRICT_NODE\"]\n",
    "WARD_NODE = create_node_dict[\"WARD_NODE\"]\n",
    "STREET_NODE = create_node_dict[\"STREET_NODE\"]\n",
    "HOUSE_NUMBER_NODE = create_node_dict[\"HOUSE_NUMBER_NODE\"]\n",
    "PRICE = create_node_dict[\"PRICE\"]\n",
    "AREA = create_node_dict[\"AREA\"]\n",
    "POTENTIAL = create_node_dict[\"POTENTIAL\"]\n",
    "BATH_ROOM = create_node_dict[\"BATH_ROOM\"]\n",
    "BED_ROOM = create_node_dict[\"BED_ROOM\"]\n",
    "LIVING_ROOM = create_node_dict[\"LIVING_ROOM\"]\n",
    "DIRECTION = create_node_dict[\"DIRECTION\"]\n",
    "FLOOR = create_node_dict[\"FLOOR\"]\n",
    "FLOOR_GAC = create_node_dict[\"FLOOR_GAC\"]"
   ]
  },
  {
   "cell_type": "code",
   "execution_count": 4,
   "metadata": {},
   "outputs": [],
   "source": [
    "def run_query(query):\n",
    "    with driver.session(database=\"htdb\") as session:\n",
    "        result = session.run(query)\n"
   ]
  },
  {
   "cell_type": "code",
   "execution_count": 5,
   "metadata": {},
   "outputs": [],
   "source": [
    "def create_node_query(link_data, node_label, node_id, node_name, node_alias):\n",
    "    create_query = \"LOAD CSV FROM '\"+link_data+\"' AS line \" + \\\n",
    "        \"WITH line skip 1 \" + \\\n",
    "        \"MERGE (n:\"+node_label+\" {\"+node_id+\": line[0]}) \" + \\\n",
    "        \"SET n.\"+node_name+\" = line[1] \"+\"SET n.\"+node_alias+\" = line[2]\"\n",
    "\n",
    "    # print(create_query)\n",
    "    run_query(create_query)\n"
   ]
  },
  {
   "cell_type": "code",
   "execution_count": 17,
   "metadata": {},
   "outputs": [],
   "source": [
    "# Create house nodes\n",
    "create_node_query(HOUSE_NODE[\"link\"],\n",
    "                  HOUSE_NODE[\"label\"], HOUSE_NODE[\"id\"], HOUSE_NODE[\"name\"], HOUSE_NODE[\"alias\"])\n"
   ]
  },
  {
   "cell_type": "code",
   "execution_count": 18,
   "metadata": {},
   "outputs": [],
   "source": [
    "# Create city nodes\n",
    "create_node_query(CITY_NODE[\"link\"],\n",
    "                  CITY_NODE[\"label\"], CITY_NODE[\"id\"], CITY_NODE[\"name\"], CITY_NODE[\"alias\"])\n"
   ]
  },
  {
   "cell_type": "code",
   "execution_count": 19,
   "metadata": {},
   "outputs": [],
   "source": [
    "# Create district nodes\n",
    "create_node_query(DISTRICT_NODE[\"link\"],\n",
    "                  DISTRICT_NODE[\"label\"], DISTRICT_NODE[\"id\"], DISTRICT_NODE[\"name\"], DISTRICT_NODE[\"alias\"])\n"
   ]
  },
  {
   "cell_type": "code",
   "execution_count": 20,
   "metadata": {},
   "outputs": [],
   "source": [
    "# Create ward nodes\n",
    "create_node_query(WARD_NODE[\"link\"],\n",
    "                  WARD_NODE[\"label\"], WARD_NODE[\"id\"], WARD_NODE[\"name\"], WARD_NODE[\"alias\"])\n"
   ]
  },
  {
   "cell_type": "code",
   "execution_count": 21,
   "metadata": {},
   "outputs": [],
   "source": [
    "# Create street nodes\n",
    "create_node_query(STREET_NODE[\"link\"],\n",
    "                  STREET_NODE[\"label\"], STREET_NODE[\"id\"], STREET_NODE[\"name\"], STREET_NODE[\"alias\"])\n"
   ]
  },
  {
   "cell_type": "code",
   "execution_count": 22,
   "metadata": {},
   "outputs": [],
   "source": [
    "# Create house_number nodes\n",
    "# create_node_query(HOUSE_NUMBER_NODE[\"link\"],\n",
    "#                   HOUSE_NUMBER_NODE[\"label\"], HOUSE_NUMBER_NODE[\"id\"], HOUSE_NUMBER_NODE[\"name\"], HOUSE_NUMBER_NODE[\"alias\"])\n"
   ]
  },
  {
   "cell_type": "code",
   "execution_count": null,
   "metadata": {},
   "outputs": [],
   "source": [
    "# Create price nodes\n",
    "create_node_query(PRICE[\"link\"], PRICE[\"label\"], PRICE[\"id\"], PRICE[\"name\"], PRICE[\"alias\"])"
   ]
  },
  {
   "cell_type": "code",
   "execution_count": 6,
   "metadata": {},
   "outputs": [],
   "source": [
    "# Create areer nodes\n",
    "create_node_query(AREA[\"link\"], AREA[\"label\"], AREA[\"id\"], AREA[\"name\"], AREA[\"alias\"])"
   ]
  },
  {
   "cell_type": "code",
   "execution_count": 8,
   "metadata": {},
   "outputs": [],
   "source": [
    "# Create potential nodes\n",
    "create_node_query(POTENTIAL[\"link\"], POTENTIAL[\"label\"], POTENTIAL[\"id\"], POTENTIAL[\"name\"], POTENTIAL[\"alias\"])"
   ]
  },
  {
   "cell_type": "code",
   "execution_count": 11,
   "metadata": {},
   "outputs": [],
   "source": [
    "# Create bath_room nodes\n",
    "create_node_query(BATH_ROOM[\"link\"], BATH_ROOM[\"label\"], BATH_ROOM[\"id\"], BATH_ROOM[\"name\"], BATH_ROOM[\"alias\"])"
   ]
  },
  {
   "cell_type": "code",
   "execution_count": 12,
   "metadata": {},
   "outputs": [],
   "source": [
    "# Create bed_room nodes\n",
    "create_node_query(BED_ROOM[\"link\"], BED_ROOM[\"label\"], BED_ROOM[\"id\"], BED_ROOM[\"name\"], BED_ROOM[\"alias\"])"
   ]
  },
  {
   "cell_type": "code",
   "execution_count": 13,
   "metadata": {},
   "outputs": [],
   "source": [
    "# Create living_room nodes\n",
    "create_node_query(LIVING_ROOM[\"link\"], LIVING_ROOM[\"label\"], LIVING_ROOM[\"id\"], LIVING_ROOM[\"name\"], LIVING_ROOM[\"alias\"])"
   ]
  },
  {
   "cell_type": "code",
   "execution_count": 15,
   "metadata": {},
   "outputs": [],
   "source": [
    "# Create direction nodes\n",
    "create_node_query(DIRECTION[\"link\"], DIRECTION[\"label\"], DIRECTION[\"id\"], DIRECTION[\"name\"], DIRECTION[\"alias\"])"
   ]
  },
  {
   "cell_type": "code",
   "execution_count": 6,
   "metadata": {},
   "outputs": [],
   "source": [
    "# Create floor nodes\n",
    "create_node_query(FLOOR[\"link\"], FLOOR[\"label\"], FLOOR[\"id\"], FLOOR[\"name\"], FLOOR[\"alias\"])"
   ]
  },
  {
   "cell_type": "code",
   "execution_count": 8,
   "metadata": {},
   "outputs": [],
   "source": [
    "# Create floor_gac nodes\n",
    "create_node_query(FLOOR_GAC[\"link\"], FLOOR_GAC[\"label\"], FLOOR_GAC[\"id\"], FLOOR_GAC[\"name\"], FLOOR_GAC[\"alias\"])"
   ]
  }
 ],
 "metadata": {
  "kernelspec": {
   "display_name": "Python 3.7.9 64-bit",
   "language": "python",
   "name": "python3"
  },
  "language_info": {
   "codemirror_mode": {
    "name": "ipython",
    "version": 3
   },
   "file_extension": ".py",
   "mimetype": "text/x-python",
   "name": "python",
   "nbconvert_exporter": "python",
   "pygments_lexer": "ipython3",
   "version": "3.7.9"
  },
  "orig_nbformat": 4,
  "vscode": {
   "interpreter": {
    "hash": "5109d816b82be14675a6b11f8e0f0d2e80f029176ed3710d54e125caa8520dfd"
   }
  }
 },
 "nbformat": 4,
 "nbformat_minor": 2
}
