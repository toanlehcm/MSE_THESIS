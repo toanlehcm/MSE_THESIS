{
 "cells": [
  {
   "cell_type": "code",
   "execution_count": 1,
   "metadata": {},
   "outputs": [],
   "source": [
    "from neo4j import GraphDatabase\n",
    "import json\n"
   ]
  },
  {
   "cell_type": "code",
   "execution_count": 2,
   "metadata": {},
   "outputs": [],
   "source": [
    "# Connect Neo4j.\n",
    "driver = GraphDatabase.driver('bolt://localhost:7687', auth=('neo4j', 'password'))\n"
   ]
  },
  {
   "cell_type": "code",
   "execution_count": 3,
   "metadata": {},
   "outputs": [],
   "source": [
    "# Load file create_node_dict.json\n",
    "with open('data/create_node_dict.json', 'r', encoding=\"utf-8\") as fp:\n",
    "    create_node_dict = json.load(fp)\n",
    "    fp.close()\n",
    "\n",
    "HOUSE_NODE = create_node_dict[\"HOUSE_NODE\"]\n",
    "TRANSACTION = create_node_dict[\"TRANSACTION\"]\n",
    "PRICE = create_node_dict[\"PRICE\"]\n",
    "AREA = create_node_dict[\"AREA\"]\n",
    "CITY_NODE = create_node_dict[\"CITY_NODE\"]\n",
    "DISTRICT_NODE = create_node_dict[\"DISTRICT_NODE\"]\n",
    "WARD_NODE = create_node_dict[\"WARD_NODE\"]\n",
    "STREET_NODE = create_node_dict[\"STREET_NODE\"]\n",
    "HOUSE_NUMBER_NODE = create_node_dict[\"HOUSE_NUMBER_NODE\"]\n",
    "POTENTIAL = create_node_dict[\"POTENTIAL\"]\n",
    "BATH_ROOM = create_node_dict[\"BATH_ROOM\"]\n",
    "BED_ROOM = create_node_dict[\"BED_ROOM\"]\n",
    "LIVING_ROOM = create_node_dict[\"LIVING_ROOM\"]\n",
    "DIRECTION = create_node_dict[\"DIRECTION\"]\n",
    "FLOOR = create_node_dict[\"FLOOR\"]\n",
    "FLOOR_GAC = create_node_dict[\"FLOOR_GAC\"]\n",
    "FLOOR_TRET = create_node_dict[\"FLOOR_TRET\"]\n",
    "FLOOR_LUNG = create_node_dict[\"FLOOR_LUNG\"]\n",
    "FLOOR_HAM = create_node_dict[\"FLOOR_HAM\"]\n",
    "FLOOR_BAN_CONG = create_node_dict[\"FLOOR_BAN_CONG\"]\n",
    "FLOOR_SAN_THUONG = create_node_dict[\"FLOOR_SAN_THUONG\"]\n",
    "FRONT_LENGTH = create_node_dict[\"FRONT_LENGTH\"]\n",
    "LEGAL = create_node_dict[\"LEGAL\"]\n",
    "POSITION = create_node_dict[\"POSITION\"]\n",
    "PROJECT_NAME = create_node_dict[\"PROJECT_NAME\"]\n",
    "ROAD_WIDTH = create_node_dict[\"ROAD_WIDTH\"]\n",
    "SURROUNDING = create_node_dict[\"SURROUNDING\"]"
   ]
  },
  {
   "cell_type": "code",
   "execution_count": 4,
   "metadata": {},
   "outputs": [],
   "source": [
    "# Run query in Neo4j.\n",
    "def run_query(query):\n",
    "    with driver.session(database=\"htdb\") as session:\n",
    "        result = session.run(query)\n"
   ]
  },
  {
   "cell_type": "code",
   "execution_count": 5,
   "metadata": {},
   "outputs": [],
   "source": [
    "# Generate the query to create the nodes.\n",
    "def gen_query_create_node(link_data, node_label, node_id, node_name, node_alias):\n",
    "    query_create_node = \"LOAD CSV FROM '\"+link_data+\"' AS line \" + \\\n",
    "        \"WITH line skip 1 \" + \\\n",
    "        \"MERGE (n:\"+node_label+\" {\"+node_id+\": line[0]}) \" + \\\n",
    "        \"SET n.\"+node_name+\" = line[1] \"+\"SET n.\"+node_alias+\" = line[2]\"\n",
    "\n",
    "    # print(query_create_node)\n",
    "    run_query(query_create_node)\n"
   ]
  },
  {
   "cell_type": "code",
   "execution_count": 17,
   "metadata": {},
   "outputs": [],
   "source": [
    "# Create nodes house.\n",
    "gen_query_create_node(HOUSE_NODE[\"link\"], HOUSE_NODE[\"label\"], HOUSE_NODE[\"id\"],\n",
    "                  HOUSE_NODE[\"name\"], HOUSE_NODE[\"alias\"])\n"
   ]
  },
  {
   "cell_type": "code",
   "execution_count": null,
   "metadata": {},
   "outputs": [],
   "source": [
    "# Create nodes transaction.\n",
    "gen_query_create_node(TRANSACTION[\"link\"], TRANSACTION[\"label\"], TRANSACTION[\"id\"],\n",
    "                  TRANSACTION[\"name\"], TRANSACTION[\"alias\"])"
   ]
  },
  {
   "cell_type": "code",
   "execution_count": 18,
   "metadata": {},
   "outputs": [],
   "source": [
    "# Create nodes city.\n",
    "gen_query_create_node(CITY_NODE[\"link\"], CITY_NODE[\"label\"], CITY_NODE[\"id\"],\n",
    "                  CITY_NODE[\"name\"], CITY_NODE[\"alias\"])\n"
   ]
  },
  {
   "cell_type": "code",
   "execution_count": 19,
   "metadata": {},
   "outputs": [],
   "source": [
    "# Create nodes district.\n",
    "gen_query_create_node(DISTRICT_NODE[\"link\"], DISTRICT_NODE[\"label\"],\n",
    "                  DISTRICT_NODE[\"id\"], DISTRICT_NODE[\"name\"],\n",
    "                  DISTRICT_NODE[\"alias\"])\n"
   ]
  },
  {
   "cell_type": "code",
   "execution_count": 20,
   "metadata": {},
   "outputs": [],
   "source": [
    "# Create nodes ward.\n",
    "gen_query_create_node(WARD_NODE[\"link\"], WARD_NODE[\"label\"], WARD_NODE[\"id\"],\n",
    "                  WARD_NODE[\"name\"], WARD_NODE[\"alias\"])\n"
   ]
  },
  {
   "cell_type": "code",
   "execution_count": 21,
   "metadata": {},
   "outputs": [],
   "source": [
    "# Create nodes street.\n",
    "gen_query_create_node(STREET_NODE[\"link\"], STREET_NODE[\"label\"], STREET_NODE[\"id\"],\n",
    "                  STREET_NODE[\"name\"], STREET_NODE[\"alias\"])\n"
   ]
  },
  {
   "cell_type": "code",
   "execution_count": null,
   "metadata": {},
   "outputs": [],
   "source": [
    "# Create nodes price.\n",
    "gen_query_create_node(PRICE[\"link\"], PRICE[\"label\"], PRICE[\"id\"], PRICE[\"name\"],\n",
    "                  PRICE[\"alias\"])\n"
   ]
  },
  {
   "cell_type": "code",
   "execution_count": 6,
   "metadata": {},
   "outputs": [],
   "source": [
    "# Create nodes transaction.\n",
    "gen_query_create_node(AREA[\"link\"], AREA[\"label\"], AREA[\"id\"], AREA[\"name\"],\n",
    "                  AREA[\"alias\"])\n"
   ]
  },
  {
   "cell_type": "code",
   "execution_count": 8,
   "metadata": {},
   "outputs": [],
   "source": [
    "# Create nodes potential.\n",
    "gen_query_create_node(POTENTIAL[\"link\"], POTENTIAL[\"label\"], POTENTIAL[\"id\"],\n",
    "                  POTENTIAL[\"name\"], POTENTIAL[\"alias\"])\n"
   ]
  },
  {
   "cell_type": "code",
   "execution_count": 11,
   "metadata": {},
   "outputs": [],
   "source": [
    "# Create nodes bath_room.\n",
    "gen_query_create_node(BATH_ROOM[\"link\"], BATH_ROOM[\"label\"], BATH_ROOM[\"id\"],\n",
    "                  BATH_ROOM[\"name\"], BATH_ROOM[\"alias\"])\n"
   ]
  },
  {
   "cell_type": "code",
   "execution_count": 12,
   "metadata": {},
   "outputs": [],
   "source": [
    "# Create nodes bed_room.\n",
    "gen_query_create_node(BED_ROOM[\"link\"], BED_ROOM[\"label\"], BED_ROOM[\"id\"],\n",
    "                  BED_ROOM[\"name\"], BED_ROOM[\"alias\"])\n"
   ]
  },
  {
   "cell_type": "code",
   "execution_count": 13,
   "metadata": {},
   "outputs": [],
   "source": [
    "# Create nodes living_room.\n",
    "gen_query_create_node(LIVING_ROOM[\"link\"], LIVING_ROOM[\"label\"], LIVING_ROOM[\"id\"],\n",
    "                  LIVING_ROOM[\"name\"], LIVING_ROOM[\"alias\"])\n"
   ]
  },
  {
   "cell_type": "code",
   "execution_count": 15,
   "metadata": {},
   "outputs": [],
   "source": [
    "# Create nodes direction.\n",
    "gen_query_create_node(DIRECTION[\"link\"], DIRECTION[\"label\"], DIRECTION[\"id\"],\n",
    "                  DIRECTION[\"name\"], DIRECTION[\"alias\"])\n"
   ]
  },
  {
   "cell_type": "code",
   "execution_count": 6,
   "metadata": {},
   "outputs": [],
   "source": [
    "# Create nodes floor.\n",
    "gen_query_create_node(FLOOR[\"link\"], FLOOR[\"label\"], FLOOR[\"id\"], FLOOR[\"name\"],\n",
    "                  FLOOR[\"alias\"])\n"
   ]
  },
  {
   "cell_type": "code",
   "execution_count": 8,
   "metadata": {},
   "outputs": [],
   "source": [
    "# Create nodes floor_gac.\n",
    "gen_query_create_node(FLOOR_GAC[\"link\"], FLOOR_GAC[\"label\"], FLOOR_GAC[\"id\"],\n",
    "                  FLOOR_GAC[\"name\"], FLOOR_GAC[\"alias\"])\n"
   ]
  },
  {
   "cell_type": "code",
   "execution_count": 11,
   "metadata": {},
   "outputs": [],
   "source": [
    "# Create nodes floor_tret.\n",
    "gen_query_create_node(FLOOR_TRET[\"link\"], FLOOR_TRET[\"label\"], FLOOR_TRET[\"id\"],\n",
    "                  FLOOR_TRET[\"name\"], FLOOR_TRET[\"alias\"])\n"
   ]
  },
  {
   "cell_type": "code",
   "execution_count": 13,
   "metadata": {},
   "outputs": [],
   "source": [
    "# Create nodes floor_lung.\n",
    "gen_query_create_node(FLOOR_LUNG[\"link\"], FLOOR_LUNG[\"label\"], FLOOR_LUNG[\"id\"],\n",
    "                  FLOOR_LUNG[\"name\"], FLOOR_LUNG[\"alias\"])\n"
   ]
  },
  {
   "cell_type": "code",
   "execution_count": 15,
   "metadata": {},
   "outputs": [],
   "source": [
    "# Create nodes floor_ham.\n",
    "gen_query_create_node(FLOOR_HAM[\"link\"], FLOOR_HAM[\"label\"], FLOOR_HAM[\"id\"],\n",
    "                  FLOOR_HAM[\"name\"], FLOOR_HAM[\"alias\"])\n"
   ]
  },
  {
   "cell_type": "code",
   "execution_count": 17,
   "metadata": {},
   "outputs": [],
   "source": [
    "# Create nodes floor_ban_cong.\n",
    "gen_query_create_node(FLOOR_BAN_CONG[\"link\"], FLOOR_BAN_CONG[\"label\"],\n",
    "                  FLOOR_BAN_CONG[\"id\"], FLOOR_BAN_CONG[\"name\"],\n",
    "                  FLOOR_BAN_CONG[\"alias\"])\n"
   ]
  },
  {
   "cell_type": "code",
   "execution_count": 19,
   "metadata": {},
   "outputs": [],
   "source": [
    "# Create nodes floor_san_thuong.\n",
    "gen_query_create_node(FLOOR_SAN_THUONG[\"link\"], FLOOR_SAN_THUONG[\"label\"],\n",
    "                  FLOOR_SAN_THUONG[\"id\"], FLOOR_SAN_THUONG[\"name\"],\n",
    "                  FLOOR_SAN_THUONG[\"alias\"])\n"
   ]
  },
  {
   "cell_type": "code",
   "execution_count": 21,
   "metadata": {},
   "outputs": [],
   "source": [
    "# Create nodes front_length.\n",
    "gen_query_create_node(FRONT_LENGTH[\"link\"], FRONT_LENGTH[\"label\"],\n",
    "                  FRONT_LENGTH[\"id\"], FRONT_LENGTH[\"name\"],\n",
    "                  FRONT_LENGTH[\"alias\"])\n"
   ]
  },
  {
   "cell_type": "code",
   "execution_count": 23,
   "metadata": {},
   "outputs": [],
   "source": [
    "# Create nodes legal.\n",
    "gen_query_create_node(LEGAL[\"link\"], LEGAL[\"label\"], LEGAL[\"id\"], LEGAL[\"name\"],\n",
    "                  LEGAL[\"alias\"])\n"
   ]
  },
  {
   "cell_type": "code",
   "execution_count": 25,
   "metadata": {},
   "outputs": [],
   "source": [
    "# Create nodes position.\n",
    "gen_query_create_node(POSITION[\"link\"], POSITION[\"label\"], POSITION[\"id\"],\n",
    "                  POSITION[\"name\"], POSITION[\"alias\"])\n"
   ]
  },
  {
   "cell_type": "code",
   "execution_count": 27,
   "metadata": {},
   "outputs": [],
   "source": [
    "# Create nodes project_name.\n",
    "gen_query_create_node(PROJECT_NAME[\"link\"], PROJECT_NAME[\"label\"],\n",
    "                  PROJECT_NAME[\"id\"], PROJECT_NAME[\"name\"],\n",
    "                  PROJECT_NAME[\"alias\"])\n"
   ]
  },
  {
   "cell_type": "code",
   "execution_count": 32,
   "metadata": {},
   "outputs": [],
   "source": [
    "# Create nodes road_width.\n",
    "gen_query_create_node(ROAD_WIDTH[\"link\"], ROAD_WIDTH[\"label\"], ROAD_WIDTH[\"id\"],\n",
    "                  ROAD_WIDTH[\"name\"], ROAD_WIDTH[\"alias\"])\n"
   ]
  },
  {
   "cell_type": "code",
   "execution_count": 34,
   "metadata": {},
   "outputs": [],
   "source": [
    "# Create nodes surrounding.\n",
    "gen_query_create_node(SURROUNDING[\"link\"], SURROUNDING[\"label\"], SURROUNDING[\"id\"],\n",
    "                  SURROUNDING[\"name\"], SURROUNDING[\"alias\"])\n"
   ]
  },
  {
   "cell_type": "code",
   "execution_count": null,
   "metadata": {},
   "outputs": [],
   "source": []
  }
 ],
 "metadata": {
  "kernelspec": {
   "display_name": "Python 3.7.9 64-bit",
   "language": "python",
   "name": "python3"
  },
  "language_info": {
   "codemirror_mode": {
    "name": "ipython",
    "version": 3
   },
   "file_extension": ".py",
   "mimetype": "text/x-python",
   "name": "python",
   "nbconvert_exporter": "python",
   "pygments_lexer": "ipython3",
   "version": "3.7.9"
  },
  "orig_nbformat": 4,
  "vscode": {
   "interpreter": {
    "hash": "5109d816b82be14675a6b11f8e0f0d2e80f029176ed3710d54e125caa8520dfd"
   }
  }
 },
 "nbformat": 4,
 "nbformat_minor": 2
}
