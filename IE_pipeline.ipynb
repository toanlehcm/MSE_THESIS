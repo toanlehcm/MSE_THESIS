{
 "cells": [
  {
   "cell_type": "code",
   "execution_count": 29,
   "metadata": {},
   "outputs": [],
   "source": [
    "import json\n",
    "import urllib\n",
    "import pandas as pd\n",
    "from neo4j import GraphDatabase\n",
    "\n",
    "driver = GraphDatabase.driver('bolt://localhost:7687', auth=('neo4j', 'password'))\n",
    "\n",
    "def run_query(query, params={}):\n",
    "    with driver.session() as session:\n",
    "        result = session.run(query, params)\n",
    "        return pd.DataFrame([r.values() for r in result], columns=result.keys())"
   ]
  },
  {
   "cell_type": "code",
   "execution_count": 11,
   "metadata": {},
   "outputs": [],
   "source": [
    "def ie_pipeline(text, relation_threshold=0.9, entities_threshold=0.8):\n",
    "    # Prepare the URL.\n",
    "    data = urllib.parse.urlencode([\n",
    "        (\"text\", text), (\"relation_threshold\", relation_threshold),\n",
    "        (\"entities_threshold\", entities_threshold)])\n",
    "    \n",
    "    url = \"http://localhost:5000?\" + data\n",
    "    req = urllib.request.Request(url, data=data.encode(\"utf8\"), method=\"GET\")\n",
    "    with urllib.request.urlopen(req, timeout=150) as f:\n",
    "        response = f.read()\n",
    "        response = json.loads(response.decode(\"utf8\"))\n",
    "    # Output the annotations.\n",
    "    return response"
   ]
  },
  {
   "cell_type": "code",
   "execution_count": 13,
   "metadata": {},
   "outputs": [
    {
     "name": "stdout",
     "output_type": "stream",
     "text": [
      "url:  http://localhost:5000?text=%0AElon+Musk+is+a+business+magnate%2C+industrial+designer%2C+and+engineer.%0AHe+is+the+founder%2C+CEO%2C+CTO%2C+and+chief+designer+of+SpaceX.%0AHe+is+also+early+investor%2C+CEO%2C+and+product+architect+of+Tesla%2C+Inc.%0AHe+is+also+the+founder+of+The+Boring+Company+and+the+co-founder+of+Neuralink.+%0AA+centibillionaire%2C+Musk+became+the+richest+person+in+the+world+in+January+2021%2C+with+an+estimated+net+worth+of+%24185+billion+at+the+time%2C+surpassing+Jeff+Bezos.%0AMusk+was+born+to+a+Canadian+mother+and+South+African+father+and+raised+in+Pretoria%2C+South+Africa.%0AHe+briefly+attended+the+University+of+Pretoria+before+moving+to+Canada+aged+17+to+attend+Queen%27s+University.%0AHe+transferred+to+the+University+of+Pennsylvania+two+years+later%2C+where+he+received+dual+bachelor%27s+degrees+in+economics+and+physics.%0AHe+moved+to+California+in+1995+to+attend+Stanford+University%2C+but+decided+instead+to+pursue+a+business+career.%0AHe+went+on+co-founding+a+web+software+company+Zip2+with+his+brother+Kimbal+Musk.%0A++&relation_threshold=0.9&entities_threshold=0.8\n",
      "req:  <urllib.request.Request object at 0x7f7e57c30550>\n"
     ]
    }
   ],
   "source": [
    "example_data = ie_pipeline(\"\"\"\n",
    "Elon Musk is a business magnate, industrial designer, and engineer.\n",
    "He is the founder, CEO, CTO, and chief designer of SpaceX.\n",
    "He is also early investor, CEO, and product architect of Tesla, Inc.\n",
    "He is also the founder of The Boring Company and the co-founder of Neuralink. \n",
    "A centibillionaire, Musk became the richest person in the world in January 2021, with an estimated net worth of $185 billion at the time, surpassing Jeff Bezos.\n",
    "Musk was born to a Canadian mother and South African father and raised in Pretoria, South Africa.\n",
    "He briefly attended the University of Pretoria before moving to Canada aged 17 to attend Queen's University.\n",
    "He transferred to the University of Pennsylvania two years later, where he received dual bachelor's degrees in economics and physics.\n",
    "He moved to California in 1995 to attend Stanford University, but decided instead to pursue a business career.\n",
    "He went on co-founding a web software company Zip2 with his brother Kimbal Musk.\n",
    "  \"\"\")"
   ]
  },
  {
   "cell_type": "code",
   "execution_count": 14,
   "metadata": {},
   "outputs": [
    {
     "name": "stdout",
     "output_type": "stream",
     "text": [
      "{'entities': [{'label': 'Organization', 'title': 'Pretoria', 'wikiId': 'Q3926'}, {'label': 'Organization', 'title': 'Tesla, Inc.', 'wikiId': 'Q478214'}, {'label': 'Person', 'title': 'Jeff Bezos', 'wikiId': 'Q312556'}, {'label': 'Organization', 'title': 'University of Pennsylvania', 'wikiId': 'Q49117'}, {'label': 'Organization', 'title': 'SpaceX', 'wikiId': 'Q193701'}, {'label': 'Organization', 'title': 'The Boring Company', 'wikiId': 'Q28874479'}, {'label': 'Organization', 'title': 'Neuralink', 'wikiId': 'Q29043471'}, {'label': 'Person', 'title': 'Kimbal Musk', 'wikiId': 'Q6409751'}, {'label': 'Organization', 'title': 'Stanford University', 'wikiId': 'Q41506'}, {'label': 'Organization', 'title': 'University of Pretoria', 'wikiId': 'Q604444'}, {'label': 'Person', 'title': 'Elon Musk', 'wikiId': 'Q317521'}], 'relations': [{'source': 'Elon Musk', 'target': 'University of Pennsylvania', 'type': 'work location'}, {'source': 'Elon Musk', 'target': 'University of Pennsylvania', 'type': 'residence'}, {'source': 'Kimbal Musk', 'target': 'Elon Musk', 'type': 'sibling'}, {'source': 'University of Pennsylvania', 'target': 'Elon Musk', 'type': 'residence'}, {'source': 'Tesla, Inc.', 'target': 'Elon Musk', 'type': 'owned by'}, {'source': 'Elon Musk', 'target': 'The Boring Company', 'type': 'owned by'}, {'source': 'Elon Musk', 'target': 'Neuralink', 'type': 'owned by'}, {'source': 'Neuralink', 'target': 'Elon Musk', 'type': 'owned by'}, {'source': 'Elon Musk', 'target': 'University of Pretoria', 'type': 'work location'}, {'source': 'Elon Musk', 'target': 'Kimbal Musk', 'type': 'sibling'}, {'source': 'The Boring Company', 'target': 'Elon Musk', 'type': 'owned by'}, {'source': 'The Boring Company', 'target': 'Neuralink', 'type': 'subsidiary'}, {'source': 'Elon Musk', 'target': 'Tesla, Inc.', 'type': 'owned by'}, {'source': 'The Boring Company', 'target': 'Tesla, Inc.', 'type': 'owned by'}]}\n"
     ]
    }
   ],
   "source": [
    "print(example_data)"
   ]
  },
  {
   "cell_type": "code",
   "execution_count": 30,
   "metadata": {},
   "outputs": [
    {
     "data": {
      "text/html": [
       "<div>\n",
       "<style scoped>\n",
       "    .dataframe tbody tr th:only-of-type {\n",
       "        vertical-align: middle;\n",
       "    }\n",
       "\n",
       "    .dataframe tbody tr th {\n",
       "        vertical-align: top;\n",
       "    }\n",
       "\n",
       "    .dataframe thead th {\n",
       "        text-align: right;\n",
       "    }\n",
       "</style>\n",
       "<table border=\"1\" class=\"dataframe\">\n",
       "  <thead>\n",
       "    <tr style=\"text-align: right;\">\n",
       "      <th></th>\n",
       "      <th>'done'</th>\n",
       "    </tr>\n",
       "  </thead>\n",
       "  <tbody>\n",
       "    <tr>\n",
       "      <th>0</th>\n",
       "      <td>done</td>\n",
       "    </tr>\n",
       "  </tbody>\n",
       "</table>\n",
       "</div>"
      ],
      "text/plain": [
       "  'done'\n",
       "0   done"
      ]
     },
     "execution_count": 30,
     "metadata": {},
     "output_type": "execute_result"
    }
   ],
   "source": [
    "import_direct_query = \"\"\"\n",
    "WITH $data as data\n",
    "UNWIND data.entities as entity\n",
    "MERGE (e:Entity{name:entity.title})\n",
    "ON CREATE SET e.wikiId = entity.wikiId\n",
    "WITH data, entity, e\n",
    "CALL apoc.create.addLabels(e,[entity.label]) YIELD node\n",
    "WITH data, count(*) as break_unwind\n",
    "UNWIND data.relations as relation\n",
    "MERGE (s:Entity{name:relation.source})\n",
    "MERGE (t:Entity{name:relation.target})\n",
    "WITH s,t,relation\n",
    "CALL apoc.create.relationship(s, relation.type, {}, t) \n",
    "YIELD rel\n",
    "RETURN distinct 'done'\n",
    "\"\"\"\n",
    "\n",
    "run_query(import_direct_query, {'data':example_data})"
   ]
  },
  {
   "cell_type": "code",
   "execution_count": 31,
   "metadata": {},
   "outputs": [
    {
     "data": {
      "text/html": [
       "<div>\n",
       "<style scoped>\n",
       "    .dataframe tbody tr th:only-of-type {\n",
       "        vertical-align: middle;\n",
       "    }\n",
       "\n",
       "    .dataframe tbody tr th {\n",
       "        vertical-align: top;\n",
       "    }\n",
       "\n",
       "    .dataframe thead th {\n",
       "        text-align: right;\n",
       "    }\n",
       "</style>\n",
       "<table border=\"1\" class=\"dataframe\">\n",
       "  <thead>\n",
       "    <tr style=\"text-align: right;\">\n",
       "      <th></th>\n",
       "    </tr>\n",
       "  </thead>\n",
       "  <tbody>\n",
       "  </tbody>\n",
       "</table>\n",
       "</div>"
      ],
      "text/plain": [
       "Empty DataFrame\n",
       "Columns: []\n",
       "Index: []"
      ]
     },
     "execution_count": 31,
     "metadata": {},
     "output_type": "execute_result"
    }
   ],
   "source": [
    "\n",
    "run_query(\"MATCH (n) DETACH DELETE n\")\n",
    "run_query(\"CREATE CONSTRAINT IF NOT EXISTS ON (e:Entity) ASSERT e.name IS UNIQUE;\")\n",
    "run_query(\"CREATE INDEX rels IF NOT EXISTS FOR (n:Relation) ON (n.type);\")"
   ]
  },
  {
   "cell_type": "code",
   "execution_count": 33,
   "metadata": {},
   "outputs": [
    {
     "data": {
      "text/html": [
       "<div>\n",
       "<style scoped>\n",
       "    .dataframe tbody tr th:only-of-type {\n",
       "        vertical-align: middle;\n",
       "    }\n",
       "\n",
       "    .dataframe tbody tr th {\n",
       "        vertical-align: top;\n",
       "    }\n",
       "\n",
       "    .dataframe thead th {\n",
       "        text-align: right;\n",
       "    }\n",
       "</style>\n",
       "<table border=\"1\" class=\"dataframe\">\n",
       "  <thead>\n",
       "    <tr style=\"text-align: right;\">\n",
       "      <th></th>\n",
       "      <th>category</th>\n",
       "      <th>filename</th>\n",
       "      <th>title</th>\n",
       "      <th>content</th>\n",
       "    </tr>\n",
       "  </thead>\n",
       "  <tbody>\n",
       "    <tr>\n",
       "      <th>0</th>\n",
       "      <td>business</td>\n",
       "      <td>001.txt</td>\n",
       "      <td>Ad sales boost Time Warner profit</td>\n",
       "      <td>Quarterly profits at US media giant TimeWarne...</td>\n",
       "    </tr>\n",
       "    <tr>\n",
       "      <th>1</th>\n",
       "      <td>business</td>\n",
       "      <td>002.txt</td>\n",
       "      <td>Dollar gains on Greenspan speech</td>\n",
       "      <td>The dollar has hit its highest level against ...</td>\n",
       "    </tr>\n",
       "    <tr>\n",
       "      <th>2</th>\n",
       "      <td>business</td>\n",
       "      <td>003.txt</td>\n",
       "      <td>Yukos unit buyer faces loan claim</td>\n",
       "      <td>The owners of embattled Russian oil giant Yuk...</td>\n",
       "    </tr>\n",
       "    <tr>\n",
       "      <th>3</th>\n",
       "      <td>business</td>\n",
       "      <td>004.txt</td>\n",
       "      <td>High fuel prices hit BA's profits</td>\n",
       "      <td>British Airways has blamed high fuel prices f...</td>\n",
       "    </tr>\n",
       "    <tr>\n",
       "      <th>4</th>\n",
       "      <td>business</td>\n",
       "      <td>005.txt</td>\n",
       "      <td>Pernod takeover talk lifts Domecq</td>\n",
       "      <td>Shares in UK drinks and food firm Allied Dome...</td>\n",
       "    </tr>\n",
       "  </tbody>\n",
       "</table>\n",
       "</div>"
      ],
      "text/plain": [
       "   category filename                              title  \\\n",
       "0  business  001.txt  Ad sales boost Time Warner profit   \n",
       "1  business  002.txt   Dollar gains on Greenspan speech   \n",
       "2  business  003.txt  Yukos unit buyer faces loan claim   \n",
       "3  business  004.txt  High fuel prices hit BA's profits   \n",
       "4  business  005.txt  Pernod takeover talk lifts Domecq   \n",
       "\n",
       "                                             content  \n",
       "0   Quarterly profits at US media giant TimeWarne...  \n",
       "1   The dollar has hit its highest level against ...  \n",
       "2   The owners of embattled Russian oil giant Yuk...  \n",
       "3   British Airways has blamed high fuel prices f...  \n",
       "4   Shares in UK drinks and food firm Allied Dome...  "
      ]
     },
     "execution_count": 33,
     "metadata": {},
     "output_type": "execute_result"
    }
   ],
   "source": [
    "data = pd.read_csv('bbc-news-data.csv', delimiter='\\t')\n",
    "data.head()"
   ]
  },
  {
   "cell_type": "code",
   "execution_count": 34,
   "metadata": {},
   "outputs": [],
   "source": [
    "import_refactored_query = \"\"\"\n",
    "UNWIND $params as value\n",
    "CREATE (a:Article{content:value.content})\n",
    "FOREACH (rel in value.ie.relations | \n",
    "  MERGE (s:Entity{name:rel.source})\n",
    "  MERGE (t:Entity{name:rel.target})\n",
    "  MERGE (s)-[:RELATION]->(r:Relation{type:rel.type})-[:RELATION]->(t)\n",
    "  MERGE (a)-[:MENTIONS_REL]->(r))\n",
    "WITH value, a\n",
    "UNWIND value.ie.entities as entity\n",
    "MERGE (e:Entity{name:entity.title})\n",
    "SET e.wikiId = entity.wikiId\n",
    "MERGE (a)-[:MENTIONS_ENT]->(e)\n",
    "WITH entity, e\n",
    "CALL apoc.create.addLabels(e,[entity.label]) YIELD node\n",
    "RETURN distinct 'done'\n",
    "\"\"\""
   ]
  },
  {
   "cell_type": "code",
   "execution_count": 37,
   "metadata": {},
   "outputs": [
    {
     "name": "stdout",
     "output_type": "stream",
     "text": [
      "url:  http://localhost:5000?text=+Quarterly+profits+at+US+media+giant+TimeWarner+jumped+76%25+to+%241.13bn+%28%C2%A3600m%29+for+the+three+months+to+December%2C+from+%24639m+year-earlier.++The+firm%2C+which+is+now+one+of+the+biggest+investors+in+Google%2C+benefited+from+sales+of+high-speed+internet+connections+and+higher+advert+sales.+TimeWarner+said+fourth+quarter+sales+rose+2%25+to+%2411.1bn+from+%2410.9bn.+Its+profits+were+buoyed+by+one-off+gains+which+offset+a+profit+dip+at+Warner+Bros%2C+and+less+users+for+AOL.++Time+Warner+said+on+Friday+that+it+now+owns+8%25+of+search-engine+Google.+But+its+own+internet+business%2C+AOL%2C+had+has+mixed+fortunes.+It+lost+464%2C000+subscribers+in+the+fourth+quarter+profits+were+lower+than+in+the+preceding+three+quarters.+However%2C+the+company+said+AOL%27s+underlying+profit+before+exceptional+items+rose+8%25+on+the+back+of+stronger+internet+advertising+revenues.+It+hopes+to+increase+subscribers+by+offering+the+online+service+free+to+TimeWarner+internet+customers+and+will+try+to+sign+up+AOL%27s+existing+customers+for+high-speed+broadband.+TimeWarner+also+has+to+restate+2000+and+2003+results+following+a+probe+by+the+US+Securities+Exchange+Commission+%28SEC%29%2C+which+is+close+to+concluding.++Time+Warner%27s+fourth+quarter+profits+were+slightly+better+than+analysts%27+expectations.+But+its+film+division+saw+profits+slump+27%25+to+%24284m%2C+helped+by+box-office+flops+Alexander+and+Catwoman%2C+a+sharp+contrast+to+year-earlier%2C+when+the+third+and+final+film+in+the+Lord+of+the+Rings+trilogy+boosted+results.+For+the+full-year%2C+TimeWarner+posted+a+profit+of+%243.36bn%2C+up+27%25+from+its+2003+performance%2C+while+revenues+grew+6.4%25+to+%2442.09bn.+%22Our+financial+performance+was+strong%2C+meeting+or+exceeding+all+of+our+full-year+objectives+and+greatly+enhancing+our+flexibility%2C%22+chairman+and+chief+executive+Richard+Parsons+said.+For+2005%2C+TimeWarner+is+projecting+operating+earnings+growth+of+around+5%25%2C+and+also+expects+higher+revenue+and+wider+profit+margins.++TimeWarner+is+to+restate+its+accounts+as+part+of+efforts+to+resolve+an+inquiry+into+AOL+by+US+market+regulators.+It+has+already+offered+to+pay+%24300m+to+settle+charges%2C+in+a+deal+that+is+under+review+by+the+SEC.+The+company+said+it+was+unable+to+estimate+the+amount+it+needed+to+set+aside+for+legal+reserves%2C+which+it+previously+set+at+%24500m.+It+intends+to+adjust+the+way+it+accounts+for+a+deal+with+German+music+publisher+Bertelsmann%27s+purchase+of+a+stake+in+AOL+Europe%2C+which+it+had+reported+as+advertising+revenue.+It+will+now+book+the+sale+of+its+stake+in+AOL+Europe+as+a+loss+on+the+value+of+that+stake.+&relation_threshold=0.9&entities_threshold=0.8\n",
      "req:  <urllib.request.Request object at 0x7f7e39ac6e20>\n",
      "url:  http://localhost:5000?text=+The+dollar+has+hit+its+highest+level+against+the+euro+in+almost+three+months+after+the+Federal+Reserve+head+said+the+US+trade+deficit+is+set+to+stabilise.++And+Alan+Greenspan+highlighted+the+US+government%27s+willingness+to+curb+spending+and+rising+household+savings+as+factors+which+may+help+to+reduce+it.+In+late+trading+in+New+York%2C+the+dollar+reached+%241.2871+against+the+euro%2C+from+%241.2974+on+Thursday.+Market+concerns+about+the+deficit+has+hit+the+greenback+in+recent+months.+On+Friday%2C+Federal+Reserve+chairman+Mr+Greenspan%27s+speech+in+London+ahead+of+the+meeting+of+G7+finance+ministers+sent+the+dollar+higher+after+it+had+earlier+tumbled+on+the+back+of+worse-than-expected+US+jobs+data.+%22I+think+the+chairman%27s+taking+a+much+more+sanguine+view+on+the+current+account+deficit+than+he%27s+taken+for+some+time%2C%22+said+Robert+Sinche%2C+head+of+currency+strategy+at+Bank+of+America+in+New+York.+%22He%27s+taking+a+longer-term+view%2C+laying+out+a+set+of+conditions+under+which+the+current+account+deficit+can+improve+this+year+and+next.%22++Worries+about+the+deficit+concerns+about+China+do%2C+however%2C+remain.+China%27s+currency+remains+pegged+to+the+dollar+and+the+US+currency%27s+sharp+falls+in+recent+months+have+therefore+made+Chinese+export+prices+highly+competitive.+But+calls+for+a+shift+in+Beijing%27s+policy+have+fallen+on+deaf+ears%2C+despite+recent+comments+in+a+major+Chinese+newspaper+that+the+%22time+is+ripe%22+for+a+loosening+of+the+peg.+The+G7+meeting+is+thought+unlikely+to+produce+any+meaningful+movement+in+Chinese+policy.+In+the+meantime%2C+the+US+Federal+Reserve%27s+decision+on+2+February+to+boost+interest+rates+by+a+quarter+of+a+point+-+the+sixth+such+move+in+as+many+months+-+has+opened+up+a+differential+with+European+rates.+The+half-point+window%2C+some+believe%2C+could+be+enough+to+keep+US+assets+looking+more+attractive%2C+and+could+help+prop+up+the+dollar.+The+recent+falls+have+partly+been+the+result+of+big+budget+deficits%2C+as+well+as+the+US%27s+yawning+current+account+gap%2C+both+of+which+need+to+be+funded+by+the+buying+of+US+bonds+and+assets+by+foreign+firms+and+governments.+The+White+House+will+announce+its+budget+on+Monday%2C+and+many+commentators+believe+the+deficit+will+remain+at+close+to+half+a+trillion+dollars.+&relation_threshold=0.9&entities_threshold=0.8\n",
      "req:  <urllib.request.Request object at 0x7f7e39ac6730>\n",
      "url:  http://localhost:5000?text=+The+owners+of+embattled+Russian+oil+giant+Yukos+are+to+ask+the+buyer+of+its+former+production+unit+to+pay+back+a+%24900m+%28%C2%A3479m%29+loan.++State-owned+Rosneft+bought+the+Yugansk+unit+for+%249.3bn+in+a+sale+forced+by+Russia+to+part+settle+a+%2427.5bn+tax+claim+against+Yukos.+Yukos%27+owner+Menatep+Group+says+it+will+ask+Rosneft+to+repay+a+loan+that+Yugansk+had+secured+on+its+assets.+Rosneft+already+faces+a+similar+%24540m+repayment+demand+from+foreign+banks.+Legal+experts+said+Rosneft%27s+purchase+of+Yugansk+would+include+such+obligations.+%22The+pledged+assets+are+with+Rosneft%2C+so+it+will+have+to+pay+real+money+to+the+creditors+to+avoid+seizure+of+Yugansk+assets%2C%22+said+Moscow-based+US+lawyer+Jamie+Firestone%2C+who+is+not+connected+to+the+case.+Menatep+Group%27s+managing+director+Tim+Osborne+told+the+Reuters+news+agency%3A+%22If+they+default%2C+we+will+fight+them+where+the+rule+of+law+exists+under+the+international+arbitration+clauses+of+the+credit.%22++Rosneft+officials+were+unavailable+for+comment.+But+the+company+has+said+it+intends+to+take+action+against+Menatep+to+recover+some+of+the+tax+claims+and+debts+owed+by+Yugansk.+Yukos+had+filed+for+bankruptcy+protection+in+a+US+court+in+an+attempt+to+prevent+the+forced+sale+of+its+main+production+arm.+The+sale+went+ahead+in+December+and+Yugansk+was+sold+to+a+little-known+shell+company+which+in+turn+was+bought+by+Rosneft.+Yukos+claims+its+downfall+was+punishment+for+the+political+ambitions+of+its+founder+Mikhail+Khodorkovsky+and+has+vowed+to+sue+any+participant+in+the+sale.+&relation_threshold=0.9&entities_threshold=0.8\n",
      "req:  <urllib.request.Request object at 0x7f7e39ac65b0>\n",
      "url:  http://localhost:5000?text=+British+Airways+has+blamed+high+fuel+prices+for+a+40%25+drop+in+profits.++Reporting+its+results+for+the+three+months+to+31+December+2004%2C+the+airline+made+a+pre-tax+profit+of+%C2%A375m+%28%24141m%29+compared+with+%C2%A3125m+a+year+earlier.+Rod+Eddington%2C+BA%27s+chief+executive%2C+said+the+results+were+%22respectable%22+in+a+third+quarter+when+fuel+costs+rose+by+%C2%A3106m+or+47.3%25.+BA%27s+profits+were+still+better+than+market+expectation+of+%C2%A359m%2C+and+it+expects+a+rise+in+full-year+revenues.++To+help+offset+the+increased+price+of+aviation+fuel%2C+BA+last+year+introduced+a+fuel+surcharge+for+passengers.++In+October%2C+it+increased+this+from+%C2%A36+to+%C2%A310+one-way+for+all+long-haul+flights%2C+while+the+short-haul+surcharge+was+raised+from+%C2%A32.50+to+%C2%A34+a+leg.+Yet+aviation+analyst+Mike+Powell+of+Dresdner+Kleinwort+Wasserstein+says+BA%27s+estimated+annual+surcharge+revenues+-+%C2%A3160m+-+will+still+be+way+short+of+its+additional+fuel+costs+-+a+predicted+extra+%C2%A3250m.+Turnover+for+the+quarter+was+up+4.3%25+to+%C2%A31.97bn%2C+further+benefiting+from+a+rise+in+cargo+revenue.+Looking+ahead+to+its+full+year+results+to+March+2005%2C+BA+warned+that+yields+-+average+revenues+per+passenger+-+were+expected+to+decline+as+it+continues+to+lower+prices+in+the+face+of+competition+from+low-cost+carriers.+However%2C+it+said+sales+would+be+better+than+previously+forecast.+%22For+the+year+to+March+2005%2C+the+total+revenue+outlook+is+slightly+better+than+previous+guidance+with+a+3%25+to+3.5%25+improvement+anticipated%2C%22+BA+chairman+Martin+Broughton+said.+BA+had+previously+forecast+a+2%25+to+3%25+rise+in+full-year+revenue.++It+also+reported+on+Friday+that+passenger+numbers+rose+8.1%25+in+January.+Aviation+analyst+Nick+Van+den+Brul+of+BNP+Paribas+described+BA%27s+latest+quarterly+results+as+%22pretty+modest%22.+%22It+is+quite+good+on+the+revenue+side+and+it+shows+the+impact+of+fuel+surcharges+and+a+positive+cargo+development%2C+however%2C+operating+margins+down+and+cost+impact+of+fuel+are+very+strong%2C%22+he+said.+Since+the+11+September+2001+attacks+in+the+United+States%2C+BA+has+cut+13%2C000+jobs+as+part+of+a+major+cost-cutting+drive.+%22Our+focus+remains+on+reducing+controllable+costs+and+debt+whilst+continuing+to+invest+in+our+products%2C%22+Mr+Eddington+said.+%22For+example%2C+we+have+taken+delivery+of+six+Airbus+A321+aircraft+and+next+month+we+will+start+further+improvements+to+our+Club+World+flat+beds.%22+BA%27s+shares+closed+up+four+pence+at+274.5+pence.+&relation_threshold=0.9&entities_threshold=0.8\n",
      "req:  <urllib.request.Request object at 0x7f7e39ac64f0>\n",
      "url:  http://localhost:5000?text=+Shares+in+UK+drinks+and+food+firm+Allied+Domecq+have+risen+on+speculation+that+it+could+be+the+target+of+a+takeover+by+France%27s+Pernod+Ricard.++Reports+in+the+Wall+Street+Journal+and+the+Financial+Times+suggested+that+the+French+spirits+firm+is+considering+a+bid%2C+but+has+yet+to+contact+its+target.+Allied+Domecq+shares+in+London+rose+4%25+by+1200+GMT%2C+while+Pernod+shares+in+Paris+slipped+1.2%25.+Pernod+said+it+was+seeking+acquisitions+but+refused+to+comment+on+specifics.++Pernod%27s+last+major+purchase+was+a+third+of+US+giant+Seagram+in+2000%2C+the+move+which+propelled+it+into+the+global+top+three+of+drinks+firms.+The+other+two-thirds+of+Seagram+was+bought+by+market+leader+Diageo.+In+terms+of+market+value%2C+Pernod+-+at+7.5bn+euros+%28%249.7bn%29+-+is+about+9%25+smaller+than+Allied+Domecq%2C+which+has+a+capitalisation+of+%C2%A35.7bn+%28%2410.7bn%3B+8.2bn+euros%29.+Last+year+Pernod+tried+to+buy+Glenmorangie%2C+one+of+Scotland%27s+premier+whisky+firms%2C+but+lost+out+to+luxury+goods+firm+LVMH.+Pernod+is+home+to+brands+including+Chivas+Regal+Scotch+whisky%2C+Havana+Club+rum+and+Jacob%27s+Creek+wine.+Allied+Domecq%27s+big+names+include+Malibu+rum%2C+Courvoisier+brandy%2C+Stolichnaya+vodka+and+Ballantine%27s+whisky+-+as+well+as+snack+food+chains+such+as+Dunkin%27+Donuts+and+Baskin-Robbins+ice+cream.+The+WSJ+said+that+the+two+were+ripe+for+consolidation%2C+having+each+dealt+with+problematic+parts+of+their+portfolio.+Pernod+has+reduced+the+debt+it+took+on+to+fund+the+Seagram+purchase+to+just+1.8bn+euros%2C+while+Allied+has+improved+the+performance+of+its+fast-food+chains.+&relation_threshold=0.9&entities_threshold=0.8\n",
      "req:  <urllib.request.Request object at 0x7f7e39ac62b0>\n"
     ]
    }
   ],
   "source": [
    "with driver.session() as session:\n",
    "    params = []\n",
    "    for i,article in list(data.iterrows())[:5]:\n",
    "        content = article['content']\n",
    "        ie_data = ie_pipeline(content)\n",
    "        params.append({'content':content, 'ie':ie_data})\n",
    "\n",
    "        if (len(params) % 100 == 0):\n",
    "            session.run(import_refactored_query, {'params':params})\n",
    "            params = []\n",
    "\n",
    "    # session.run(update_query, {'params':params})"
   ]
  },
  {
   "cell_type": "code",
   "execution_count": 1,
   "metadata": {},
   "outputs": [],
   "source": [
    "# print(params)"
   ]
  }
 ],
 "metadata": {
  "kernelspec": {
   "display_name": "Python 3.9.4 64-bit",
   "language": "python",
   "name": "python3"
  },
  "language_info": {
   "codemirror_mode": {
    "name": "ipython",
    "version": 3
   },
   "file_extension": ".py",
   "mimetype": "text/x-python",
   "name": "python",
   "nbconvert_exporter": "python",
   "pygments_lexer": "ipython3",
   "version": "3.9.4"
  },
  "orig_nbformat": 4,
  "vscode": {
   "interpreter": {
    "hash": "aee8b7b246df8f9039afb4144a1f6fd8d2ca17a180786b69acc140d282b71a49"
   }
  }
 },
 "nbformat": 4,
 "nbformat_minor": 2
}
