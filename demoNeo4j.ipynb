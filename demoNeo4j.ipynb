{
 "cells": [
  {
   "cell_type": "code",
   "execution_count": 22,
   "metadata": {},
   "outputs": [],
   "source": [
    "from neo4j import GraphDatabase"
   ]
  },
  {
   "cell_type": "code",
   "execution_count": 39,
   "metadata": {},
   "outputs": [],
   "source": [
    "# Database Credentials\n",
    "\n",
    "uri             = \"bolt://localhost:7687\"\n",
    "\n",
    "userName        = \"neo4j\"\n",
    "\n",
    "password        = \"password\""
   ]
  },
  {
   "cell_type": "code",
   "execution_count": 42,
   "metadata": {},
   "outputs": [],
   "source": [
    "# Connect to the neo4j database server\n",
    "\n",
    "graphDB_Driver = GraphDatabase.driver(uri, auth=(userName, password))"
   ]
  },
  {
   "cell_type": "code",
   "execution_count": 43,
   "metadata": {},
   "outputs": [],
   "source": [
    "# CQL to query all the universities present in the graph\n",
    "\n",
    "cqlNodeQuery = \"MATCH (x:university) RETURN x\""
   ]
  },
  {
   "cell_type": "code",
   "execution_count": 44,
   "metadata": {},
   "outputs": [],
   "source": [
    "# CQL to query the distances from Yale to some of the other Ivy League universities\n",
    "\n",
    "cqlEdgeQuery = \"MATCH (x:university {name:'Yale University'})-[r]->(y:university) RETURN y.name,r.miles\""
   ]
  },
  {
   "cell_type": "code",
   "execution_count": 45,
   "metadata": {},
   "outputs": [],
   "source": [
    "# CQL to create a graph containing some of the Ivy League universities\n",
    "\n",
    "cqlCreate = \"\"\"CREATE (cornell:university { name: \"Cornell University\"}),\n",
    "\n",
    "(yale:university { name: \"Yale University\"}),\n",
    "\n",
    "(princeton:university { name: \"Princeton University\"}),\n",
    "\n",
    "(harvard:university { name: \"Harvard University\"}),\n",
    "\n",
    " \n",
    "\n",
    "(cornell)-[:connects_in {miles: 259}]->(yale),\n",
    "\n",
    "(cornell)-[:connects_in {miles: 210}]->(princeton),\n",
    "\n",
    "(cornell)-[:connects_in {miles: 327}]->(harvard),\n",
    "\n",
    " \n",
    "\n",
    "(yale)-[:connects_in {miles: 259}]->(cornell),\n",
    "\n",
    "(yale)-[:connects_in {miles: 133}]->(princeton),\n",
    "\n",
    "(yale)-[:connects_in {miles: 133}]->(harvard),\n",
    "\n",
    " \n",
    "\n",
    "(harvard)-[:connects_in {miles: 327}]->(cornell),\n",
    "\n",
    "(harvard)-[:connects_in {miles: 133}]->(yale),\n",
    "\n",
    "(harvard)-[:connects_in {miles: 260}]->(princeton),\n",
    "\n",
    " \n",
    "\n",
    "(princeton)-[:connects_in {miles: 210}]->(cornell),\n",
    "\n",
    "(princeton)-[:connects_in {miles: 133}]->(yale),\n",
    "\n",
    "(princeton)-[:connects_in {miles: 260}]->(harvard)\"\"\""
   ]
  },
  {
   "cell_type": "code",
   "execution_count": 46,
   "metadata": {},
   "outputs": [
    {
     "name": "stdout",
     "output_type": "stream",
     "text": [
      "List of Ivy League universities present in the graph:\n",
      "<Record x=<Node id=525 labels=frozenset({'university'}) properties={'name': 'Cornell University'}>>\n",
      "<Record x=<Node id=526 labels=frozenset({'university'}) properties={'name': 'Yale University'}>>\n",
      "<Record x=<Node id=527 labels=frozenset({'university'}) properties={'name': 'Princeton University'}>>\n",
      "<Record x=<Node id=528 labels=frozenset({'university'}) properties={'name': 'Harvard University'}>>\n",
      "Distance from Yale University to the other Ivy League universities present in the graph:\n",
      "<Record y.name='Harvard University' r.miles=133>\n",
      "<Record y.name='Princeton University' r.miles=133>\n",
      "<Record y.name='Cornell University' r.miles=259>\n"
     ]
    }
   ],
   "source": [
    "# Execute the CQL query\n",
    "\n",
    "with graphDB_Driver.session() as graphDB_Session:\n",
    "\n",
    "    # Create nodes\n",
    "\n",
    "    graphDB_Session.run(cqlCreate)\n",
    "\n",
    "   \n",
    "\n",
    "    # Query the graph    \n",
    "\n",
    "    nodes = graphDB_Session.run(cqlNodeQuery)\n",
    "\n",
    "   \n",
    "\n",
    "    print(\"List of Ivy League universities present in the graph:\")\n",
    "\n",
    "    for node in nodes:\n",
    "\n",
    "        print(node)\n",
    "\n",
    " \n",
    "\n",
    "    # Query the relationships present in the graph\n",
    "\n",
    "    nodes = graphDB_Session.run(cqlEdgeQuery)\n",
    "\n",
    "   \n",
    "\n",
    "    print(\"Distance from Yale University to the other Ivy League universities present in the graph:\")\n",
    "\n",
    "    for node in nodes:\n",
    "\n",
    "        print(node)"
   ]
  },
  {
   "cell_type": "code",
   "execution_count": 38,
   "metadata": {},
   "outputs": [],
   "source": [
    "# driver = GraphDatabase.driver(uri = \"neo4j://localhost:7687\", auth=(\"neo4j\", \"password\"))\n",
    "\n",
    "# def add_friend(tx, name, friend_name):\n",
    "#     tx.run(\"MERGE (a:Person {name: $name}) \"\n",
    "#            \"MERGE (a)-[:KNOWS]->(friend:Person {name: $friend_name})\",\n",
    "#            name=name, friend_name=friend_name)\n",
    "\n",
    "# def print_friends(tx, name):\n",
    "#     for record in tx.run(\"MATCH (a:Person)-[:KNOWS]->(friend) WHERE a.name = $name \"\n",
    "#                          \"RETURN friend.name ORDER BY friend.name\", name=name):\n",
    "#         print(record[\"friend.name\"])\n",
    "\n",
    "# with driver.session() as session:\n",
    "#     session.write_transaction(add_friend, \"Arthur\", \"Guinevere\")\n",
    "#     session.write_transaction(add_friend, \"Arthur\", \"Lancelot\")\n",
    "#     session.write_transaction(add_friend, \"Arthur\", \"Merlin\")\n",
    "#     session.read_transaction(print_friends, \"Arthur\")\n",
    "\n",
    "# driver.close()"
   ]
  },
  {
   "cell_type": "code",
   "execution_count": 37,
   "metadata": {},
   "outputs": [],
   "source": [
    "# class HelloWorldExample:\n",
    "#   def __init__(self, uri, user, password):\n",
    "#     self.driver = GraphDatabase.driver(uri, auth=(user, password))\n",
    "    \n",
    "#   def close(self):\n",
    "#     self.driver.close()\n",
    "    \n",
    "#   def print_greeting(self, message):\n",
    "#     with self.driver.session() as session:\n",
    "#       greeting = session.write_transaction(self._create_and_return_greeting, message)\n",
    "#       print(greeting)\n",
    "      \n",
    "#   @staticmethod\n",
    "#   def _create_and_return_greeting(tx, message):\n",
    "#     result = tx.run(\"CREATE (a:Greeting) \"\n",
    "#                     \"SET a.message = $message \"\n",
    "#                     \"RETURN a.message + ', from node ' + id(a)\", message = message)\n",
    "#     return result.single()[0]\n",
    "  \n",
    "# if __name__ == \"__main__\":\n",
    "#   greeter = HelloWorldExample(\"bolt://localhost:7687\", \"neo4j\", \"password\")\n",
    "#   greeter.print_greeting(\"hello, world\")\n",
    "#   greeter.close()"
   ]
  },
  {
   "cell_type": "code",
   "execution_count": null,
   "metadata": {},
   "outputs": [],
   "source": []
  }
 ],
 "metadata": {
  "interpreter": {
   "hash": "aee8b7b246df8f9039afb4144a1f6fd8d2ca17a180786b69acc140d282b71a49"
  },
  "kernelspec": {
   "display_name": "Python 3.9.4 64-bit",
   "language": "python",
   "name": "python3"
  },
  "language_info": {
   "codemirror_mode": {
    "name": "ipython",
    "version": 3
   },
   "file_extension": ".py",
   "mimetype": "text/x-python",
   "name": "python",
   "nbconvert_exporter": "python",
   "pygments_lexer": "ipython3",
   "version": "3.7.9"
  },
  "orig_nbformat": 4
 },
 "nbformat": 4,
 "nbformat_minor": 2
}
