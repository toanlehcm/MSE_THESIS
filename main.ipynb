{
 "cells": [
  {
   "cell_type": "code",
   "execution_count": 36,
   "metadata": {},
   "outputs": [
    {
     "data": {
      "text/plain": [
       "False"
      ]
     },
     "execution_count": 36,
     "metadata": {},
     "output_type": "execute_result"
    }
   ],
   "source": [
    "import json\n",
    "import prettytable\n",
    "from neo4j import GraphDatabase\n",
    "from dotenv import load_dotenv\n",
    "from gen_query import handle_gen_query\n",
    "import util\n",
    "from get_entities import handle_get_entities\n",
    "\n",
    "load_dotenv()\n"
   ]
  },
  {
   "cell_type": "code",
   "execution_count": 41,
   "metadata": {},
   "outputs": [],
   "source": [
    "# Connect neo4j DB.\n",
    "driver = GraphDatabase.driver('bolt://localhost:7687',\n",
    "                              auth=('neo4j', 'password'))\n"
   ]
  },
  {
   "cell_type": "code",
   "execution_count": 42,
   "metadata": {},
   "outputs": [],
   "source": [
    "def gen_query_ontology(text):\n",
    "    table = prettytable.PrettyTable([\"Step\", \"Result\"])\n",
    "    table.max_width = 80\n",
    "    table.add_row([\"Input\", text])\n",
    "\n",
    "    concepts = util.get_concepts(text)\n",
    "\n",
    "    match_relation = util.get_match_relation(concepts.keys())\n",
    "\n",
    "    evidences = handle_get_entities(text)\n",
    "\n",
    "    table.add_rows([[\"Match alias\", concepts], [\"Find individuals\",\n",
    "                                                evidences]])\n",
    "\n",
    "    targets = list(set(concepts.keys()).difference(set(evidences.keys())))\n",
    "    table.add_row([\"Target concepts\", targets])\n",
    "\n",
    "    query = handle_gen_query(concepts.keys(), evidences, match_relation)\n",
    "    table.add_row([\"Query\", query])\n",
    "\n",
    "    print(table)\n",
    "    # print(query)\n",
    "    return query"
   ]
  },
  {
   "cell_type": "code",
   "execution_count": 43,
   "metadata": {},
   "outputs": [],
   "source": [
    "def run_query(query):\n",
    "    with driver.session(database=\"htdb\") as session:\n",
    "        results = session.run(query)\n",
    "\n",
    "        table_results = prettytable.PrettyTable(results.keys())\n",
    "        table_results.max_width = 60\n",
    "        for r in results:\n",
    "            table_results.add_row(r.values())\n",
    "\n",
    "        print(table_results)\n",
    "        # return table_results"
   ]
  },
  {
   "cell_type": "code",
   "execution_count": 60,
   "metadata": {},
   "outputs": [],
   "source": [
    "with open('data/question_dict.json', 'r', encoding=\"utf-8\") as fp:\n",
    "    question_dict = json.load(fp)\n",
    "    fp.close()\n",
    "\n",
    "REAL_ESTATE_TYPE = question_dict[\"real_estate_type\"]\n",
    "PRICE = question_dict[\"price\"]\n",
    "AREA = question_dict[\"area\"]\n",
    "DISTRICT = question_dict[\"district\"]\n",
    "BED_ROOM = question_dict[\"bed_room\"]\n",
    "FLOOR = question_dict[\"floor\"]\n",
    "LEGAL = question_dict[\"legal\"]\n",
    "POSITION = question_dict[\"position\"]\n",
    "LOCATION = question_dict[\"location\"]\n",
    "POTENTIAL = question_dict[\"potential\"]"
   ]
  },
  {
   "cell_type": "code",
   "execution_count": 61,
   "metadata": {},
   "outputs": [
    {
     "name": "stdout",
     "output_type": "stream",
     "text": [
      "+------------------+----------------------------------------------------------------------------------+\n",
      "|       Step       |                                      Result                                      |\n",
      "+------------------+----------------------------------------------------------------------------------+\n",
      "|      Input       |                nhà hoặc căn hộ giá khoảng 2 tỷ thì mua ở quận nào                |\n",
      "|   Match alias    | {'real_estate_type': 'căn hộ', 'transaction': 'mua', 'price': 'giá', 'district': |\n",
      "|                  |                                  'ở quận nào'}                                   |\n",
      "| Find individuals |     {'real_estate_type': ['nha', 'can ho'], 'price': [(2000000000.0, None)],     |\n",
      "|                  |                             'transaction': ['mua']}                              |\n",
      "| Target concepts  |                                   ['district']                                   |\n",
      "|      Query       |                                                                                  |\n",
      "|                  |             MATCH (real_estate_type:House)-->(transaction:Transaction),          |\n",
      "|                  |                    (real_estate_type:House)-->(price:Price),                     |\n",
      "|                  |                  (real_estate_type:House)-->(district:District)                  |\n",
      "|                  |               WHERE real_estate_type.individual IN ['nha', 'can ho']             |\n",
      "|                  |                       AND transaction.individual = 'mua'                         |\n",
      "|                  |             AND '1800000000.0' <= price.individual <= '2200000000.0'             |\n",
      "|                  |               RETURN collect(distinct district.individual) AS District           |\n",
      "|                  |                                       LIMIT 50                                   |\n",
      "|                  |                                                                                  |\n",
      "+------------------+----------------------------------------------------------------------------------+\n",
      "+----------------------------------------------------+\n",
      "|                      District                      |\n",
      "+----------------------------------------------------+\n",
      "| ['hoang mai', '5 tu liem', 'long bien', 'kien an'] |\n",
      "+----------------------------------------------------+\n",
      "----------------##########################################----------------\n",
      "+------------------+----------------------------------------------------------------------------------+\n",
      "|       Step       |                                      Result                                      |\n",
      "+------------------+----------------------------------------------------------------------------------+\n",
      "|      Input       |             nhà hoặc căn hộ giá từ 2 tỷ đến 3 tỷ thì mua ở quận nào              |\n",
      "|   Match alias    | {'real_estate_type': 'căn hộ', 'transaction': 'mua', 'price': 'giá', 'district': |\n",
      "|                  |                                  'ở quận nào'}                                   |\n",
      "| Find individuals | {'real_estate_type': ['nha', 'can ho'], 'price': [(2000000000.0, 3000000000.0)], |\n",
      "|                  |                             'transaction': ['mua']}                              |\n",
      "| Target concepts  |                                   ['district']                                   |\n",
      "|      Query       |                                                                                  |\n",
      "|                  |             MATCH (real_estate_type:House)-->(transaction:Transaction),          |\n",
      "|                  |                    (real_estate_type:House)-->(price:Price),                     |\n",
      "|                  |                  (real_estate_type:House)-->(district:District)                  |\n",
      "|                  |               WHERE real_estate_type.individual IN ['nha', 'can ho']             |\n",
      "|                  |                       AND transaction.individual = 'mua'                         |\n",
      "|                  |             AND '2000000000.0' <= price.individual <= '3000000000.0'             |\n",
      "|                  |               RETURN collect(distinct district.individual) AS District           |\n",
      "|                  |                                       LIMIT 50                                   |\n",
      "|                  |                                                                                  |\n",
      "+------------------+----------------------------------------------------------------------------------+\n",
      "+----------------------------------------------------+\n",
      "|                      District                      |\n",
      "+----------------------------------------------------+\n",
      "| ['hoang mai', '5 tu liem', 'long bien', 'kien an'] |\n",
      "+----------------------------------------------------+\n",
      "----------------##########################################----------------\n",
      "+------------------+----------------------------------------------------------------------------------+\n",
      "|       Step       |                                      Result                                      |\n",
      "+------------------+----------------------------------------------------------------------------------+\n",
      "|      Input       |      nhà hoặc căn hộ giá khoang 1 ti 2, 1 ti 3 toi 2 ti thì mua ở quận nào       |\n",
      "|   Match alias    | {'real_estate_type': 'căn hộ', 'transaction': 'mua', 'price': 'giá', 'district': |\n",
      "|                  |                                  'ở quận nào'}                                   |\n",
      "| Find individuals | {'real_estate_type': ['can ho'], 'price': [(1200000000.0, None), (1300000000.0,  |\n",
      "|                  |                         None)], 'transaction': ['mua']}                          |\n",
      "| Target concepts  |                                   ['district']                                   |\n",
      "|      Query       |                                                                                  |\n",
      "|                  |             MATCH (real_estate_type:House)-->(transaction:Transaction),          |\n",
      "|                  |                    (real_estate_type:House)-->(price:Price),                     |\n",
      "|                  |                  (real_estate_type:House)-->(district:District)                  |\n",
      "|                  |                   WHERE real_estate_type.individual IN ['can ho']                |\n",
      "|                  |                       AND transaction.individual = 'mua'                         |\n",
      "|                  |             AND '1080000000.0' <= price.individual <= '1320000000.0'             |\n",
      "|                  |               RETURN collect(distinct district.individual) AS District           |\n",
      "|                  |                                       LIMIT 50                                   |\n",
      "|                  |                                                                                  |\n",
      "+------------------+----------------------------------------------------------------------------------+\n",
      "+----------+\n",
      "| District |\n",
      "+----------+\n",
      "|    []    |\n",
      "+----------+\n",
      "----------------##########################################----------------\n",
      "+------------------+----------------------------------------------------------------------------------+\n",
      "|       Step       |                                      Result                                      |\n",
      "+------------------+----------------------------------------------------------------------------------+\n",
      "|      Input       |            mình đang có 2 tỷ, nên mua nhà hoặc căn hộ ở quận nào nhỉ             |\n",
      "|   Match alias    | {'real_estate_type': 'căn hộ', 'transaction': 'mua', 'price': 'tỷ', 'district':  |\n",
      "|                  |                                  'ở quận nào'}                                   |\n",
      "| Find individuals |  {'price': [(2000000000.0, None)], 'transaction': ['mua'], 'real_estate_type':   |\n",
      "|                  |                                ['nha', 'can ho']}                                |\n",
      "| Target concepts  |                                   ['district']                                   |\n",
      "|      Query       |                                                                                  |\n",
      "|                  |             MATCH (real_estate_type:House)-->(transaction:Transaction),          |\n",
      "|                  |                    (real_estate_type:House)-->(price:Price),                     |\n",
      "|                  |                  (real_estate_type:House)-->(district:District)                  |\n",
      "|                  |               WHERE real_estate_type.individual IN ['nha', 'can ho']             |\n",
      "|                  |                       AND transaction.individual = 'mua'                         |\n",
      "|                  |             AND '1800000000.0' <= price.individual <= '2200000000.0'             |\n",
      "|                  |               RETURN collect(distinct district.individual) AS District           |\n",
      "|                  |                                       LIMIT 50                                   |\n",
      "|                  |                                                                                  |\n",
      "+------------------+----------------------------------------------------------------------------------+\n",
      "+----------------------------------------------------+\n",
      "|                      District                      |\n",
      "+----------------------------------------------------+\n",
      "| ['hoang mai', '5 tu liem', 'long bien', 'kien an'] |\n",
      "+----------------------------------------------------+\n",
      "----------------##########################################----------------\n"
     ]
    }
   ],
   "source": [
    "for question in DISTRICT:\n",
    "    cqlNodeQuery = gen_query_ontology(question)\n",
    "    run_query(cqlNodeQuery)\n",
    "    print(\n",
    "        \"----------------##########################################----------------\"\n",
    "    )\n"
   ]
  },
  {
   "cell_type": "code",
   "execution_count": null,
   "metadata": {},
   "outputs": [],
   "source": []
  }
 ],
 "metadata": {
  "kernelspec": {
   "display_name": "Python 3.7.9 64-bit",
   "language": "python",
   "name": "python3"
  },
  "language_info": {
   "codemirror_mode": {
    "name": "ipython",
    "version": 3
   },
   "file_extension": ".py",
   "mimetype": "text/x-python",
   "name": "python",
   "nbconvert_exporter": "python",
   "pygments_lexer": "ipython3",
   "version": "3.7.9"
  },
  "orig_nbformat": 4,
  "vscode": {
   "interpreter": {
    "hash": "5109d816b82be14675a6b11f8e0f0d2e80f029176ed3710d54e125caa8520dfd"
   }
  }
 },
 "nbformat": 4,
 "nbformat_minor": 2
}
