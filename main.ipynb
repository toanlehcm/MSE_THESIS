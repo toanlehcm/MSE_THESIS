{
 "cells": [
  {
   "cell_type": "code",
   "execution_count": 50,
   "metadata": {},
   "outputs": [
    {
     "data": {
      "text/plain": [
       "False"
      ]
     },
     "execution_count": 50,
     "metadata": {},
     "output_type": "execute_result"
    }
   ],
   "source": [
    "import json\n",
    "import prettytable\n",
    "from neo4j import GraphDatabase\n",
    "from dotenv import load_dotenv\n",
    "from gen_query import handle_gen_query\n",
    "import util\n",
    "from get_entities import handle_get_entities\n",
    "\n",
    "load_dotenv()\n"
   ]
  },
  {
   "cell_type": "code",
   "execution_count": 51,
   "metadata": {},
   "outputs": [],
   "source": [
    "def gen_query_ontology(text):\n",
    "    table = prettytable.PrettyTable([\"Step\", \"Result\"])\n",
    "    table.max_width = 80\n",
    "    table.add_row([\"Input\", text])\n",
    "\n",
    "    concepts = util.get_concepts(text)\n",
    "\n",
    "    match_relation = util.get_match_relation(concepts.keys())\n",
    "\n",
    "    evidences = handle_get_entities(text)\n",
    "\n",
    "    table.add_rows([[\"Match alias\", concepts], [\"Find individuals\",\n",
    "                                                evidences]])\n",
    "\n",
    "    targets = list(set(concepts.keys()).difference(set(evidences.keys())))\n",
    "    table.add_row([\"Target concepts\", targets])\n",
    "\n",
    "    query = handle_gen_query(concepts.keys(), evidences, match_relation)\n",
    "    table.add_row([\"Query\", query])\n",
    "\n",
    "    print(table)\n",
    "    # print(query)\n",
    "    return query"
   ]
  },
  {
   "cell_type": "code",
   "execution_count": 53,
   "metadata": {},
   "outputs": [
    {
     "name": "stdout",
     "output_type": "stream",
     "text": [
      "+------------------+----------------------------------------------------------------------------------+\n",
      "|       Step       |                                      Result                                      |\n",
      "+------------------+----------------------------------------------------------------------------------+\n",
      "|      Input       |                   nhà ở quận 1 thường có giá khoảng bao nhiêu                    |\n",
      "|   Match alias    | {'real_estate_type': 'nhà', 'price': 'giá khoảng bao nhiêu', 'district': 'quận'} |\n",
      "| Find individuals |                               {'district': ['1']}                                |\n",
      "| Target concepts  |                          ['price', 'real_estate_type']                           |\n",
      "|      Query       |                                                                                  |\n",
      "|                  |                   MATCH (real_estate_type:House)-->(price:Price),                |\n",
      "|                  |                  (real_estate_type:House)-->(district:District)                  |\n",
      "|                  |                           WHERE district.individual = '1'                        |\n",
      "|                  |            RETURN collect(distinct real_estate_type.individual) AS House,        |\n",
      "|                  |                    collect(distinct price.individual) AS Price                   |\n",
      "|                  |                                       LIMIT 50                                   |\n",
      "|                  |                                                                                  |\n",
      "+------------------+----------------------------------------------------------------------------------+\n"
     ]
    }
   ],
   "source": [
    "# text = \"nhà hoặc căn hộ giá khoảng 2 tỷ thì mua ở quận nào\"\n",
    "text = \"nhà ở quận 1 thường có giá khoảng bao nhiêu\"\n",
    "\n",
    "cqlNodeQuery = gen_query_ontology(text)"
   ]
  },
  {
   "cell_type": "code",
   "execution_count": 22,
   "metadata": {},
   "outputs": [],
   "source": [
    "# Connect neo4j DB.\n",
    "driver = GraphDatabase.driver('bolt://localhost:7687',\n",
    "                              auth=('neo4j', 'password'))\n"
   ]
  },
  {
   "cell_type": "code",
   "execution_count": 23,
   "metadata": {},
   "outputs": [],
   "source": [
    "def run_query(query):\n",
    "    with driver.session(database=\"htdb\") as session:\n",
    "        results = session.run(query)\n",
    "\n",
    "        table_results = prettytable.PrettyTable(results.keys())\n",
    "        table_results.max_width = 60\n",
    "        for r in results:\n",
    "            table_results.add_row(r.values())\n",
    "\n",
    "        return table_results\n",
    "        # return results\n"
   ]
  },
  {
   "cell_type": "code",
   "execution_count": 24,
   "metadata": {},
   "outputs": [
    {
     "name": "stdout",
     "output_type": "stream",
     "text": [
      "+----------------------------------------------------+\n",
      "|                      District                      |\n",
      "+----------------------------------------------------+\n",
      "| ['hoang mai', '5 tu liem', 'long bien', 'kien an'] |\n",
      "+----------------------------------------------------+\n"
     ]
    }
   ],
   "source": [
    "result_data = run_query(cqlNodeQuery)\n",
    "\n",
    "print(result_data)"
   ]
  },
  {
   "cell_type": "code",
   "execution_count": 26,
   "metadata": {},
   "outputs": [],
   "source": [
    "with open('data/question_dict.json', 'r', encoding=\"utf-8\") as fp:\n",
    "    question_dict = json.load(fp)\n",
    "    fp.close()\n",
    "\n",
    "REAL_ESTATE_TYPE = question_dict[\"real_estate_type\"]\n",
    "PRICE = question_dict[\"price\"]\n",
    "AREA = question_dict[\"area\"]\n",
    "DISTRICT = question_dict[\"district\"]\n",
    "BED_ROOM = question_dict[\"bed_room\"]\n",
    "FLOOR = question_dict[\"floor\"]\n",
    "LEGAL = question_dict[\"legal\"]\n",
    "POSITION = question_dict[\"position\"]\n",
    "LOCATION = question_dict[\"location\"]\n",
    "POTENTIAL = question_dict[\"potential\"]"
   ]
  }
 ],
 "metadata": {
  "kernelspec": {
   "display_name": "Python 3.7.9 64-bit",
   "language": "python",
   "name": "python3"
  },
  "language_info": {
   "codemirror_mode": {
    "name": "ipython",
    "version": 3
   },
   "file_extension": ".py",
   "mimetype": "text/x-python",
   "name": "python",
   "nbconvert_exporter": "python",
   "pygments_lexer": "ipython3",
   "version": "3.7.9"
  },
  "orig_nbformat": 4,
  "vscode": {
   "interpreter": {
    "hash": "5109d816b82be14675a6b11f8e0f0d2e80f029176ed3710d54e125caa8520dfd"
   }
  }
 },
 "nbformat": 4,
 "nbformat_minor": 2
}
