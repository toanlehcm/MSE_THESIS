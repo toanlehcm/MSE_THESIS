{
 "cells": [
  {
   "cell_type": "code",
   "execution_count": 36,
   "metadata": {},
   "outputs": [],
   "source": [
    "\n",
    "# import re\n",
    "import re\n",
    "import pandas as pd\n",
    "import bs4\n",
    "import requests\n",
    "import spacy\n",
    "from spacy import displacy\n",
    "\n",
    "nlp = spacy.load('en_core_web_sm')\n",
    "\n",
    "from spacy.matcher import Matcher\n",
    "from spacy.tokens import Span\n",
    "\n",
    "import networkx as nx\n",
    "\n",
    "import matplotlib.pyplot as plt\n",
    "from tqdm import tqdm\n",
    "\n",
    "pd.set_option('display.max_colwidth', 200)\n",
    "%matplotlib inline"
   ]
  },
  {
   "cell_type": "code",
   "execution_count": 38,
   "metadata": {},
   "outputs": [
    {
     "data": {
      "text/plain": [
       "(488, 1)"
      ]
     },
     "execution_count": 38,
     "metadata": {},
     "output_type": "execute_result"
    }
   ],
   "source": [
    "# import wikipedia sentences\n",
    "# candidate_sentences = pd.read_csv(\"wiki_sentences_v2.csv\")\n",
    "candidate_sentences = pd.read_csv(\"sentences_vn.csv\")\n",
    "candidate_sentences.shape"
   ]
  },
  {
   "cell_type": "code",
   "execution_count": 39,
   "metadata": {},
   "outputs": [
    {
     "data": {
      "text/plain": [
       "251                                      các bộ phim từ các quốc gia không nói tiếng Anh đã trở nên thành công.\n",
       "101                                                                                cô ấy nhắm mắt và gục xuống.\n",
       "54     những anh hùng như vậy đã sẵn sàng với những câu nói đơn điệu, chơi chữ và những câu châm biếm khô khan.\n",
       "198    bộ phim được chia thành năm câu chuyện: sự hiện ra, bàn tay, con mèo đen, câu lạc bộ tự sát và der spuk.\n",
       "479                           những mô hình này được thiết kế bởi nhà thiết kế diecast nổi tiếng eric tscherne.\n",
       "Name: sentence, dtype: object"
      ]
     },
     "execution_count": 39,
     "metadata": {},
     "output_type": "execute_result"
    }
   ],
   "source": [
    "candidate_sentences['sentence'].sample(5)"
   ]
  },
  {
   "cell_type": "code",
   "execution_count": 40,
   "metadata": {},
   "outputs": [
    {
     "name": "stdout",
     "output_type": "stream",
     "text": [
      "bối rối và thất vọng, connie quyết định rời đi một mình.\n",
      "bối ... compound\n",
      "rối ... compound\n",
      "và ... compound\n",
      "thất ... nsubj\n",
      "vọng ... ccomp\n",
      ", ... punct\n",
      "connie ... compound\n",
      "quyết ... nsubj\n",
      "định ... ROOT\n",
      "rời ... dobj\n",
      "đi ... dobj\n",
      "một ... compound\n",
      "mình ... dobj\n",
      ". ... punct\n"
     ]
    }
   ],
   "source": [
    "# doc = nlp(\"the drawdown process is governed by astm standard d823\")\n",
    "doc = nlp(\"bối rối và thất vọng, connie quyết định rời đi một mình.\")\n",
    "print(doc)\n",
    "\n",
    "for tok in doc:\n",
    "  print(tok.text, \"...\", tok.dep_)"
   ]
  },
  {
   "cell_type": "code",
   "execution_count": 41,
   "metadata": {},
   "outputs": [],
   "source": [
    "def get_entities(sent):\n",
    "    ## chunk 1\n",
    "    ent1 = \"\"\n",
    "    ent2 = \"\"\n",
    "\n",
    "    prv_tok_dep = \"\"  # dependency tag of previous token in the sentence\n",
    "    prv_tok_text = \"\"  # previous token in the sentence\n",
    "\n",
    "    prefix = \"\"\n",
    "    modifier = \"\"\n",
    "\n",
    "    #############################################################\n",
    "\n",
    "    for tok in nlp(sent):\n",
    "        ## chunk 2\n",
    "        # nếu token là một dấu chấm câu thì chuyển sang token tiếp theo\n",
    "        if tok.dep_ != \"punct\":\n",
    "            # check: token có phải là một từ ghép hay không\n",
    "            if tok.dep_ == \"compound\":\n",
    "                prefix = tok.text\n",
    "                # nếu từ trước đó cũng là một 'từ ghép' thì hãy thêm từ hiện tại vào nó\n",
    "                if prv_tok_dep == \"compound\":\n",
    "                    prefix = prv_tok_text + \" \" + tok.text\n",
    "\n",
    "            # check: token là một bổ ngữ hay không\n",
    "            if tok.dep_.endswith(\"mod\") == True:\n",
    "                modifier = tok.text\n",
    "                # nếu từ trước đó cũng là một 'từ ghép' thì hãy thêm từ hiện tại vào nó\n",
    "                if prv_tok_dep == \"compound\":\n",
    "                    modifier = prv_tok_text + \" \" + tok.text\n",
    "\n",
    "            ## chunk 3\n",
    "            if tok.dep_.find(\"subj\") == True:\n",
    "                ent1 = modifier + \" \" + prefix + \" \" + tok.text\n",
    "                prefix = \"\"\n",
    "                modifier = \"\"\n",
    "                prv_tok_dep = \"\"\n",
    "                prv_tok_text = \"\"\n",
    "\n",
    "            ## chunk 4\n",
    "            if tok.dep_.find(\"obj\") == True:\n",
    "                ent2 = modifier + \" \" + prefix + \" \" + tok.text\n",
    "\n",
    "            ## chunk 5\n",
    "            # update variables\n",
    "            prv_tok_dep = tok.dep_\n",
    "            prv_tok_text = tok.text\n",
    "    #############################################################\n",
    "\n",
    "    return [ent1.strip(), ent2.strip()]\n"
   ]
  },
  {
   "cell_type": "code",
   "execution_count": 42,
   "metadata": {},
   "outputs": [
    {
     "data": {
      "text/plain": [
       "['connie quyết', 'một mình']"
      ]
     },
     "execution_count": 42,
     "metadata": {},
     "output_type": "execute_result"
    }
   ],
   "source": [
    "get_entities(\"bối rối và thất vọng, connie quyết định rời đi một mình.\")"
   ]
  },
  {
   "cell_type": "code",
   "execution_count": 43,
   "metadata": {},
   "outputs": [
    {
     "name": "stderr",
     "output_type": "stream",
     "text": [
      "100%|██████████| 488/488 [00:04<00:00, 114.10it/s]\n"
     ]
    }
   ],
   "source": [
    "entity_pairs = []\n",
    "\n",
    "for i in tqdm(candidate_sentences[\"sentence\"]):\n",
    "    entity_pairs.append(get_entities(i))"
   ]
  },
  {
   "cell_type": "code",
   "execution_count": 44,
   "metadata": {},
   "outputs": [
    {
     "data": {
      "text/plain": [
       "[['chúng', 'trải'],\n",
       " ['cũng kinh doanh quốc', ''],\n",
       " ['', 'robertson giám phim'],\n",
       " ['bản nhạc và bản hiện', ''],\n",
       " ['bộ phim', 'trong quyền thương'],\n",
       " ['', 'làm bị'],\n",
       " ['vụ bắt giữ', ''],\n",
       " ['', 'của cô tấn công'],\n",
       " ['tả selene gallio', ''],\n",
       " ['', '']]"
      ]
     },
     "execution_count": 44,
     "metadata": {},
     "output_type": "execute_result"
    }
   ],
   "source": [
    "entity_pairs[10:20]"
   ]
  },
  {
   "cell_type": "code",
   "execution_count": 45,
   "metadata": {},
   "outputs": [],
   "source": [
    "\n",
    "def get_relation(sent):\n",
    "\n",
    "    doc = nlp(sent)\n",
    "\n",
    "    # Matcher class object\n",
    "    matcher = Matcher(nlp.vocab)\n",
    "\n",
    "    #define the pattern\n",
    "    pattern = [[{\n",
    "        'DEP': 'ROOT'\n",
    "    }, {\n",
    "        'DEP': 'prep',\n",
    "        'OP': \"?\"\n",
    "    }, {\n",
    "        'DEP': 'agent',\n",
    "        'OP': \"?\"\n",
    "    }, {\n",
    "        'POS': 'ADJ',\n",
    "        'OP': \"?\"\n",
    "    }]]\n",
    "\n",
    "    matcher.add(\"matching_1\", patterns = pattern)\n",
    "\n",
    "    matches = matcher(doc)\n",
    "    k = len(matches) - 1  \n",
    "    # print(\"matches: \", matches)\n",
    "    # print(\"type(matches): \", type(matches))\n",
    "    # print(\"len(matches): \", len(matches))\n",
    "    # print(\"k: \", k)\n",
    "    \n",
    "    tmpSpan = \"\"\n",
    "    if len(matches) >= 1:\n",
    "      span = doc[matches[k][1]:matches[k][2]]\n",
    "      tmpSpan = span.text\n",
    "      # print(\"span: \", span.text)\n",
    "      # print(\"type(span): \", type(span.text))\n",
    "      # print(\"---\")\n",
    "\n",
    "    # return (span.text)\n",
    "    return(tmpSpan)"
   ]
  },
  {
   "cell_type": "code",
   "execution_count": 46,
   "metadata": {},
   "outputs": [
    {
     "data": {
      "text/plain": [
       "'định'"
      ]
     },
     "execution_count": 46,
     "metadata": {},
     "output_type": "execute_result"
    }
   ],
   "source": [
    "# get_relation(\"John completed the task\")\n",
    "get_relation(\"bối rối và thất vọng, connie quyết định rời đi một mình.\")"
   ]
  },
  {
   "cell_type": "code",
   "execution_count": 47,
   "metadata": {},
   "outputs": [
    {
     "name": "stderr",
     "output_type": "stream",
     "text": [
      "100%|██████████| 488/488 [00:04<00:00, 112.36it/s]\n"
     ]
    }
   ],
   "source": [
    "relations = [get_relation(i) for i in tqdm(candidate_sentences['sentence'])]"
   ]
  },
  {
   "cell_type": "code",
   "execution_count": 48,
   "metadata": {},
   "outputs": [
    {
     "data": {
      "text/plain": [
       "với        15\n",
       "tháng      15\n",
       "có         14\n",
       "nhạc       12\n",
       "ảnh        12\n",
       "được       10\n",
       "nhất        9\n",
       "hoan        8\n",
       "diễn        8\n",
       "tôi         7\n",
       "của         6\n",
       "đầu         6\n",
       "kiến        5\n",
       "hành        5\n",
       "những       5\n",
       "cầu         5\n",
       "cảm         5\n",
       "cùng        5\n",
       "thành       4\n",
       "tiên        4\n",
       "án          3\n",
       "nhau        3\n",
       "sung        3\n",
       "viên        3\n",
       "giám        3\n",
       "do          3\n",
       "địa         3\n",
       "ra          3\n",
       "thương      3\n",
       "kịch        3\n",
       "phương      3\n",
       "loạt        3\n",
       "làm         3\n",
       "nó          3\n",
       "thật        3\n",
       "cung        3\n",
       "giới        3\n",
       "thất        2\n",
       "theo        2\n",
       "chính       2\n",
       "aquaman     2\n",
       "giờ         2\n",
       "hậu         2\n",
       "lillis      2\n",
       "đại         2\n",
       "chương      2\n",
       "lại         2\n",
       "giao        2\n",
       "nhận        2\n",
       "cố          2\n",
       "dtype: int64"
      ]
     },
     "execution_count": 48,
     "metadata": {},
     "output_type": "execute_result"
    }
   ],
   "source": [
    "pd.Series(relations).value_counts()[:50]"
   ]
  },
  {
   "cell_type": "code",
   "execution_count": 49,
   "metadata": {},
   "outputs": [],
   "source": [
    "# extract subject\n",
    "source = [i[0] for i in entity_pairs]\n",
    "\n",
    "# extract object\n",
    "target = [i[1] for i in entity_pairs]\n",
    "\n",
    "# print('source', len(source))\n",
    "# print('target', len(target))\n",
    "# print('edge', len(relations))\n",
    "\n",
    "kg_df = pd.DataFrame({'source': source, 'target': target, 'edge': relations})"
   ]
  },
  {
   "cell_type": "code",
   "execution_count": 50,
   "metadata": {},
   "outputs": [],
   "source": [
    "# create a directed-graph from a dataframe\n",
    "G = nx.from_pandas_edgelist(kg_df[kg_df['edge'] == \"composed by\"],\n",
    "                            \"source\",\n",
    "                            \"target\",\n",
    "                            edge_attr=True,\n",
    "                            create_using=nx.MultiDiGraph())"
   ]
  },
  {
   "cell_type": "code",
   "execution_count": null,
   "metadata": {},
   "outputs": [
    {
     "data": {
      "image/png": "[encoded data removed]",
      "text/plain": [
       "<Figure size 864x864 with 1 Axes>"
      ]
     },
     "metadata": {},
     "output_type": "display_data"
    }
   ],
   "source": [
    "plt.figure(figsize=(12, 12))\n",
    "pos = nx.spring_layout(G, k=0.5)  # k regulates the distance between nodes\n",
    "nx.draw(G,\n",
    "        with_labels=True,\n",
    "        node_color='skyblue',\n",
    "        node_size=1500,\n",
    "        edge_cmap=plt.cm.Blues,\n",
    "        pos=pos)\n",
    "plt.show()"
   ]
  },
  {
   "cell_type": "code",
   "execution_count": null,
   "metadata": {},
   "outputs": [],
   "source": []
  }
 ],
 "metadata": {
  "interpreter": {
   "hash": "aee8b7b246df8f9039afb4144a1f6fd8d2ca17a180786b69acc140d282b71a49"
  },
  "kernelspec": {
   "display_name": "Python 3.9.4 64-bit",
   "language": "python",
   "name": "python3"
  },
  "language_info": {
   "codemirror_mode": {
    "name": "ipython",
    "version": 3
   },
   "file_extension": ".py",
   "mimetype": "text/x-python",
   "name": "python",
   "nbconvert_exporter": "python",
   "pygments_lexer": "ipython3",
   "version": "3.9.4"
  },
  "orig_nbformat": 4
 },
 "nbformat": 4,
 "nbformat_minor": 2
}
