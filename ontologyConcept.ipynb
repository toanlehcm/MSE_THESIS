{
 "cells": [
  {
   "cell_type": "code",
   "execution_count": 1,
   "metadata": {},
   "outputs": [],
   "source": [
    "DISTRICT_ENTITIES = [\"quận 1\", \"quận 2\", \"quận 3\", \"quận 4\",\n",
    "                     \"quận 5\", \"quận 6\", \"quận 7\", \"quận 8\", \"quận 9\", \"quận 10\"]\n",
    "WARD_ENTITIES = [\"phường 1\", \"phường 2\", \"phường 3\", \"phường 4\",\n",
    "                 \"phường 5\", \"phường 6\", \"phường 7\", \"phường 8\", \"phường 9\", \"phường 10\"]\n",
    "STREET_ENTITIES = [\"Lê Lai\", \"Lê Lợi\", \"Lê Duẩn\"]\n",
    "HOUSE_ENTITIES = [\"cấp 1\", \"cấp 2\", \"cấp 3\", \"cấp 4\"]\n",
    "HOUSE_QUERY_ENTITIES = [\"nhà\"]\n"
   ]
  },
  {
   "cell_type": "code",
   "execution_count": 2,
   "metadata": {},
   "outputs": [],
   "source": [
    "class BaseValue:\n",
    "    def __init__(self):\n",
    "        self.type = str\n",
    "        self._value = None\n",
    "\n",
    "    @property\n",
    "    def is_filled(self):\n",
    "        return self._value is not None\n",
    "\n",
    "    @classmethod\n",
    "    def class_name(cls):\n",
    "        return cls.__name__\n",
    "\n",
    "    def __repr__(self):\n",
    "        return f\"{self._value}: {self.type.__name__}\"\n",
    "\n",
    "    @property\n",
    "    def value(self):\n",
    "        return self._value\n",
    "\n",
    "    @value.setter\n",
    "    def value(self, _value):\n",
    "        if _value is not None:\n",
    "            if isinstance(_value, self.type):\n",
    "                self._value = _value\n",
    "            else:\n",
    "                raise ValueError(\n",
    "                    f\"Value of {self.__class__.__name__} must be instance of {self.type}\")\n"
   ]
  },
  {
   "cell_type": "code",
   "execution_count": 3,
   "metadata": {},
   "outputs": [],
   "source": [
    "class BaseString(BaseValue):\n",
    "    def __init__(self):\n",
    "        super(BaseString, self).__init__()\n",
    "        self.type = str\n"
   ]
  },
  {
   "cell_type": "code",
   "execution_count": 4,
   "metadata": {},
   "outputs": [],
   "source": [
    "class BaseEntity:\n",
    "    def __repr__(self):\n",
    "        output = {\n",
    "            \"class\": self.__class__.__name__\n",
    "        }\n",
    "        for attr in self.attributes:\n",
    "            output[attr] = self.get_attribute_type(attr)\n",
    "        return str(output)\n",
    "\n",
    "    @classmethod\n",
    "    def class_name(cls):\n",
    "        return cls.__name__\n",
    "\n",
    "    @property\n",
    "    def attributes(self):\n",
    "        output = self.__dir__()\n",
    "        return [item for item in output\n",
    "                if \"__\" not in item and \"_\" != item[0]\n",
    "                and item not in [\"attributes\", \"get_attribute_type\", \"class_name\", \"has_attribute\", \"add_attribute\"]]\n",
    "\n",
    "    def get_attribute_type(self, attr_name):\n",
    "        if attr_name in self.attributes:\n",
    "            return self.__getattribute__(attr_name)\n",
    "\n",
    "    def add_attribute(self, item):\n",
    "        for attr in self.attributes:\n",
    "            attr_value = self.get_attribute_type(attr)\n",
    "            if attr_value.type.__name__ == item.class_name():\n",
    "                attr_value.value = item\n",
    "                return True\n",
    "        return False\n",
    "\n",
    "    # def add_attribute(self, item):\n",
    "    #     attr_value = self.get_attribute_type(item.class_name())\n",
    "    #     attr_value.value = item\n"
   ]
  },
  {
   "cell_type": "code",
   "execution_count": 5,
   "metadata": {},
   "outputs": [],
   "source": [
    "class District(BaseEntity):\n",
    "    def __init__(self, name=None):\n",
    "        super(District, self).__init__()\n",
    "        self._name = BaseString()\n",
    "        self._name.value = name\n",
    "\n",
    "    @property\n",
    "    def name(self):\n",
    "        return self._name\n",
    "\n",
    "    @name.setter\n",
    "    def name(self, _name):\n",
    "        self._name.value = _name\n"
   ]
  },
  {
   "cell_type": "code",
   "execution_count": 6,
   "metadata": {},
   "outputs": [],
   "source": [
    "class DistrictType(BaseValue):\n",
    "    def __init__(self):\n",
    "        super(DistrictType, self).__init__()\n",
    "        self.type = District\n"
   ]
  },
  {
   "cell_type": "code",
   "execution_count": 7,
   "metadata": {},
   "outputs": [],
   "source": [
    "class Ward(BaseEntity):\n",
    "    def __init__(self, name=None, belongDistrict=None):\n",
    "        super(Ward, self).__init__()\n",
    "        self._name = BaseString()\n",
    "        self._belongDistrict = DistrictType()\n",
    "        self._name.value = name\n",
    "        self._belongDistrict.name = belongDistrict\n",
    "\n",
    "    @property\n",
    "    def name(self):\n",
    "        return self._name\n",
    "\n",
    "    @name.setter\n",
    "    def name(self, _name):\n",
    "        self._name.value = _name\n",
    "\n",
    "    @property\n",
    "    def belongDistrict(self):\n",
    "        return self._belongDistrict\n",
    "\n",
    "    @belongDistrict.setter\n",
    "    def belongDistrict(self, _belongDistrict):\n",
    "        self._belongDistrict = _belongDistrict\n"
   ]
  },
  {
   "cell_type": "code",
   "execution_count": 8,
   "metadata": {},
   "outputs": [],
   "source": [
    "class WardType(BaseValue):\n",
    "    def __init__(self):\n",
    "        super(WardType, self).__init__()\n",
    "        self.type = Ward\n"
   ]
  },
  {
   "cell_type": "code",
   "execution_count": 9,
   "metadata": {},
   "outputs": [],
   "source": [
    "class Street(BaseEntity):\n",
    "    def __init__(self, name=None, belongWard=None):\n",
    "        super(Street, self).__init__()\n",
    "        self._name = BaseString()\n",
    "        self._belongWard = WardType()\n",
    "        self._name.value = name\n",
    "        self._belongWard.name = belongWard\n",
    "\n",
    "    @property\n",
    "    def name(self):\n",
    "        return self._name\n",
    "\n",
    "    @name.setter\n",
    "    def name(self, _name):\n",
    "        self._name.value = _name\n",
    "\n",
    "    @property\n",
    "    def belongWard(self):\n",
    "        return self._belongWard\n",
    "\n",
    "    @belongWard.setter\n",
    "    def belongWard(self, _belongWard):\n",
    "        self._belongWard = _belongWard\n"
   ]
  },
  {
   "cell_type": "code",
   "execution_count": 10,
   "metadata": {},
   "outputs": [],
   "source": [
    "class House:\n",
    "    def __init__(self, name=None):\n",
    "        super(House, self).__init__()\n",
    "        self._name = BaseString()\n",
    "        self._name.value = name\n",
    "\n",
    "    @property\n",
    "    def name(self):\n",
    "        return self._name\n",
    "\n",
    "    @name.setter\n",
    "    def name(self, _name):\n",
    "        self._name.value = _name\n"
   ]
  },
  {
   "cell_type": "code",
   "execution_count": 11,
   "metadata": {},
   "outputs": [],
   "source": [
    "class NER:\n",
    "    @staticmethod\n",
    "    def extract(input_text):\n",
    "        label = \"\"\n",
    "        output = []\n",
    "\n",
    "        for ent in DISTRICT_ENTITIES:\n",
    "            if ent in input_text:\n",
    "                output.append(District(name=ent))\n",
    "            else:\n",
    "                label = \"District\"\n",
    "\n",
    "        for ent in WARD_ENTITIES:\n",
    "            if ent in input_text:\n",
    "                output.append(Ward(name=ent))\n",
    "            else:\n",
    "                label = \"Ward\"\n",
    "\n",
    "        for ent in STREET_ENTITIES:\n",
    "            if ent in input_text:\n",
    "                output.append(Street(name=ent))\n",
    "            else:\n",
    "                label = \"Street\"\n",
    "\n",
    "        for ent in HOUSE_ENTITIES:\n",
    "            if ent in input_text:\n",
    "                output.append(House(name=ent))\n",
    "            else:\n",
    "                label = \"House\"\n",
    "\n",
    "        return label, output\n"
   ]
  },
  {
   "cell_type": "code",
   "execution_count": 12,
   "metadata": {},
   "outputs": [
    {
     "name": "stdout",
     "output_type": "stream",
     "text": [
      "House\n",
      "[{'class': 'District', 'name': quận 1: str}, {'class': 'Ward', 'name': phường 1: str, 'belongDistrict': None: District}]\n"
     ]
    }
   ],
   "source": [
    "text = \"Mua nhà ở phường 1 quận 1\"\n",
    "[matchLabel, whereLabel] = NER.extract(text)\n",
    "print(matchLabel)\n",
    "print(whereLabel)\n"
   ]
  },
  {
   "cell_type": "code",
   "execution_count": 14,
   "metadata": {},
   "outputs": [],
   "source": [
    "# class RelationExtraction:\n",
    "#     @staticmethod\n",
    "#     def mapping(input_entities: [BaseEntity]):\n",
    "#         for src_entity in input_entities:\n",
    "#             for dst_entity in input_entities:\n",
    "#                 success = src_entity.add_attribute(dst_entity)\n",
    "#                 print(f\"ORIGINAL ENTITY: {src_entity}\")\n",
    "#                 if success:\n",
    "#                     print(f\"MAPPED ENTITY: {src_entity}\")\n",
    "#                 print(\"++++++++++++++++++++++++++++++++++++++++\")\n"
   ]
  },
  {
   "cell_type": "code",
   "execution_count": 15,
   "metadata": {},
   "outputs": [],
   "source": [
    "# RelationExtraction.mapping(entities)\n"
   ]
  },
  {
   "cell_type": "code",
   "execution_count": 13,
   "metadata": {},
   "outputs": [],
   "source": [
    "import pandas as pd\n",
    "from neo4j import GraphDatabase"
   ]
  },
  {
   "cell_type": "code",
   "execution_count": 14,
   "metadata": {},
   "outputs": [],
   "source": [
    "driver = GraphDatabase.driver('bolt://localhost:7687', auth=('neo4j', 'password'))"
   ]
  },
  {
   "cell_type": "code",
   "execution_count": 15,
   "metadata": {},
   "outputs": [],
   "source": [
    "cqlNodeQuery = \"match (n:\" + matchLabel + \"), (n1:Ward), (n2:District) where n1.name = '\" + \\\n",
    "    whereLabel[1].name.value + \"' and n2.name = '\" + \\\n",
    "    whereLabel[0].name.value+\"' return n\"\n"
   ]
  },
  {
   "cell_type": "code",
   "execution_count": 16,
   "metadata": {},
   "outputs": [],
   "source": [
    "def run_query(query):\n",
    "    print(\"---query--\")\n",
    "    print(query)\n",
    "    with driver.session(database=\"htdb\") as session:\n",
    "        result = session.run(query)\n",
    "        print(\"----- result -----\")\n",
    "        # print(type(result))\n",
    "        for r in result:\n",
    "            print(r.values())\n",
    "        return pd.DataFrame([r.values() for r in result], columns=result.keys())"
   ]
  },
  {
   "cell_type": "code",
   "execution_count": 17,
   "metadata": {},
   "outputs": [
    {
     "name": "stdout",
     "output_type": "stream",
     "text": [
      "---query--\n",
      "match (n:House), (n1:Ward), (n2:District) where n1.name = 'phường 1' and n2.name = 'quận 1' return n\n",
      "----- result -----\n",
      "[<Node id=45 labels=frozenset({'House'}) properties={'house_id': '1', 'house_type': 'cấp 1', 'district_id': '1', 'ward_id': '1'}>]\n",
      "[<Node id=45 labels=frozenset({'House'}) properties={'house_id': '1', 'house_type': 'cấp 1', 'district_id': '1', 'ward_id': '1'}>]\n",
      "[<Node id=46 labels=frozenset({'House'}) properties={'house_id': '2', 'house_type': 'cấp 2', 'district_id': '1', 'ward_id': '1'}>]\n",
      "[<Node id=46 labels=frozenset({'House'}) properties={'house_id': '2', 'house_type': 'cấp 2', 'district_id': '1', 'ward_id': '1'}>]\n",
      "[<Node id=47 labels=frozenset({'House'}) properties={'house_id': '3', 'house_type': 'cấp 3', 'district_id': '1', 'ward_id': '1'}>]\n",
      "[<Node id=47 labels=frozenset({'House'}) properties={'house_id': '3', 'house_type': 'cấp 3', 'district_id': '1', 'ward_id': '1'}>]\n",
      "[<Node id=48 labels=frozenset({'House'}) properties={'house_id': '4', 'house_type': 'cấp 4', 'district_id': '1', 'ward_id': '1'}>]\n",
      "[<Node id=48 labels=frozenset({'House'}) properties={'house_id': '4', 'house_type': 'cấp 4', 'district_id': '1', 'ward_id': '1'}>]\n"
     ]
    },
    {
     "data": {
      "text/html": [
       "<div>\n",
       "<style scoped>\n",
       "    .dataframe tbody tr th:only-of-type {\n",
       "        vertical-align: middle;\n",
       "    }\n",
       "\n",
       "    .dataframe tbody tr th {\n",
       "        vertical-align: top;\n",
       "    }\n",
       "\n",
       "    .dataframe thead th {\n",
       "        text-align: right;\n",
       "    }\n",
       "</style>\n",
       "<table border=\"1\" class=\"dataframe\">\n",
       "  <thead>\n",
       "    <tr style=\"text-align: right;\">\n",
       "      <th></th>\n",
       "      <th>n</th>\n",
       "    </tr>\n",
       "  </thead>\n",
       "  <tbody>\n",
       "  </tbody>\n",
       "</table>\n",
       "</div>"
      ],
      "text/plain": [
       "Empty DataFrame\n",
       "Columns: [n]\n",
       "Index: []"
      ]
     },
     "execution_count": 17,
     "metadata": {},
     "output_type": "execute_result"
    }
   ],
   "source": [
    "run_query(cqlNodeQuery)"
   ]
  },
  {
   "cell_type": "code",
   "execution_count": null,
   "metadata": {},
   "outputs": [],
   "source": [
    "# cqlNodeQuery = \"match (n:House) where n.ward_id = '1' and n.district_id = '1' return n\"\n",
    "# cqlNodeQuery = \"match (n:House), (n1:Ward), (n2:District) where n1.name = 'phường 1' and n2.name = 'quận 1' return n\""
   ]
  }
 ],
 "metadata": {
  "kernelspec": {
   "display_name": "Python 3.7.9 64-bit",
   "language": "python",
   "name": "python3"
  },
  "language_info": {
   "codemirror_mode": {
    "name": "ipython",
    "version": 3
   },
   "file_extension": ".py",
   "mimetype": "text/x-python",
   "name": "python",
   "nbconvert_exporter": "python",
   "pygments_lexer": "ipython3",
   "version": "3.7.9"
  },
  "orig_nbformat": 4,
  "vscode": {
   "interpreter": {
    "hash": "aee8b7b246df8f9039afb4144a1f6fd8d2ca17a180786b69acc140d282b71a49"
   }
  }
 },
 "nbformat": 4,
 "nbformat_minor": 2
}
