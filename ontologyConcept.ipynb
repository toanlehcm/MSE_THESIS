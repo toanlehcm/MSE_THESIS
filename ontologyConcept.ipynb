{
 "cells": [
  {
   "cell_type": "code",
   "execution_count": 1,
   "metadata": {},
   "outputs": [],
   "source": [
    "DISTRICT_ENTITIES = [\"quận 1\", \"quận 2\", \"quận 3\", \"quận 4\", \"quận 5\", \"quận 6\", \"quận 7\", \"quận 8\", \"quận 9\", \"quận 10\"]\n",
    "WARD_ENTITIES = [\"phường 1\", \"phường 2\", \"phường 3\", \"phường 4\", \"phường 5\", \"phường 6\", \"phường 7\", \"phường 8\", \"phường 9\", \"phường 10\"]\n",
    "STREET_ENTITIES = [\"Lê Lai\", \"Lê Lợi\", \"Lê Duẩn\" ]"
   ]
  },
  {
   "cell_type": "code",
   "execution_count": 2,
   "metadata": {},
   "outputs": [],
   "source": [
    "class BaseValue:\n",
    "    def __init__(self):\n",
    "        self.type = str\n",
    "        self._value = None\n",
    "\n",
    "    @property\n",
    "    def is_filled(self):\n",
    "        return self._value is not None\n",
    "\n",
    "    @classmethod\n",
    "    def class_name(cls):\n",
    "        return cls.__name__\n",
    "\n",
    "    def __repr__(self):\n",
    "        return f\"{self._value}: {self.type.__name__}\"\n",
    "\n",
    "    @property\n",
    "    def value(self):\n",
    "        return self._value\n",
    "\n",
    "    @value.setter\n",
    "    def value(self, _value):\n",
    "        if _value is not None:\n",
    "            if isinstance(_value, self.type):\n",
    "                self._value = _value\n",
    "            else:\n",
    "                raise ValueError(f\"Value of {self.__class__.__name__} must be instance of {self.type}\")"
   ]
  },
  {
   "cell_type": "code",
   "execution_count": 3,
   "metadata": {},
   "outputs": [],
   "source": [
    "class BaseString(BaseValue):\n",
    "    def __init__(self):\n",
    "        super(BaseString, self).__init__()\n",
    "        self.type = str"
   ]
  },
  {
   "cell_type": "code",
   "execution_count": 4,
   "metadata": {},
   "outputs": [],
   "source": [
    "class BaseEntity:\n",
    "    def __repr__(self):\n",
    "        output = {\n",
    "            \"class\": self.__class__.__name__\n",
    "        }\n",
    "        for attr in self.attributes:\n",
    "            output[attr] = self.get_attribute_type(attr)\n",
    "        return str(output)\n",
    "\n",
    "    @classmethod\n",
    "    def class_name(cls):\n",
    "        return cls.__name__\n",
    "\n",
    "    @property\n",
    "    def attributes(self):\n",
    "        output = self.__dir__()\n",
    "        return [item for item in output\n",
    "                if \"__\" not in item and \"_\" != item[0]\n",
    "                and item not in [\"attributes\", \"get_attribute_type\", \"class_name\", \"has_attribute\", \"add_attribute\"]]\n",
    "\n",
    "    def get_attribute_type(self, attr_name):\n",
    "        if attr_name in self.attributes:\n",
    "            return self.__getattribute__(attr_name)\n",
    "\n",
    "    def add_attribute(self, item):\n",
    "        for attr in self.attributes:\n",
    "            attr_value = self.get_attribute_type(attr)\n",
    "            if attr_value.type.__name__ == item.class_name():\n",
    "                attr_value.value = item\n",
    "                return True\n",
    "        return False\n",
    "\n",
    "    # def add_attribute(self, item):\n",
    "    #     attr_value = self.get_attribute_type(item.class_name())\n",
    "    #     attr_value.value = item"
   ]
  },
  {
   "cell_type": "code",
   "execution_count": 5,
   "metadata": {},
   "outputs": [],
   "source": [
    "class District(BaseEntity):\n",
    "    def __init__(self, name=None):\n",
    "        super(District, self).__init__()\n",
    "        self._name = BaseString()\n",
    "        self._name.value = name\n",
    "\n",
    "    @property\n",
    "    def name(self):\n",
    "        return self._name\n",
    "\n",
    "    @name.setter\n",
    "    def name(self, _name):\n",
    "        self._name.value = _name"
   ]
  },
  {
   "cell_type": "code",
   "execution_count": 6,
   "metadata": {},
   "outputs": [],
   "source": [
    "class DistrictType(BaseValue):\n",
    "    def __init__(self):\n",
    "        super(DistrictType, self).__init__()\n",
    "        self.type = District"
   ]
  },
  {
   "cell_type": "code",
   "execution_count": 7,
   "metadata": {},
   "outputs": [],
   "source": [
    "class Ward(BaseEntity):\n",
    "    def __init__(self, name=None, belongDistrict=None):\n",
    "        super(Ward, self).__init__()\n",
    "        self._name = BaseString()\n",
    "        self._belongDistrict = DistrictType()\n",
    "        self._name.value = name\n",
    "        self._belongDistrict.name = belongDistrict\n",
    "\n",
    "    @property\n",
    "    def name(self):\n",
    "        return self._name\n",
    "\n",
    "    @name.setter\n",
    "    def name(self, _name):\n",
    "        self._name.value = _name\n",
    "        \n",
    "    @property\n",
    "    def belongDistrict(self):\n",
    "        return self._belongDistrict\n",
    "    \n",
    "    @belongDistrict.setter\n",
    "    def belongDistrict(self, _belongDistrict):\n",
    "        self._belongDistrict = _belongDistrict"
   ]
  },
  {
   "cell_type": "code",
   "execution_count": 8,
   "metadata": {},
   "outputs": [],
   "source": [
    "class WardType(BaseValue):\n",
    "  def __init__(self):\n",
    "    super(WardType, self).__init__()\n",
    "    self.type = Ward"
   ]
  },
  {
   "cell_type": "code",
   "execution_count": 9,
   "metadata": {},
   "outputs": [],
   "source": [
    "class Street(BaseEntity):\n",
    "    def __init__(self, name=None, belongWard=None):\n",
    "        super(Street, self).__init__()\n",
    "        self._name = BaseString()\n",
    "        self._belongWard = WardType()\n",
    "        self._name.value = name\n",
    "        self._belongWard.name = belongWard\n",
    "        \n",
    "    @property\n",
    "    def name(self):\n",
    "        return self._name\n",
    "    \n",
    "    @name.setter\n",
    "    def name(self, _name):\n",
    "        self._name.value = _name\n",
    "      \n",
    "    @property\n",
    "    def belongWard(self):\n",
    "        return self._belongWard\n",
    "    \n",
    "    @belongWard.setter\n",
    "    def belongWard(self, _belongWard):\n",
    "        self._belongWard = _belongWard"
   ]
  },
  {
   "cell_type": "code",
   "execution_count": 10,
   "metadata": {},
   "outputs": [],
   "source": [
    "class NER:\n",
    "    @staticmethod\n",
    "    def extract(input_text):\n",
    "        output = []\n",
    "        for ent in DISTRICT_ENTITIES:\n",
    "            if ent in input_text:\n",
    "                output.append(District(name=ent))\n",
    "\n",
    "        for ent in WARD_ENTITIES:\n",
    "            if ent in input_text:\n",
    "                output.append(Ward(name=ent))\n",
    "                \n",
    "        for ent in STREET_ENTITIES:\n",
    "            if ent in input_text:\n",
    "                output.append(Street(name=ent))\n",
    "\n",
    "        return output"
   ]
  },
  {
   "cell_type": "code",
   "execution_count": 11,
   "metadata": {},
   "outputs": [
    {
     "name": "stdout",
     "output_type": "stream",
     "text": [
      "[{'class': 'District', 'name': quận 1: str}, {'class': 'Ward', 'name': phường 1: str, 'belongDistrict': None: District}, {'class': 'Street', 'name': Lê Lợi: str, 'belongWard': None: Ward}]\n"
     ]
    }
   ],
   "source": [
    "text = \"Mua nhà ở đường Lê Lợi phường 1 quận 1\"\n",
    "entities = NER.extract(text)\n",
    "print(entities)"
   ]
  },
  {
   "cell_type": "code",
   "execution_count": 12,
   "metadata": {},
   "outputs": [],
   "source": [
    "class RelationExtraction:\n",
    "    @staticmethod\n",
    "    def mapping(input_entities: [BaseEntity]):\n",
    "        for src_entity in input_entities:\n",
    "            for dst_entity in input_entities:\n",
    "                success = src_entity.add_attribute(dst_entity)\n",
    "                print(f\"ORIGINAL ENTITY: {src_entity}\")\n",
    "                if success:\n",
    "                    print(f\"MAPPED ENTITY: {src_entity}\")\n",
    "                print(\"++++++++++++++++++++++++++++++++++++++++\")"
   ]
  },
  {
   "cell_type": "code",
   "execution_count": 13,
   "metadata": {},
   "outputs": [
    {
     "name": "stdout",
     "output_type": "stream",
     "text": [
      "ORIGINAL ENTITY: {'class': 'District', 'name': quận 1: str}\n",
      "++++++++++++++++++++++++++++++++++++++++\n",
      "ORIGINAL ENTITY: {'class': 'District', 'name': quận 1: str}\n",
      "++++++++++++++++++++++++++++++++++++++++\n",
      "ORIGINAL ENTITY: {'class': 'District', 'name': quận 1: str}\n",
      "++++++++++++++++++++++++++++++++++++++++\n",
      "ORIGINAL ENTITY: {'class': 'Ward', 'name': phường 1: str, 'belongDistrict': {'class': 'District', 'name': quận 1: str}: District}\n",
      "MAPPED ENTITY: {'class': 'Ward', 'name': phường 1: str, 'belongDistrict': {'class': 'District', 'name': quận 1: str}: District}\n",
      "++++++++++++++++++++++++++++++++++++++++\n",
      "ORIGINAL ENTITY: {'class': 'Ward', 'name': phường 1: str, 'belongDistrict': {'class': 'District', 'name': quận 1: str}: District}\n",
      "++++++++++++++++++++++++++++++++++++++++\n",
      "ORIGINAL ENTITY: {'class': 'Ward', 'name': phường 1: str, 'belongDistrict': {'class': 'District', 'name': quận 1: str}: District}\n",
      "++++++++++++++++++++++++++++++++++++++++\n",
      "ORIGINAL ENTITY: {'class': 'Street', 'name': Lê Lợi: str, 'belongWard': None: Ward}\n",
      "++++++++++++++++++++++++++++++++++++++++\n",
      "ORIGINAL ENTITY: {'class': 'Street', 'name': Lê Lợi: str, 'belongWard': {'class': 'Ward', 'name': phường 1: str, 'belongDistrict': {'class': 'District', 'name': quận 1: str}: District}: Ward}\n",
      "MAPPED ENTITY: {'class': 'Street', 'name': Lê Lợi: str, 'belongWard': {'class': 'Ward', 'name': phường 1: str, 'belongDistrict': {'class': 'District', 'name': quận 1: str}: District}: Ward}\n",
      "++++++++++++++++++++++++++++++++++++++++\n",
      "ORIGINAL ENTITY: {'class': 'Street', 'name': Lê Lợi: str, 'belongWard': {'class': 'Ward', 'name': phường 1: str, 'belongDistrict': {'class': 'District', 'name': quận 1: str}: District}: Ward}\n",
      "++++++++++++++++++++++++++++++++++++++++\n"
     ]
    }
   ],
   "source": [
    "RelationExtraction.mapping(entities)"
   ]
  },
  {
   "cell_type": "code",
   "execution_count": null,
   "metadata": {},
   "outputs": [],
   "source": []
  }
 ],
 "metadata": {
  "kernelspec": {
   "display_name": "Python 3.7.9 64-bit",
   "language": "python",
   "name": "python3"
  },
  "language_info": {
   "codemirror_mode": {
    "name": "ipython",
    "version": 3
   },
   "file_extension": ".py",
   "mimetype": "text/x-python",
   "name": "python",
   "nbconvert_exporter": "python",
   "pygments_lexer": "ipython3",
   "version": "3.7.9"
  },
  "orig_nbformat": 4,
  "vscode": {
   "interpreter": {
    "hash": "aee8b7b246df8f9039afb4144a1f6fd8d2ca17a180786b69acc140d282b71a49"
   }
  }
 },
 "nbformat": 4,
 "nbformat_minor": 2
}
