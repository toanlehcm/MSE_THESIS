{
 "cells": [
  {
   "cell_type": "code",
   "execution_count": 14,
   "metadata": {},
   "outputs": [],
   "source": [
    "# DISTRICT_ENTITIES = [\"quận 1\", \"quận 2\", \"quận 3\", \"quận 4\",\n",
    "#                      \"quận 5\", \"quận 6\", \"quận 7\", \"quận 8\", \"quận 9\", \"quận 10\"]\n",
    "# WARD_ENTITIES = [\"phường 1\", \"phường 2\", \"phường 3\", \"phường 4\",\n",
    "#                  \"phường 5\", \"phường 6\", \"phường 7\", \"phường 8\", \"phường 9\", \"phường 10\"]\n",
    "# STREET_ENTITIES = [\"Lê Lai\", \"Lê Lợi\", \"Lê Duẩn\"]\n",
    "# HOUSE_ENTITIES = [\"cấp 1\", \"cấp 2\", \"cấp 3\", \"cấp 4\"]\n",
    "# HOUSE_QUERY_ENTITIES = [\"nhà\"]\n"
   ]
  },
  {
   "cell_type": "code",
   "execution_count": 2,
   "metadata": {},
   "outputs": [],
   "source": [
    "class BaseValue:\n",
    "    def __init__(self):\n",
    "        self.type = str\n",
    "        self._value = None\n",
    "\n",
    "    @property\n",
    "    def is_filled(self):\n",
    "        return self._value is not None\n",
    "\n",
    "    @classmethod\n",
    "    def class_name(cls):\n",
    "        return cls.__name__\n",
    "\n",
    "    def __repr__(self):\n",
    "        return f\"{self._value}: {self.type.__name__}\"\n",
    "\n",
    "    @property\n",
    "    def value(self):\n",
    "        return self._value\n",
    "\n",
    "    @value.setter\n",
    "    def value(self, _value):\n",
    "        if _value is not None:\n",
    "            if isinstance(_value, self.type):\n",
    "                self._value = _value\n",
    "            else:\n",
    "                raise ValueError(\n",
    "                    f\"Value of {self.__class__.__name__} must be instance of {self.type}\")\n"
   ]
  },
  {
   "cell_type": "code",
   "execution_count": 3,
   "metadata": {},
   "outputs": [],
   "source": [
    "class BaseString(BaseValue):\n",
    "    def __init__(self):\n",
    "        super(BaseString, self).__init__()\n",
    "        self.type = str\n"
   ]
  },
  {
   "cell_type": "code",
   "execution_count": 4,
   "metadata": {},
   "outputs": [],
   "source": [
    "class BaseEntity:\n",
    "    def __repr__(self):\n",
    "        output = {\n",
    "            \"class\": self.__class__.__name__\n",
    "        }\n",
    "        for attr in self.attributes:\n",
    "            output[attr] = self.get_attribute_type(attr)\n",
    "        return str(output)\n",
    "\n",
    "    @classmethod\n",
    "    def class_name(cls):\n",
    "        return cls.__name__\n",
    "\n",
    "    @property\n",
    "    def attributes(self):\n",
    "        output = self.__dir__()\n",
    "        return [item for item in output\n",
    "                if \"__\" not in item and \"_\" != item[0]\n",
    "                and item not in [\"attributes\", \"get_attribute_type\", \"class_name\", \"has_attribute\", \"add_attribute\"]]\n",
    "\n",
    "    def get_attribute_type(self, attr_name):\n",
    "        if attr_name in self.attributes:\n",
    "            return self.__getattribute__(attr_name)\n",
    "\n",
    "    def add_attribute(self, item):\n",
    "        for attr in self.attributes:\n",
    "            attr_value = self.get_attribute_type(attr)\n",
    "            if attr_value.type.__name__ == item.class_name():\n",
    "                attr_value.value = item\n",
    "                return True\n",
    "        return False\n",
    "\n",
    "    # def add_attribute(self, item):\n",
    "    #     attr_value = self.get_attribute_type(item.class_name())\n",
    "    #     attr_value.value = item\n"
   ]
  },
  {
   "cell_type": "code",
   "execution_count": 5,
   "metadata": {},
   "outputs": [],
   "source": [
    "class District(BaseEntity):\n",
    "    def __init__(self, name=None):\n",
    "        super(District, self).__init__()\n",
    "        self._name = BaseString()\n",
    "        self._name.value = name\n",
    "\n",
    "    @property\n",
    "    def name(self):\n",
    "        return self._name\n",
    "\n",
    "    @name.setter\n",
    "    def name(self, _name):\n",
    "        self._name.value = _name\n"
   ]
  },
  {
   "cell_type": "code",
   "execution_count": 6,
   "metadata": {},
   "outputs": [],
   "source": [
    "class DistrictType(BaseValue):\n",
    "    def __init__(self):\n",
    "        super(DistrictType, self).__init__()\n",
    "        self.type = District\n"
   ]
  },
  {
   "cell_type": "code",
   "execution_count": 7,
   "metadata": {},
   "outputs": [],
   "source": [
    "class Ward(BaseEntity):\n",
    "    def __init__(self, name=None, belongDistrict=None):\n",
    "        super(Ward, self).__init__()\n",
    "        self._name = BaseString()\n",
    "        self._belongDistrict = DistrictType()\n",
    "        self._name.value = name\n",
    "        self._belongDistrict.name = belongDistrict\n",
    "\n",
    "    @property\n",
    "    def name(self):\n",
    "        return self._name\n",
    "\n",
    "    @name.setter\n",
    "    def name(self, _name):\n",
    "        self._name.value = _name\n",
    "\n",
    "    @property\n",
    "    def belongDistrict(self):\n",
    "        return self._belongDistrict\n",
    "\n",
    "    @belongDistrict.setter\n",
    "    def belongDistrict(self, _belongDistrict):\n",
    "        self._belongDistrict = _belongDistrict\n"
   ]
  },
  {
   "cell_type": "code",
   "execution_count": 8,
   "metadata": {},
   "outputs": [],
   "source": [
    "class WardType(BaseValue):\n",
    "    def __init__(self):\n",
    "        super(WardType, self).__init__()\n",
    "        self.type = Ward\n"
   ]
  },
  {
   "cell_type": "code",
   "execution_count": 9,
   "metadata": {},
   "outputs": [],
   "source": [
    "class Street(BaseEntity):\n",
    "    def __init__(self, name=None, belongWard=None):\n",
    "        super(Street, self).__init__()\n",
    "        self._name = BaseString()\n",
    "        self._belongWard = WardType()\n",
    "        self._name.value = name\n",
    "        self._belongWard.name = belongWard\n",
    "\n",
    "    @property\n",
    "    def name(self):\n",
    "        return self._name\n",
    "\n",
    "    @name.setter\n",
    "    def name(self, _name):\n",
    "        self._name.value = _name\n",
    "\n",
    "    @property\n",
    "    def belongWard(self):\n",
    "        return self._belongWard\n",
    "\n",
    "    @belongWard.setter\n",
    "    def belongWard(self, _belongWard):\n",
    "        self._belongWard = _belongWard\n"
   ]
  },
  {
   "cell_type": "code",
   "execution_count": 10,
   "metadata": {},
   "outputs": [],
   "source": [
    "class House:\n",
    "    def __init__(self, name=None):\n",
    "        super(House, self).__init__()\n",
    "        self._name = BaseString()\n",
    "        self._name.value = name\n",
    "\n",
    "    @property\n",
    "    def name(self):\n",
    "        return self._name\n",
    "\n",
    "    @name.setter\n",
    "    def name(self, _name):\n",
    "        self._name.value = _name\n"
   ]
  },
  {
   "cell_type": "code",
   "execution_count": 11,
   "metadata": {},
   "outputs": [],
   "source": [
    "class NER:\n",
    "    @staticmethod\n",
    "    def extract(input_text):\n",
    "        label = \"\"\n",
    "        output = []\n",
    "\n",
    "        for ent in DISTRICT_ENTITIES:\n",
    "            if ent in input_text:\n",
    "                output.append(District(name=ent))\n",
    "            else:\n",
    "                label = \"District\"\n",
    "\n",
    "        for ent in WARD_ENTITIES:\n",
    "            if ent in input_text:\n",
    "                output.append(Ward(name=ent))\n",
    "            else:\n",
    "                label = \"Ward\"\n",
    "\n",
    "        for ent in STREET_ENTITIES:\n",
    "            if ent in input_text:\n",
    "                output.append(Street(name=ent))\n",
    "            else:\n",
    "                label = \"Street\"\n",
    "\n",
    "        for ent in HOUSE_ENTITIES:\n",
    "            if ent in input_text:\n",
    "                output.append(House(name=ent))\n",
    "            else:\n",
    "                label = \"House\"\n",
    "\n",
    "        return label, output\n"
   ]
  },
  {
   "cell_type": "code",
   "execution_count": 15,
   "metadata": {},
   "outputs": [
    {
     "name": "stdout",
     "output_type": "stream",
     "text": [
      "House\n",
      "[{'class': 'District', 'name': quận 1: str}, {'class': 'Ward', 'name': phường 1: str, 'belongDistrict': None: District}]\n"
     ]
    }
   ],
   "source": [
    "text = \"Mua nhà ở phường 1 quận 1\"\n",
    "[matchLabel, whereLabel] = NER.extract(text)\n",
    "print(matchLabel)\n",
    "print(whereLabel)\n"
   ]
  },
  {
   "cell_type": "code",
   "execution_count": 14,
   "metadata": {},
   "outputs": [],
   "source": [
    "# class RelationExtraction:\n",
    "#     @staticmethod\n",
    "#     def mapping(input_entities: [BaseEntity]):\n",
    "#         for src_entity in input_entities:\n",
    "#             for dst_entity in input_entities:\n",
    "#                 success = src_entity.add_attribute(dst_entity)\n",
    "#                 print(f\"ORIGINAL ENTITY: {src_entity}\")\n",
    "#                 if success:\n",
    "#                     print(f\"MAPPED ENTITY: {src_entity}\")\n",
    "#                 print(\"++++++++++++++++++++++++++++++++++++++++\")\n"
   ]
  },
  {
   "cell_type": "code",
   "execution_count": 15,
   "metadata": {},
   "outputs": [],
   "source": [
    "# RelationExtraction.mapping(entities)\n"
   ]
  },
  {
   "cell_type": "code",
   "execution_count": 113,
   "metadata": {},
   "outputs": [],
   "source": [
    "import pandas as pd\n",
    "from neo4j import GraphDatabase\n",
    "import json"
   ]
  },
  {
   "cell_type": "code",
   "execution_count": 16,
   "metadata": {},
   "outputs": [],
   "source": [
    "driver = GraphDatabase.driver('bolt://localhost:7687', auth=('neo4j', 'password'))"
   ]
  },
  {
   "cell_type": "code",
   "execution_count": 75,
   "metadata": {},
   "outputs": [],
   "source": [
    "def run_query(query):\n",
    "    # print(\"---query--\")\n",
    "    # print(query)\n",
    "    with driver.session(database=\"htdb\") as session:\n",
    "        result = session.run(query)\n",
    "        # print(\"----- result -----\")\n",
    "        # print(result)\n",
    "\n",
    "        # for r in result:\n",
    "        #     print(r.values())\n",
    "\n",
    "        # return result\n",
    "        return pd.DataFrame([r.values() for r in result], columns=result.keys())\n"
   ]
  },
  {
   "cell_type": "code",
   "execution_count": 22,
   "metadata": {},
   "outputs": [],
   "source": [
    "# cqlNodeQuery = \"match (n:\" + matchLabel + \"), (n1:Ward), (n2:District) where n1.name = '\" + \\\n",
    "#     whereLabel[1].name.value + \"' and n2.name = '\" + \\\n",
    "#     whereLabel[0].name.value+\"' return n\"\n",
    "\n",
    "# run_query(cqlNodeQuery)"
   ]
  },
  {
   "cell_type": "code",
   "execution_count": null,
   "metadata": {},
   "outputs": [],
   "source": [
    "# cqlNodeQuery = \"match (n:House) where n.ward_id = '1' and n.district_id = '1' return n\"\n",
    "# cqlNodeQuery = \"match (n:House), (n1:Ward), (n2:District) where n1.name = 'phường 1' and n2.name = 'quận 1' return n\"\n",
    "# match (n1:House), (n2:Price), (n3:District) where n3.individual = '1' return n1, n2 limit 50"
   ]
  },
  {
   "cell_type": "code",
   "execution_count": 99,
   "metadata": {},
   "outputs": [
    {
     "name": "stdout",
     "output_type": "stream",
     "text": [
      "              labels        properties  property_values\n",
      "0     [House_number]  [individual, ID]      [319, 2831]\n",
      "1     [House_number]  [individual, ID]      [300, 2852]\n",
      "2     [House_number]  [individual, ID]      [155, 2857]\n",
      "3     [House_number]  [individual, ID]  [g1 901a, 2876]\n",
      "4     [House_number]  [individual, ID]       [63, 2884]\n",
      "...              ...               ...              ...\n",
      "5149  [House_number]  [individual, ID]      [359, 2781]\n",
      "5150  [House_number]  [individual, ID]     [835c, 2784]\n",
      "5151  [House_number]  [individual, ID]      [152, 2795]\n",
      "5152  [House_number]  [individual, ID]   [752/28, 2801]\n",
      "5153  [House_number]  [individual, ID]      [608, 2810]\n",
      "\n",
      "[5154 rows x 3 columns]\n"
     ]
    }
   ],
   "source": [
    "# get_labels = \"MATCH (n) RETURN distinct labels(n)\"\n",
    "get_labels_query = \"match(n) return labels(n) as labels, keys(n) as properties, \" + \\\n",
    "    \"reduce(accumulator = [], key IN keys(n) | accumulator + n[key]) as property_values\"\n",
    "\n",
    "result_data = run_query(get_labels_query)\n",
    "\n",
    "print(result_data)\n",
    "# print(\"-----\")\n",
    "# print(result_data.labels)\n",
    "# print(\"-----\")\n",
    "# print(result_data.properties)\n",
    "# print(\"-----\")\n",
    "# print(result_data.property_values)\n",
    "# print(\"-----\")\n",
    "# print(result_data.values)"
   ]
  },
  {
   "cell_type": "code",
   "execution_count": 102,
   "metadata": {},
   "outputs": [
    {
     "name": "stdout",
     "output_type": "stream",
     "text": [
      "labels\n",
      "properties\n",
      "property_values\n"
     ]
    }
   ],
   "source": [
    "for key_name in result_data.keys():\n",
    "  print(key_name)"
   ]
  },
  {
   "cell_type": "code",
   "execution_count": 104,
   "metadata": {},
   "outputs": [
    {
     "name": "stdout",
     "output_type": "stream",
     "text": [
      "properties\n"
     ]
    }
   ],
   "source": [
    "print(result_data.keys()[1])"
   ]
  },
  {
   "cell_type": "code",
   "execution_count": 109,
   "metadata": {},
   "outputs": [],
   "source": [
    "# for result_data_values in result_data:\n",
    "#   print(result_data_values['properties'])"
   ]
  },
  {
   "cell_type": "code",
   "execution_count": 111,
   "metadata": {},
   "outputs": [
    {
     "name": "stdout",
     "output_type": "stream",
     "text": [
      "0             shophouse\n",
      "1              chung cu\n",
      "2                  lien\n",
      "3             officetel\n",
      "4         toa vinaconex\n",
      "             ...       \n",
      "154                ntcb\n",
      "155    penthouse duplex\n",
      "156    lau dai biet phu\n",
      "157            penhouse\n",
      "158           villas dt\n",
      "Name: alias, Length: 159, dtype: object\n"
     ]
    }
   ],
   "source": [
    "HOUSE_DATA = pd.read_csv(\"data/house_data.csv\")\n",
    "print(HOUSE_DATA['alias'])"
   ]
  },
  {
   "cell_type": "code",
   "execution_count": 147,
   "metadata": {},
   "outputs": [],
   "source": [
    "with open('data/intent_alias_data.json', 'r', encoding=\"utf-8\") as fp:\n",
    "    alias_file = json.load(fp)\n",
    "    fp.close()"
   ]
  },
  {
   "cell_type": "code",
   "execution_count": 1,
   "metadata": {},
   "outputs": [],
   "source": [
    "# print(alias_file)"
   ]
  },
  {
   "cell_type": "code",
   "execution_count": 100,
   "metadata": {},
   "outputs": [
    {
     "name": "stdout",
     "output_type": "stream",
     "text": [
      "        labels(n)\n",
      "0  [House_number]\n",
      "1         [House]\n",
      "2          [City]\n",
      "3      [District]\n",
      "4          [Ward]\n",
      "5        [Street]\n"
     ]
    }
   ],
   "source": [
    "get_list_labels_query = \"MATCH (n) RETURN distinct labels(n)\"\n",
    "\n",
    "list_labels = run_query(get_list_labels_query)\n",
    "print(list_labels)"
   ]
  },
  {
   "cell_type": "code",
   "execution_count": null,
   "metadata": {},
   "outputs": [],
   "source": [
    "\"------------------------------\""
   ]
  },
  {
   "cell_type": "code",
   "execution_count": 183,
   "metadata": {},
   "outputs": [
    {
     "name": "stdout",
     "output_type": "stream",
     "text": [
      "House_number\n",
      "House\n",
      "y\n",
      "City\n",
      "District\n",
      "Ward\n",
      "Street\n"
     ]
    }
   ],
   "source": [
    "get_alias_list_query = \"match (n) return labels(n) as label, collect(n.alias) as alias\"\n",
    "\n",
    "alias_list_data = run_query(get_alias_list_query)\n",
    "\n",
    "# print(alias_list_data[\"label\"][1][0])\n",
    "\n",
    "for label_item in alias_list_data[\"label\"]:\n",
    "  print(label_item[0])\n",
    "  if label_item[0] == \"House\":\n",
    "    print(\"y\")\n",
    "\n",
    "a= alias_list_data.loc[alias_list_data['label'] == \"[House]\"]\n",
    "# (df.loc[df['A'] == 'foo'])\n",
    "# print(a)"
   ]
  },
  {
   "cell_type": "code",
   "execution_count": 156,
   "metadata": {},
   "outputs": [
    {
     "name": "stdout",
     "output_type": "stream",
     "text": [
      "            label                                         individual\n",
      "0  [House_number]  [319, 300, 155, g1 901a, 63, 297, 268, 217, 13...\n",
      "1         [House]  [shophouse, chung cu, lien, officetel, toa vin...\n",
      "2          [City]  [bien hoa, hcm, vinh phuc, binh duong, hn, da ...\n",
      "3      [District]  [ha dong, 3, 10, phu nhuan, long thanh, binh t...\n",
      "4          [Ward]  [6, 8, loc an, binh hung hoa a, tan dinh, hiep...\n",
      "5        [Street]  [bien hoa vung tau, ngo thi nham, tran quoc to...\n"
     ]
    }
   ],
   "source": [
    "get_individual_list_query = \"match (n) return labels(n) as label, collect(n.individual) as individual\"\n",
    "\n",
    "individual_list_data = run_query(get_individual_list_query)\n",
    "\n",
    "print(individual_list_data)"
   ]
  },
  {
   "cell_type": "code",
   "execution_count": 187,
   "metadata": {},
   "outputs": [
    {
     "name": "stdout",
     "output_type": "stream",
     "text": [
      "House_number\n",
      "House\n",
      "City\n",
      "District\n",
      "Ward\n",
      "Street\n"
     ]
    }
   ],
   "source": [
    "# print(list_labels[str(list_labels.keys()[0])])\n",
    "label = \"\"\n",
    "output = []\n",
    "\n",
    "for label_item in list_labels[str(list_labels.keys()[0])]:\n",
    "    label_name = label_item[0]\n",
    "    # print(label_name)\n",
    "\n",
    "    for label_item in alias_list_data[\"label\"]:\n",
    "        # print(label_item[0])\n",
    "        if label_item[0] == label_name:\n",
    "            print(label_item[0])\n",
    "\n",
    "    # alias_list = alias_file[label_name]\n",
    "    # print()\n",
    "\n",
    "    for alias_text in alias_list:\n",
    "        # print(text)\n",
    "        # print(type(alias_text), alias_text)\n",
    "        if alias_text in text:\n",
    "            # print(text)\n",
    "            print(label_name)\n",
    "            # print(alias_text)\n",
    "        #     output.append(District(name=alias_text))\n",
    "        # else:\n",
    "        #     print(\"no--\", alias_text)\n",
    "        #     label = \"District\"\n",
    "\n"
   ]
  },
  {
   "cell_type": "code",
   "execution_count": 125,
   "metadata": {},
   "outputs": [
    {
     "name": "stdout",
     "output_type": "stream",
     "text": [
      "Mua nhà ở phường 1 quận 1\n"
     ]
    }
   ],
   "source": [
    "print(text)"
   ]
  },
  {
   "cell_type": "code",
   "execution_count": 143,
   "metadata": {},
   "outputs": [
    {
     "name": "stdout",
     "output_type": "stream",
     "text": [
      "quận 1\n"
     ]
    }
   ],
   "source": [
    "# for ent in DISTRICT_ENTITIES:\n",
    "        # print(text)\n",
    "        # print(type(ent), ent)\n",
    "        # if ent in text:\n",
    "            # print(ent)\n",
    "        #     print(label_name)\n",
    "        #     print(ent)\n",
    "        #     output.append(District(name=ent))\n",
    "        # else:\n",
    "        #     label = \"District\""
   ]
  }
 ],
 "metadata": {
  "kernelspec": {
   "display_name": "Python 3.7.9 64-bit",
   "language": "python",
   "name": "python3"
  },
  "language_info": {
   "codemirror_mode": {
    "name": "ipython",
    "version": 3
   },
   "file_extension": ".py",
   "mimetype": "text/x-python",
   "name": "python",
   "nbconvert_exporter": "python",
   "pygments_lexer": "ipython3",
   "version": "3.7.9"
  },
  "orig_nbformat": 4,
  "vscode": {
   "interpreter": {
    "hash": "5109d816b82be14675a6b11f8e0f0d2e80f029176ed3710d54e125caa8520dfd"
   }
  }
 },
 "nbformat": 4,
 "nbformat_minor": 2
}
