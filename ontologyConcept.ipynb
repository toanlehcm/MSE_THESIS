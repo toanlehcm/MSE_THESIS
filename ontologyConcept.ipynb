{
 "cells": [
  {
   "cell_type": "code",
   "execution_count": 14,
   "metadata": {},
   "outputs": [],
   "source": [
    "DISTRICT_ENTITIES = [\"quận 1\", \"quận 2\", \"quận 3\", \"quận 4\",\n",
    "                     \"quận 5\", \"quận 6\", \"quận 7\", \"quận 8\", \"quận 9\", \"quận 10\"]\n",
    "WARD_ENTITIES = [\"phường 1\", \"phường 2\", \"phường 3\", \"phường 4\",\n",
    "                 \"phường 5\", \"phường 6\", \"phường 7\", \"phường 8\", \"phường 9\", \"phường 10\"]\n",
    "STREET_ENTITIES = [\"Lê Lai\", \"Lê Lợi\", \"Lê Duẩn\"]\n",
    "HOUSE_ENTITIES = [\"cấp 1\", \"cấp 2\", \"cấp 3\", \"cấp 4\"]\n",
    "HOUSE_QUERY_ENTITIES = [\"nhà\"]\n"
   ]
  },
  {
   "cell_type": "code",
   "execution_count": 2,
   "metadata": {},
   "outputs": [],
   "source": [
    "class BaseValue:\n",
    "    def __init__(self):\n",
    "        self.type = str\n",
    "        self._value = None\n",
    "\n",
    "    @property\n",
    "    def is_filled(self):\n",
    "        return self._value is not None\n",
    "\n",
    "    @classmethod\n",
    "    def class_name(cls):\n",
    "        return cls.__name__\n",
    "\n",
    "    def __repr__(self):\n",
    "        return f\"{self._value}: {self.type.__name__}\"\n",
    "\n",
    "    @property\n",
    "    def value(self):\n",
    "        return self._value\n",
    "\n",
    "    @value.setter\n",
    "    def value(self, _value):\n",
    "        if _value is not None:\n",
    "            if isinstance(_value, self.type):\n",
    "                self._value = _value\n",
    "            else:\n",
    "                raise ValueError(\n",
    "                    f\"Value of {self.__class__.__name__} must be instance of {self.type}\")\n"
   ]
  },
  {
   "cell_type": "code",
   "execution_count": 3,
   "metadata": {},
   "outputs": [],
   "source": [
    "class BaseString(BaseValue):\n",
    "    def __init__(self):\n",
    "        super(BaseString, self).__init__()\n",
    "        self.type = str\n"
   ]
  },
  {
   "cell_type": "code",
   "execution_count": 4,
   "metadata": {},
   "outputs": [],
   "source": [
    "class BaseEntity:\n",
    "    def __repr__(self):\n",
    "        output = {\n",
    "            \"class\": self.__class__.__name__\n",
    "        }\n",
    "        for attr in self.attributes:\n",
    "            output[attr] = self.get_attribute_type(attr)\n",
    "        return str(output)\n",
    "\n",
    "    @classmethod\n",
    "    def class_name(cls):\n",
    "        return cls.__name__\n",
    "\n",
    "    @property\n",
    "    def attributes(self):\n",
    "        output = self.__dir__()\n",
    "        return [item for item in output\n",
    "                if \"__\" not in item and \"_\" != item[0]\n",
    "                and item not in [\"attributes\", \"get_attribute_type\", \"class_name\", \"has_attribute\", \"add_attribute\"]]\n",
    "\n",
    "    def get_attribute_type(self, attr_name):\n",
    "        if attr_name in self.attributes:\n",
    "            return self.__getattribute__(attr_name)\n",
    "\n",
    "    def add_attribute(self, item):\n",
    "        for attr in self.attributes:\n",
    "            attr_value = self.get_attribute_type(attr)\n",
    "            if attr_value.type.__name__ == item.class_name():\n",
    "                attr_value.value = item\n",
    "                return True\n",
    "        return False\n",
    "\n",
    "    # def add_attribute(self, item):\n",
    "    #     attr_value = self.get_attribute_type(item.class_name())\n",
    "    #     attr_value.value = item\n"
   ]
  },
  {
   "cell_type": "code",
   "execution_count": 5,
   "metadata": {},
   "outputs": [],
   "source": [
    "class District(BaseEntity):\n",
    "    def __init__(self, name=None):\n",
    "        super(District, self).__init__()\n",
    "        self._name = BaseString()\n",
    "        self._name.value = name\n",
    "\n",
    "    @property\n",
    "    def name(self):\n",
    "        return self._name\n",
    "\n",
    "    @name.setter\n",
    "    def name(self, _name):\n",
    "        self._name.value = _name\n"
   ]
  },
  {
   "cell_type": "code",
   "execution_count": 6,
   "metadata": {},
   "outputs": [],
   "source": [
    "class DistrictType(BaseValue):\n",
    "    def __init__(self):\n",
    "        super(DistrictType, self).__init__()\n",
    "        self.type = District\n"
   ]
  },
  {
   "cell_type": "code",
   "execution_count": 7,
   "metadata": {},
   "outputs": [],
   "source": [
    "class Ward(BaseEntity):\n",
    "    def __init__(self, name=None, belongDistrict=None):\n",
    "        super(Ward, self).__init__()\n",
    "        self._name = BaseString()\n",
    "        self._belongDistrict = DistrictType()\n",
    "        self._name.value = name\n",
    "        self._belongDistrict.name = belongDistrict\n",
    "\n",
    "    @property\n",
    "    def name(self):\n",
    "        return self._name\n",
    "\n",
    "    @name.setter\n",
    "    def name(self, _name):\n",
    "        self._name.value = _name\n",
    "\n",
    "    @property\n",
    "    def belongDistrict(self):\n",
    "        return self._belongDistrict\n",
    "\n",
    "    @belongDistrict.setter\n",
    "    def belongDistrict(self, _belongDistrict):\n",
    "        self._belongDistrict = _belongDistrict\n"
   ]
  },
  {
   "cell_type": "code",
   "execution_count": 8,
   "metadata": {},
   "outputs": [],
   "source": [
    "class WardType(BaseValue):\n",
    "    def __init__(self):\n",
    "        super(WardType, self).__init__()\n",
    "        self.type = Ward\n"
   ]
  },
  {
   "cell_type": "code",
   "execution_count": 9,
   "metadata": {},
   "outputs": [],
   "source": [
    "class Street(BaseEntity):\n",
    "    def __init__(self, name=None, belongWard=None):\n",
    "        super(Street, self).__init__()\n",
    "        self._name = BaseString()\n",
    "        self._belongWard = WardType()\n",
    "        self._name.value = name\n",
    "        self._belongWard.name = belongWard\n",
    "\n",
    "    @property\n",
    "    def name(self):\n",
    "        return self._name\n",
    "\n",
    "    @name.setter\n",
    "    def name(self, _name):\n",
    "        self._name.value = _name\n",
    "\n",
    "    @property\n",
    "    def belongWard(self):\n",
    "        return self._belongWard\n",
    "\n",
    "    @belongWard.setter\n",
    "    def belongWard(self, _belongWard):\n",
    "        self._belongWard = _belongWard\n"
   ]
  },
  {
   "cell_type": "code",
   "execution_count": 10,
   "metadata": {},
   "outputs": [],
   "source": [
    "class House:\n",
    "    def __init__(self, name=None):\n",
    "        super(House, self).__init__()\n",
    "        self._name = BaseString()\n",
    "        self._name.value = name\n",
    "\n",
    "    @property\n",
    "    def name(self):\n",
    "        return self._name\n",
    "\n",
    "    @name.setter\n",
    "    def name(self, _name):\n",
    "        self._name.value = _name\n"
   ]
  },
  {
   "cell_type": "code",
   "execution_count": 11,
   "metadata": {},
   "outputs": [],
   "source": [
    "class NER:\n",
    "    @staticmethod\n",
    "    def extract(input_text):\n",
    "        label = \"\"\n",
    "        output = []\n",
    "\n",
    "        for ent in DISTRICT_ENTITIES:\n",
    "            if ent in input_text:\n",
    "                output.append(District(name=ent))\n",
    "            else:\n",
    "                label = \"District\"\n",
    "\n",
    "        for ent in WARD_ENTITIES:\n",
    "            if ent in input_text:\n",
    "                output.append(Ward(name=ent))\n",
    "            else:\n",
    "                label = \"Ward\"\n",
    "\n",
    "        for ent in STREET_ENTITIES:\n",
    "            if ent in input_text:\n",
    "                output.append(Street(name=ent))\n",
    "            else:\n",
    "                label = \"Street\"\n",
    "\n",
    "        for ent in HOUSE_ENTITIES:\n",
    "            if ent in input_text:\n",
    "                output.append(House(name=ent))\n",
    "            else:\n",
    "                label = \"House\"\n",
    "\n",
    "        return label, output\n"
   ]
  },
  {
   "cell_type": "code",
   "execution_count": 15,
   "metadata": {},
   "outputs": [
    {
     "name": "stdout",
     "output_type": "stream",
     "text": [
      "House\n",
      "[{'class': 'District', 'name': quận 1: str}, {'class': 'Ward', 'name': phường 1: str, 'belongDistrict': None: District}]\n"
     ]
    }
   ],
   "source": [
    "text = \"Mua nhà ở phường 1 quận 1\"\n",
    "[matchLabel, whereLabel] = NER.extract(text)\n",
    "print(matchLabel)\n",
    "print(whereLabel)\n"
   ]
  },
  {
   "cell_type": "code",
   "execution_count": 14,
   "metadata": {},
   "outputs": [],
   "source": [
    "# class RelationExtraction:\n",
    "#     @staticmethod\n",
    "#     def mapping(input_entities: [BaseEntity]):\n",
    "#         for src_entity in input_entities:\n",
    "#             for dst_entity in input_entities:\n",
    "#                 success = src_entity.add_attribute(dst_entity)\n",
    "#                 print(f\"ORIGINAL ENTITY: {src_entity}\")\n",
    "#                 if success:\n",
    "#                     print(f\"MAPPED ENTITY: {src_entity}\")\n",
    "#                 print(\"++++++++++++++++++++++++++++++++++++++++\")\n"
   ]
  },
  {
   "cell_type": "code",
   "execution_count": 15,
   "metadata": {},
   "outputs": [],
   "source": [
    "# RelationExtraction.mapping(entities)\n"
   ]
  },
  {
   "cell_type": "code",
   "execution_count": 113,
   "metadata": {},
   "outputs": [],
   "source": [
    "import pandas as pd\n",
    "from neo4j import GraphDatabase\n",
    "import json"
   ]
  },
  {
   "cell_type": "code",
   "execution_count": 16,
   "metadata": {},
   "outputs": [],
   "source": [
    "driver = GraphDatabase.driver('bolt://localhost:7687', auth=('neo4j', 'password'))"
   ]
  },
  {
   "cell_type": "code",
   "execution_count": 75,
   "metadata": {},
   "outputs": [],
   "source": [
    "def run_query(query):\n",
    "    # print(\"---query--\")\n",
    "    # print(query)\n",
    "    with driver.session(database=\"htdb\") as session:\n",
    "        result = session.run(query)\n",
    "        # print(\"----- result -----\")\n",
    "        # print(result)\n",
    "\n",
    "        # for r in result:\n",
    "        #     print(r.values())\n",
    "\n",
    "        # return result\n",
    "        return pd.DataFrame([r.values() for r in result], columns=result.keys())\n"
   ]
  },
  {
   "cell_type": "code",
   "execution_count": 22,
   "metadata": {},
   "outputs": [],
   "source": [
    "# cqlNodeQuery = \"match (n:\" + matchLabel + \"), (n1:Ward), (n2:District) where n1.name = '\" + \\\n",
    "#     whereLabel[1].name.value + \"' and n2.name = '\" + \\\n",
    "#     whereLabel[0].name.value+\"' return n\"\n",
    "\n",
    "# run_query(cqlNodeQuery)"
   ]
  },
  {
   "cell_type": "code",
   "execution_count": null,
   "metadata": {},
   "outputs": [],
   "source": [
    "# cqlNodeQuery = \"match (n:House) where n.ward_id = '1' and n.district_id = '1' return n\"\n",
    "# cqlNodeQuery = \"match (n:House), (n1:Ward), (n2:District) where n1.name = 'phường 1' and n2.name = 'quận 1' return n\""
   ]
  },
  {
   "cell_type": "code",
   "execution_count": 99,
   "metadata": {},
   "outputs": [
    {
     "name": "stdout",
     "output_type": "stream",
     "text": [
      "              labels        properties  property_values\n",
      "0     [House_number]  [individual, ID]      [319, 2831]\n",
      "1     [House_number]  [individual, ID]      [300, 2852]\n",
      "2     [House_number]  [individual, ID]      [155, 2857]\n",
      "3     [House_number]  [individual, ID]  [g1 901a, 2876]\n",
      "4     [House_number]  [individual, ID]       [63, 2884]\n",
      "...              ...               ...              ...\n",
      "5149  [House_number]  [individual, ID]      [359, 2781]\n",
      "5150  [House_number]  [individual, ID]     [835c, 2784]\n",
      "5151  [House_number]  [individual, ID]      [152, 2795]\n",
      "5152  [House_number]  [individual, ID]   [752/28, 2801]\n",
      "5153  [House_number]  [individual, ID]      [608, 2810]\n",
      "\n",
      "[5154 rows x 3 columns]\n"
     ]
    }
   ],
   "source": [
    "# get_labels = \"MATCH (n) RETURN distinct labels(n)\"\n",
    "get_labels_query = \"match(n) return labels(n) as labels, keys(n) as properties, \" + \\\n",
    "    \"reduce(accumulator = [], key IN keys(n) | accumulator + n[key]) as property_values\"\n",
    "\n",
    "result_data = run_query(get_labels_query)\n",
    "\n",
    "print(result_data)\n",
    "# print(\"-----\")\n",
    "# print(result_data.labels)\n",
    "# print(\"-----\")\n",
    "# print(result_data.properties)\n",
    "# print(\"-----\")\n",
    "# print(result_data.property_values)\n",
    "# print(\"-----\")\n",
    "# print(result_data.values)"
   ]
  },
  {
   "cell_type": "code",
   "execution_count": 102,
   "metadata": {},
   "outputs": [
    {
     "name": "stdout",
     "output_type": "stream",
     "text": [
      "labels\n",
      "properties\n",
      "property_values\n"
     ]
    }
   ],
   "source": [
    "for key_name in result_data.keys():\n",
    "  print(key_name)"
   ]
  },
  {
   "cell_type": "code",
   "execution_count": 104,
   "metadata": {},
   "outputs": [
    {
     "name": "stdout",
     "output_type": "stream",
     "text": [
      "properties\n"
     ]
    }
   ],
   "source": [
    "print(result_data.keys()[1])"
   ]
  },
  {
   "cell_type": "code",
   "execution_count": 109,
   "metadata": {},
   "outputs": [],
   "source": [
    "# for result_data_values in result_data:\n",
    "#   print(result_data_values['properties'])"
   ]
  },
  {
   "cell_type": "code",
   "execution_count": 111,
   "metadata": {},
   "outputs": [
    {
     "name": "stdout",
     "output_type": "stream",
     "text": [
      "0             shophouse\n",
      "1              chung cu\n",
      "2                  lien\n",
      "3             officetel\n",
      "4         toa vinaconex\n",
      "             ...       \n",
      "154                ntcb\n",
      "155    penthouse duplex\n",
      "156    lau dai biet phu\n",
      "157            penhouse\n",
      "158           villas dt\n",
      "Name: alias, Length: 159, dtype: object\n"
     ]
    }
   ],
   "source": [
    "HOUSE_DATA = pd.read_csv(\"data/house_data.csv\")\n",
    "print(HOUSE_DATA['alias'])"
   ]
  },
  {
   "cell_type": "code",
   "execution_count": 147,
   "metadata": {},
   "outputs": [],
   "source": [
    "with open('data/intent_alias_data.json', 'r', encoding=\"utf-8\") as fp:\n",
    "    alias_file = json.load(fp)\n",
    "    fp.close()"
   ]
  },
  {
   "cell_type": "code",
   "execution_count": 164,
   "metadata": {},
   "outputs": [
    {
     "name": "stdout",
     "output_type": "stream",
     "text": [
      "{'Price': ['giá', 'giá mấy tiền', 'giá bao nhiêu', 'giá bao nhiêu tiền', 'giá bn tiền', 'giá khoảng bao nhiêu', 'giá khoảng bao nhiêu tiền', 'giá khoảng bn', 'giá khoảng bn tiền', 'giá thế nào', 'giá như thế nào', 'giá ra sao', 'tầm giá mấy', 'tầm giá mấy tiền', 'tầm giá bao nhiêu', 'tầm giá bao nhiêu tiền', 'tầm giá bn tiền', 'tầm giá bn', 'tầm giá khoảng bao nhiêu', 'tầm giá khoảng bao nhiêu tiền', 'tầm giá khoảng bn', 'tầm giá khoảng bn tiền', 'tầm giá thế nào', 'tầm giá tn', 'tầm giá như thế nào', 'tầm giá ntn', 'tầm giá sao', 'tầm giá ra sao', 'mức giá mấy', 'mức giá mấy tiền', 'mức giá bao nhiêu', 'mức giá bao nhiêu tiền', 'mức giá bn tiền', 'mức giá bn', 'mức giá khoảng bao nhiêu', 'mức giá khoảng bao nhiêu tiền', 'mức giá khoảng bn', 'mức giá khoảng bn tiền', 'mức giá thế nào', 'mức giá tn', 'mức giá như thế nào', 'mức giá ntn', 'mức giá ra sao', 'khoảng giá mấy', 'khoảng giá mấy tiền', 'khoảng giá bao nhiêu', 'khoảng giá bao nhiêu tiền', 'khoảng giá bn tiền', 'khoảng giá bn', 'khoảng giá khoảng bao nhiêu', 'khoảng giá khoảng bao nhiêu tiền', 'khoảng giá khoảng bn', 'khoảng giá khoảng bn tiền', 'khoảng giá thế nào', 'khoảng giá tn', 'khoảng giá như thế nào', 'khoảng giá ntn', 'khoảng giá sao', 'khoảng giá ra sao', 'giá trung bình mấy', 'giá trung bình mấy tiền', 'giá trung bình bao nhiêu', 'giá trung bình bao nhiêu tiền', 'giá trung bình bn tiền', 'giá trung bình bn', 'giá trung bình khoảng bao nhiêu', 'giá trung bình khoảng bao nhiêu tiền', 'giá trung bình khoảng bn', 'giá trung bình khoảng bn tiền', 'giá trung bình thế nào', 'giá trung bình tn', 'giá trung bình như thế nào', 'giá trung bình ntn', 'giá trung bình sao', 'giá trung bình ra sao', 'giá tb mấy tiền', 'giá tb bao nhiêu', 'giá tb bao nhiêu tiền', 'giá tb bn tiền', 'giá tb khoảng bao nhiêu', 'giá tb khoảng bao nhiêu tiền', 'giá tb khoảng bn', 'giá tb khoảng bn tiền', 'giá tb thế nào', 'giá tb tn', 'giá tb như thế nào', 'giá tb ntn', 'giá tb ra sao', 'tri giá mấy tiền', 'tri giá bao nhiêu', 'tri giá bao nhiêu tiền', 'tri giá bn tiền', 'tri giá bn', 'tri giá khoảng bao nhiêu', 'tri giá khoảng bao nhiêu tiền', 'tri giá khoảng bn', 'tri giá khoảng bn tiền', 'tri giá thế nào', 'tri giá tn', 'tri giá như thế nào', 'tri giá ntn', 'tri giá sao', 'tri giá ra sao', 'bao nhiêu tiền', 'khoảng bao nhiêu', 'khoảng bao nhiêu tiền', 'khoảng bn tiền', 'gia may tien', 'gia bao nhieu', 'gia bao nhieu tien', 'gia bn tien', 'gia khoang bao nhieu', 'gia khoang bao nhieu tien', 'gia khoang bn', 'gia khoang bn tien', 'gia the nao', 'gia nhu the nao', 'gia ra sao', 'tam gia may', 'tam gia may tien', 'tam gia bao nhieu', 'tam gia bao nhieu tien', 'tam gia bn tien', 'tam gia bn', 'tam gia khoang bao nhieu', 'tam gia khoang bao nhieu tien', 'tam gia khoang bn', 'tam gia khoang bn tien', 'tam gia the nao', 'tam gia tn', 'tam gia nhu the nao', 'tam gia ntn', 'tam gia sao', 'tam gia ra sao', 'muc gia may', 'muc gia may tien', 'muc gia bao nhieu', 'muc gia bao nhieu tien', 'muc gia bn tien', 'muc gia bn', 'muc gia khoang bao nhieu', 'muc gia khoang bao nhieu tien', 'muc gia khoang bn', 'muc gia khoang bn tien', 'muc gia the nao', 'muc gia tn', 'muc gia nhu the nao', 'muc gia ntn', 'muc gia ra sao', 'khoang gia may', 'khoang gia may tien', 'khoang gia bao nhieu', 'khoang gia bao nhieu tien', 'khoang gia bn tien', 'khoang gia bn', 'khoang gia khoang bao nhieu', 'khoang gia khoang bao nhieu tien', 'khoang gia khoang bn', 'khoang gia khoang bn tien', 'khoang gia the nao', 'khoang gia tn', 'khoang gia nhu the nao', 'khoang gia ntn', 'khoang gia sao', 'khoang gia ra sao', 'gia trung binh may', 'gia trung binh may tien', 'gia trung binh bao nhieu', 'gia trung binh bao nhieu tien', 'gia trung binh bn tien', 'gia trung binh bn', 'gia trung binh khoang bao nhieu', 'gia trung binh khoang bao nhieu tien', 'gia trung binh khoang bn', 'gia trung binh khoang bn tien', 'gia trung binh the nao', 'gia trung binh tn', 'gia trung binh nhu the nao', 'gia trung binh ntn', 'gia trung binh sao', 'gia trung binh ra sao', 'gia tb may tien', 'gia tb bao nhieu', 'gia tb bao nhieu tien', 'gia tb bn tien', 'gia tb khoang bao nhieu', 'gia tb khoang bao nhieu tien', 'gia tb khoang bn', 'gia tb khoang bn tien', 'gia tb the nao', 'gia tb tn', 'gia tb nhu the nao', 'gia tb ntn', 'gia tb ra sao', 'tri gia may tien', 'tri gia bao nhieu', 'tri gia bao nhieu tien', 'tri gia bn tien', 'tri gia bn', 'tri gia khoang bao nhieu', 'tri gia khoang bao nhieu tien', 'tri gia khoang bn', 'tri gia khoang bn tien', 'tri gia the nao', 'tri gia tn', 'tri gia nhu the nao', 'tri gia ntn', 'tri gia sao', 'tri gia ra sao', ' bao nhieu tien', ' khoang bao nhieu', ' khoang bao nhieu tien', ' khoang bn tien'], 'Area': ['diện tích ra sao', 'diện tích thế nào', 'diện tích tn', 'diện tích ntn', 'diện tích như thế nào', 'diện tích mấy', 'diện tích bao nhiêu', 'diện tích bn', 'diện tích khoảng bao nhiêu', 'diện tích khoảng bn', 'dt ra sao', 'dt thế nào', 'dt như thế nào', 'dt bao nhiêu', 'dt khoảng bao nhiêu', 'dt khoảng bn', 'rộng ra sao', 'rộng thế nào', 'rộng như thế nào', 'rộng bao nhiêu', 'rộng khoảng bao nhiêu', 'rộng khoảng bn', 'diện tích trung bình ra sao', 'diện tích trung bình thế nào', 'diện tích trung bình tn', 'diện tích trung bình ntn', 'diện tích trung bình như thế nào', 'diện tích trung bình mấy', 'diện tích trung bình bao nhiêu', 'diện tích trung bình bn', 'diện tích trung bình khoảng bao nhiêu', 'diện tích trung bình khoảng bn', 'diện tích trung bình ?', 'diện tích tb ra sao', 'diện tích tb thế nào', 'diện tích tb tn', 'diện tích tb ntn', 'diện tích tb như thế nào', 'diện tích tb mấy', 'diện tích tb bao nhiêu', 'diện tích tb bn', 'diện tích tb khoảng bao nhiêu', 'diện tích tb khoảng bn', 'diện tích tb ?', 'diện tích mấy mét vuông', 'diện tích mấy mét 2', 'diện tích mấy m2', 'diện tích mấy m 2', 'diện tích mấy ', 'diện tích mấy ?', 'diện tích bao nhiêu mét vuông', 'diện tích bao nhiêu mét 2', 'diện tích bao nhiêu m2', 'diện tích bao nhiêu m 2', 'diện tích bao nhiêu ', 'diện tích bao nhiêu ?', 'diện tích bn mét vuông', 'diện tích bn mét 2', 'diện tích bn m2', 'diện tích bn m 2', 'diện tích bn ', 'diện tích bn ?', 'diện tích khoảng bao nhiêu mét vuông', 'diện tích khoảng bao nhiêu mét 2', 'diện tích khoảng bao nhiêu m2', 'diện tích khoảng bao nhiêu m 2', 'diện tích khoảng bao nhiêu ', 'diện tích khoảng bao nhiêu ?', 'diện tích khoảng bn mét vuông', 'diện tích khoảng bn mét 2', 'diện tích khoảng bn m2', 'diện tích khoảng bn m 2', 'diện tích khoảng bn ', 'diện tích khoảng bn ?', 'dt mấy mét vuông', 'dt mấy mét 2', 'dt mấy m2', 'dt mấy m 2', 'dt bao nhiêu mét vuông', 'dt bao nhiêu mét 2', 'dt bao nhiêu m2', 'dt bao nhiêu m 2', 'dt bao nhiêu ', 'dt bao nhiêu ?', 'dt bn mét vuông', 'dt bn mét 2', 'dt khoảng bao nhiêu mét vuông', 'dt khoảng bao nhiêu mét 2', 'dt khoảng bao nhiêu m2', 'dt khoảng bao nhiêu m 2', 'dt khoảng bao nhiêu ', 'dt khoảng bao nhiêu ?', 'dt khoảng bn mét vuông', 'dt khoảng bn mét 2', 'dt khoảng bn m2', 'dt khoảng bn m 2', 'dt khoảng bn ', 'dt khoảng bn ?', 'rộng mấy mét vuông', 'rộng mấy mét 2', 'rộng mấy m2', 'rộng mấy m 2', 'rộng bao nhiêu mét vuông', 'rộng bao nhiêu mét 2', 'rộng bao nhiêu m2', 'rộng bao nhiêu m 2', 'rộng bao nhiêu ', 'rộng bao nhiêu ?', 'rộng bn mét vuông', 'rộng bn mét 2', 'rộng bn m2', 'rộng bn m 2', 'rộng khoảng bao nhiêu mét vuông', 'rộng khoảng bao nhiêu mét 2', 'rộng khoảng bao nhiêu m2', 'rộng khoảng bao nhiêu m 2', 'rộng khoảng bao nhiêu ', 'rộng khoảng bao nhiêu ?', 'rộng khoảng bn mét vuông', 'rộng khoảng bn mét 2', 'rộng khoảng bn m2', 'rộng khoảng bn m 2', 'rộng khoảng bn ', 'rộng khoảng bn ?', 'diện tích trung bình mấy mét vuông', 'diện tích trung bình mấy mét 2', 'diện tích trung bình mấy m2', 'diện tích trung bình mấy m 2', 'diện tích trung bình mấy ', 'diện tích trung bình mấy ?', 'diện tích trung bình bao nhiêu mét vuông', 'diện tích trung bình bao nhiêu mét 2', 'diện tích trung bình bao nhiêu m2', 'diện tích trung bình bao nhiêu m 2', 'diện tích trung bình bao nhiêu ', 'diện tích trung bình bao nhiêu ?', 'diện tích trung bình bn mét vuông', 'diện tích trung bình bn mét 2', 'diện tích trung bình bn m2', 'diện tích trung bình bn m 2', 'diện tích trung bình bn ', 'diện tích trung bình bn ?', 'diện tích trung bình khoảng bao nhiêu mét vuông', 'diện tích trung bình khoảng bao nhiêu mét 2', 'diện tích trung bình khoảng bao nhiêu m2', 'diện tích trung bình khoảng bao nhiêu m 2', 'diện tích trung bình khoảng bao nhiêu ', 'diện tích trung bình khoảng bao nhiêu ?', 'diện tích trung bình khoảng bn mét vuông', 'diện tích trung bình khoảng bn mét 2', 'diện tích trung bình khoảng bn m2', 'diện tích trung bình khoảng bn m 2', 'diện tích trung bình khoảng bn ', 'diện tích trung bình khoảng bn ?', 'diện tích tb mấy mét vuông', 'diện tích tb mấy mét 2', 'diện tích tb mấy m2', 'diện tích tb mấy m 2', 'diện tích tb mấy ', 'diện tích tb mấy ?', 'diện tích tb bao nhiêu mét vuông', 'diện tích tb bao nhiêu mét 2', 'diện tích tb bao nhiêu m2', 'diện tích tb bao nhiêu m 2', 'diện tích tb bao nhiêu ', 'diện tích tb bao nhiêu ?', 'diện tích tb bn mét vuông', 'diện tích tb bn mét 2', 'diện tích tb bn m2', 'diện tích tb bn m 2', 'diện tích tb bn ', 'diện tích tb bn ?', 'diện tích tb khoảng bao nhiêu mét vuông', 'diện tích tb khoảng bao nhiêu mét 2', 'diện tích tb khoảng bao nhiêu m2', 'diện tích tb khoảng bao nhiêu m 2', 'diện tích tb khoảng bao nhiêu ', 'diện tích tb khoảng bao nhiêu ?', 'diện tích tb khoảng bn mét vuông', 'diện tích tb khoảng bn mét 2', 'diện tích tb khoảng bn m2', 'diện tích tb khoảng bn m 2', 'diện tích tb khoảng bn ', 'diện tích tb khoảng bn ?', 'dien tich ra sao', 'dien tich the nao', 'dien tich tn', 'dien tich ntn', 'dien tich nhu the nao', 'dien tich may', 'dien tich bao nhieu', 'dien tich bn', 'dien tich khoang bao nhieu', 'dien tich khoang bn', 'dt ra sao', 'dt the nao', 'dt nhu the nao', 'dt bao nhieu', 'dt khoang bao nhieu', 'dt khoang bn', 'rong ra sao', 'rong the nao', 'rong nhu the nao', 'rong bao nhieu', 'rong khoang bao nhieu', 'rong khoang bn', 'dien tich trung binh ra sao', 'dien tich trung binh the nao', 'dien tich trung binh tn', 'dien tich trung binh ntn', 'dien tich trung binh nhu the nao', 'dien tich trung binh may', 'dien tich trung binh bao nhieu', 'dien tich trung binh bn', 'dien tich trung binh khoang bao nhieu', 'dien tich trung binh khoang bn', 'dien tich trung binh ?', 'dien tich tb ra sao', 'dien tich tb the nao', 'dien tich tb tn', 'dien tich tb ntn', 'dien tich tb nhu the nao', 'dien tich tb may', 'dien tich tb bao nhieu', 'dien tich tb bn', 'dien tich tb khoang bao nhieu', 'dien tich tb khoang bn', 'dien tich tb ?', 'dien tich may met vuong', 'dien tich may met 2', 'dien tich may m2', 'dien tich may m 2', 'dien tich may ', 'dien tich may ?', 'dien tich bao nhieu met vuong', 'dien tich bao nhieu met 2', 'dien tich bao nhieu m2', 'dien tich bao nhieu m 2', 'dien tich bao nhieu ', 'dien tich bao nhieu ?', 'dien tich bn met vuong', 'dien tich bn met 2', 'dien tich bn m2', 'dien tich bn m 2', 'dien tich bn ', 'dien tich bn ?', 'dien tich khoang bao nhieu met vuong', 'dien tich khoang bao nhieu met 2', 'dien tich khoang bao nhieu m2', 'dien tich khoang bao nhieu m 2', 'dien tich khoang bao nhieu ', 'dien tich khoang bao nhieu ?', 'dien tich khoang bn met vuong', 'dien tich khoang bn met 2', 'dien tich khoang bn m2', 'dien tich khoang bn m 2', 'dien tich khoang bn ', 'dien tich khoang bn ?', 'dt may met vuong', 'dt may met 2', 'dt may m2', 'dt may m 2', 'dt bao nhieu met vuong', 'dt bao nhieu met 2', 'dt bao nhieu m2', 'dt bao nhieu m 2', 'dt bao nhieu ', 'dt bao nhieu ?', 'dt bn met vuong', 'dt bn met 2', 'dt khoang bao nhieu met vuong', 'dt khoang bao nhieu met 2', 'dt khoang bao nhieu m2', 'dt khoang bao nhieu m 2', 'dt khoang bao nhieu ', 'dt khoang bao nhieu ?', 'dt khoang bn met vuong', 'dt khoang bn met 2', 'dt khoang bn m2', 'dt khoang bn m 2', 'dt khoang bn ', 'dt khoang bn ?', 'rong may met vuong', 'rong may met 2', 'rong may m2', 'rong may m 2', 'rong bao nhieu met vuong', 'rong bao nhieu met 2', 'rong bao nhieu m2', 'rong bao nhieu m 2', 'rong bao nhieu ', 'rong bao nhieu ?', 'rong bn met vuong', 'rong bn met 2', 'rong bn m2', 'rong bn m 2', 'rong khoang bao nhieu met vuong', 'rong khoang bao nhieu met 2', 'rong khoang bao nhieu m2', 'rong khoang bao nhieu m 2', 'rong khoang bao nhieu ', 'rong khoang bao nhieu ?', 'rong khoang bn met vuong', 'rong khoang bn met 2', 'rong khoang bn m2', 'rong khoang bn m 2', 'rong khoang bn ', 'rong khoang bn ?', 'dien tich trung binh may met vuong', 'dien tich trung binh may met 2', 'dien tich trung binh may m2', 'dien tich trung binh may m 2', 'dien tich trung binh may ', 'dien tich trung binh may ?', 'dien tich trung binh bao nhieu met vuong', 'dien tich trung binh bao nhieu met 2', 'dien tich trung binh bao nhieu m2', 'dien tich trung binh bao nhieu m 2', 'dien tich trung binh bao nhieu ', 'dien tich trung binh bao nhieu ?', 'dien tich trung binh bn met vuong', 'dien tich trung binh bn met 2', 'dien tich trung binh bn m2', 'dien tich trung binh bn m 2', 'dien tich trung binh bn ', 'dien tich trung binh bn ?', 'dien tich trung binh khoang bao nhieu met vuong', 'dien tich trung binh khoang bao nhieu met 2', 'dien tich trung binh khoang bao nhieu m2', 'dien tich trung binh khoang bao nhieu m 2', 'dien tich trung binh khoang bao nhieu ', 'dien tich trung binh khoang bao nhieu ?', 'dien tich trung binh khoang bn met vuong', 'dien tich trung binh khoang bn met 2', 'dien tich trung binh khoang bn m2', 'dien tich trung binh khoang bn m 2', 'dien tich trung binh khoang bn ', 'dien tich trung binh khoang bn ?', 'dien tich tb may met vuong', 'dien tich tb may met 2', 'dien tich tb may m2', 'dien tich tb may m 2', 'dien tich tb may ', 'dien tich tb may ?', 'dien tich tb bao nhieu met vuong', 'dien tich tb bao nhieu met 2', 'dien tich tb bao nhieu m2', 'dien tich tb bao nhieu m 2', 'dien tich tb bao nhieu ', 'dien tich tb bao nhieu ?', 'dien tich tb bn met vuong', 'dien tich tb bn met 2', 'dien tich tb bn m2', 'dien tich tb bn m 2', 'dien tich tb bn ', 'dien tich tb bn ?', 'dien tich tb khoang bao nhieu met vuong', 'dien tich tb khoang bao nhieu met 2', 'dien tich tb khoang bao nhieu m2', 'dien tich tb khoang bao nhieu m 2', 'dien tich tb khoang bao nhieu ', 'dien tich tb khoang bao nhieu ?', 'dien tich tb khoang bn met vuong', 'dien tich tb khoang bn met 2', 'dien tich tb khoang bn m2', 'dien tich tb khoang bn m 2', 'dien tich tb khoang bn ', 'dien tich tb khoang bn ?'], 'Potential': ['tiềm năng', 'triển vọng', 'mục đích', 'tiềm năng thế nào', 'tiềm năng như thế nào', 'tiềm năng ntn', 'tiềm năng tn', 'tiềm năng dc gì', 'tiềm năng được gì', 'tiềm năng gì', 'tiềm năng ?', 'khả năng thế nào', 'khả năng như thế nào', 'khả năng ntn', 'khả năng tn', 'khả năng dc gì', 'khả năng được gì', 'khả năng gì', 'khả năng ?', 'triển vọng thế nào', 'triển vọng như thế nào', 'triển vọng ntn', 'triển vọng tn', 'triển vọng dc gì', 'triển vọng được gì', 'triển vọng gì', 'triển vọng ?', 'phù hợp thế nào', 'phù hợp như thế nào', 'phù hợp ntn', 'phù hợp tn', 'phù hợp dc gì', 'phù hợp được gì', 'phù hợp gì', 'phù hợp ?', 'thuận lợi thế nào', 'thuận lợi như thế nào', 'thuận lợi ntn', 'thuận lợi tn', 'thuận lợi dc gì', 'thuận lợi được gì', 'thuận lợi gì', 'thuận lợi ?', 'thuận tiện thế nào', 'thuận tiện như thế nào', 'thuận tiện ntn', 'thuận tiện tn', 'thuận tiện dc gì', 'thuận tiện được gì', 'thuận tiện gì', 'thuận tiện ?', 'dùng thế nào', 'dùng như thế nào', 'mục đích sử dụng thế nào', 'mục đích sử dụng như thế nào', 'mục đích gì', 'mục đích ?', 'làm dc gì', 'làm được gì', 'để làm thế nào', 'để làm ntn', 'để làm dc gì', 'để làm được gì', 'để làm gì', 'cho việc gì', 'cho mục đích thế nào', 'cho mục đích như thế nào', 'cho mục đích ntn', 'cho mục đích gì', 'tiem nang the nao', 'tiem nang nhu the nao', 'tiem nang ntn', 'tiem nang tn', 'tiem nang dc gi', 'tiem nang duoc gi', 'tiem nang gi', 'tiem nang ?', 'kha nang the nao', 'kha nang nhu the nao', 'kha nang ntn', 'kha nang tn', 'kha nang dc gi', 'kha nang duoc gi', 'kha nang gi', 'kha nang ?', 'trien vong the nao', 'trien vong nhu the nao', 'trien vong ntn', 'trien vong tn', 'trien vong dc gi', 'trien vong duoc gi', 'trien vong gi', 'trien vong ?', 'phu hop the nao', 'phu hop nhu the nao', 'phu hop ntn', 'phu hop tn', 'phu hop dc gi', 'phu hop duoc gi', 'phu hop gi', 'phu hop ?', 'thuan loi the nao', 'thuan loi nhu the nao', 'thuan loi ntn', 'thuan loi tn', 'thuan loi dc gi', 'thuan loi duoc gi', 'thuan loi gi', 'thuan loi ?', 'thuan tien the nao', 'thuan tien nhu the nao', 'thuan tien ntn', 'thuan tien tn', 'thuan tien dc gi', 'thuan tien duoc gi', 'thuan tien gi', 'thuan tien ?', 'dung the nao', 'dung nhu the nao', 'muc dich su dung the nao', 'muc dich su dung nhu the nao', 'muc dich gi', 'muc dich ?', 'lam dc gi', 'lam duoc gi', 'de lam the nao', 'de lam ntn', 'de lam dc gi', 'de lam duoc gi', 'de lam gi', 'cho viec gi', 'cho muc dich the nao', 'cho muc dich nhu the nao', 'cho muc dich ntn', 'cho muc dich gi'], 'Location': ['tại khu vực nào', 'tại khu vực ?', 'tại vị trí nào', 'tại vị trí ?', 'tại địa điểm ', 'tại địa điểm nào', 'tại địa điểm ?', 'nằm ở đâu ', 'nằm ở đâu ?', 'nằm ở khu vực nào', 'nằm ở khu vực ?', 'nằm ở vị trí nào', 'nằm ở vị trí ?', 'nằm ở địa điểm nào', 'nằm ở địa điểm ?', 'nằm tại đâu nào', 'nằm tại đâu ?', 'nằm tại khu vực nào', 'nằm tại khu vực ?', 'nằm tại vị trí nào', 'nằm tại vị trí ?', 'nằm tại địa điểm nào', 'nằm tại địa điểm ?', 'thuộc khu vực nào', 'thuộc khu vực ?', 'thuộc vị trí nào', 'thuộc vị trí ?', 'thuộc địa điểm nào', 'thuộc địa điểm ?', 'gần khu vực nào', 'gần vị trí nào', 'gần địa điểm nào', 'tai khu vuc nao', 'tai khu vuc ?', 'tai vi tri nao', 'tai vi tri ?', 'tai dia diem ', 'tai dia diem nao', 'tai dia diem ?', 'nam o dau ', 'nam o dau ?', 'nam o khu vuc nao', 'nam o khu vuc ?', 'nam o vi tri nao', 'nam o vi tri ?', 'nam o dia diem nao', 'nam o dia diem ?', 'nam tai dau nao', 'nam tai dau ?', 'nam tai khu vuc nao', 'nam tai khu vuc ?', 'nam tai vi tri nao', 'nam tai vi tri ?', 'nam tai dia diem nao', 'nam tai dia diem ?', 'thuoc khu vuc nao', 'thuoc khu vuc ?', 'thuoc vi tri nao', 'thuoc vi tri ?', 'thuoc dia diem nao', 'thuoc dia diem ?', 'gan khu vuc nao', 'gan vi tri nao', 'gan dia diem nao'], 'City': ['thành phố', 'thanh pho', 'tại thành phố nào', 'tại tp nào', 'o thành phố nào', 'o tp nào', 'nằm ở thành phố nào', 'nằm tại thành phố ', 'nằm tại thành phố nào', 'thuộc thành phố nào', 'thuộc thành phố ?', 'gần thành phố nào', 'tai thanh pho nao', 'tai tp nao', 'o thanh pho nao', 'o tp nao', 'nam o thanh pho nao', 'nam tai thanh pho ', 'nam tai thanh pho nao', 'thuoc thanh pho nao', 'thuoc thanh pho ?', 'gan thanh pho nao'], 'District': ['quận', 'quan', 'tại quận nào', 'tại q nào', 'o quận nào', 'o q nào', 'nằm ở quận nào', 'nằm tại quận ', 'nằm tại quận nào', 'thuộc quận nào', 'thuộc quận ?', 'gần quận nào', 'tai quan nao', 'tai q nao', 'o quan nao', 'o q nao', 'nam o quan nao', 'nam tai quan ', 'nam tai quan nao', 'thuoc quan nao', 'thuoc quan ?', 'gan quan nao'], 'Ward': ['phường', 'phuong', 'tại phường nào', 'tại p nào', 'o phường nào', 'o p nào', 'nằm ở phường nào', 'nằm tại phường ', 'nằm tại phường nào', 'thuộc phường nào', 'thuộc phường ?', 'gần phường nào', 'tai phuong nao', 'tai p nao', 'o phuong nao', 'o p nao', 'nam o phuong nao', 'nam tai phuong ', 'nam tai phuong nao', 'thuoc phuong nao', 'thuoc phuong ?', 'gan phuong nao'], 'Street': ['đường', 'duong', 'tại đường nào', 'tại d nào', 'o đường nào', 'o d nào', 'nằm ở đường nào', 'nằm tại đường ', 'nằm tại đường nào', 'thuộc đường nào', 'thuộc đường ?', 'gần đường nào', 'tai duong nao', 'tai d nao', 'o duong nao', 'o d nao', 'nam o duong nao', 'nam tai duong ', 'nam tai duong nao', 'thuoc duong nao', 'thuoc duong ?', 'gan duong nao'], 'House_number': ['số nhà', 'so nha', 'tại số nhà nào', 'tại sn nào', 'o số nhà nào', 'o sn nào', 'nằm ở số nhà nào', 'nằm tại số nhà ', 'nằm tại số nhà nào', 'thuộc số nhà nào', 'thuộc số nhà ?', 'gần số nhà nào', 'tai so nha nao', 'tai sn nao', 'o so nha nao', 'o sn nao', 'nam o so nha nao', 'nam tai so nha ', 'nam tai so nha nao', 'thuoc so nha nao', 'thuoc so nha ?', 'gan so nha nao'], 'House': ['nhà', 'shophouse', 'chung cu', 'lien', 'officetel', 'toa vinaconex', 'cap 4', 'studio', 'shophouse bien', 'biet thu', 'khach san', 'bo kinh', 'ch', 'hang sang', 'song lap', 'lien ke', 'cong nghiep', 'shophouse mat bien', 'duplex', 'shophouse thuong mai', 'smarthome', 'villas bien', 'sill park', 'harbor view', 'officitel', 'khach san 3', 'tdc', 'don lap', 'penthouse', 'toa sf', 'thap tang', '4 sao', 'cap 2', 'c4', 'gia duplex', 'ke', 'bungalow', 'compound', 'office', 'villa', 'phong', 'vip', 'lofthouse', 'n01', 'nat', 'duakey', 'ban', 'do thi', 'biet', 'mini complex', 'nghi duong', 'cap 3', 'homestay', 'rung san xuat', 'khu biet', 'kdc', '5', 'xa hoi', 'nha vuon', 'nhin chung cu', 'du lich', 'cc', 'dual-key', 'condotel', 'khu', 'apartment', 'loai biet', 'shoptel', 'mat bien', 'chinh', 'ban villa', 'mini', 'kdt', 'can ho', '128gb', 'dat', 'penthouse sapphire', 'nha van phong', 'biet thu mini', 'sky villa', 'sh', 'tran quoc hoan', 'nha', 'offictel', 'villas', 'toa nha van phong', 'cap', 'mai bang', 'dang cap', 'vp', 'lau dai', 'hoa hau', 'tai', 'lo', 'penthouse dt', 'shophoues', 'gom', 'can ho dich vu', 'dong da', 'gap', ':', 'mai thai', 'dau gia', 'penthouse m', 'ccmn', 'building', 'mat tien', 'shophouse premium', 'sky villas', 'sieu sang', 'toa', 'c53', 'ntcc', 'van phong', 'shohouse', 'cao cap', 'cap bon', 'nha tret', 'bon banh', 'hao hut', 'lap', 'ban chung cu', 'p7', 'loft house', 'chill chill', 'song', '39a', 'shophouse chung cu', 'sang', 'villas dao ngoc', 'kim chung', 'thanh chung cu', 'ven', 'nha tang', 'tap the', 'duplex sunshine city', 'a5', 'dualkey', '4', 'sao', 'd2', 'tien', 'b2', 'cao tang', 'so', 'nha vuon mini', 'cbd', 'ks', 'tt', 'beach villa', 'khach san vip', 'budding', 'house chung cu', 's450', 'nong trai', 'ntcb', 'penthouse duplex', 'lau dai biet phu', 'penhouse', 'villas dt'], 'Dont_care': ['không quan tâm', 'không qtâm', 'không qt', 'không cần', 'không hẳn', 'không cần thiết', 'kqt', 'không biết', 'không rõ', 'không có nhu cầu', 'sao cũng được', 'tuỳ ý', 'không chắc', 'không rõ', 'bỏ qua', 'tuỳ', 'không quan tâm', 'không qtâm', 'không qt', 'không cần', 'không cần thiết', 'kqt', 'không biết', 'không rõ', 'không có nhu cầu', 'sao cũng được', 'tuỳ ý'], 'Yes': ['đồng ý', 'yes', 'yes .', 'ừ, đúng rồi', 'đúng đó', 'đúng rồi', 'có', 'có nha', 'có chứ', 'ừ', 'được', 'cũng được', 'được chứ', 'thêm', 'thêm đi', 'ok', 'chính xác', 'phải', 'vâng', 'okay', 'okie', 'đúng', 'ừa', 'uhm', 'uh', 'uk', 'đồng ý', 'yes', 'ừ, đúng rồi', 'đúng rồi', 'có', 'ừ', 'ok', 'chính xác', 'vâng', 'okay', 'okie', 'đúng', 'ừa', 'uhm', 'uh', 'uk'], 'Hello': ['chào', 'xin chào', 'hello', 'hi', 'chào bạn', 'Chào', 'Xin chào', 'Hello', 'Hi', 'Chào bạn', 'chào', 'xin chào', 'hello', 'hi', 'chào bạn']}\n"
     ]
    }
   ],
   "source": [
    "print(alias_file)"
   ]
  },
  {
   "cell_type": "code",
   "execution_count": 100,
   "metadata": {},
   "outputs": [
    {
     "name": "stdout",
     "output_type": "stream",
     "text": [
      "        labels(n)\n",
      "0  [House_number]\n",
      "1         [House]\n",
      "2          [City]\n",
      "3      [District]\n",
      "4          [Ward]\n",
      "5        [Street]\n"
     ]
    }
   ],
   "source": [
    "get_list_labels_query = \"MATCH (n) RETURN distinct labels(n)\"\n",
    "\n",
    "list_labels = run_query(get_list_labels_query)\n",
    "print(list_labels)"
   ]
  },
  {
   "cell_type": "code",
   "execution_count": null,
   "metadata": {},
   "outputs": [],
   "source": [
    "\"------------------------------\""
   ]
  },
  {
   "cell_type": "code",
   "execution_count": 183,
   "metadata": {},
   "outputs": [
    {
     "name": "stdout",
     "output_type": "stream",
     "text": [
      "House_number\n",
      "House\n",
      "y\n",
      "City\n",
      "District\n",
      "Ward\n",
      "Street\n"
     ]
    }
   ],
   "source": [
    "get_alias_list_query = \"match (n) return labels(n) as label, collect(n.alias) as alias\"\n",
    "\n",
    "alias_list_data = run_query(get_alias_list_query)\n",
    "\n",
    "# print(alias_list_data[\"label\"][1][0])\n",
    "\n",
    "for label_item in alias_list_data[\"label\"]:\n",
    "  print(label_item[0])\n",
    "  if label_item[0] == \"House\":\n",
    "    print(\"y\")\n",
    "\n",
    "a= alias_list_data.loc[alias_list_data['label'] == \"[House]\"]\n",
    "# (df.loc[df['A'] == 'foo'])\n",
    "# print(a)"
   ]
  },
  {
   "cell_type": "code",
   "execution_count": 156,
   "metadata": {},
   "outputs": [
    {
     "name": "stdout",
     "output_type": "stream",
     "text": [
      "            label                                         individual\n",
      "0  [House_number]  [319, 300, 155, g1 901a, 63, 297, 268, 217, 13...\n",
      "1         [House]  [shophouse, chung cu, lien, officetel, toa vin...\n",
      "2          [City]  [bien hoa, hcm, vinh phuc, binh duong, hn, da ...\n",
      "3      [District]  [ha dong, 3, 10, phu nhuan, long thanh, binh t...\n",
      "4          [Ward]  [6, 8, loc an, binh hung hoa a, tan dinh, hiep...\n",
      "5        [Street]  [bien hoa vung tau, ngo thi nham, tran quoc to...\n"
     ]
    }
   ],
   "source": [
    "get_individual_list_query = \"match (n) return labels(n) as label, collect(n.individual) as individual\"\n",
    "\n",
    "individual_list_data = run_query(get_individual_list_query)\n",
    "\n",
    "print(individual_list_data)"
   ]
  },
  {
   "cell_type": "code",
   "execution_count": 187,
   "metadata": {},
   "outputs": [
    {
     "name": "stdout",
     "output_type": "stream",
     "text": [
      "House_number\n",
      "House\n",
      "City\n",
      "District\n",
      "Ward\n",
      "Street\n"
     ]
    }
   ],
   "source": [
    "# print(list_labels[str(list_labels.keys()[0])])\n",
    "label = \"\"\n",
    "output = []\n",
    "\n",
    "for label_item in list_labels[str(list_labels.keys()[0])]:\n",
    "    label_name = label_item[0]\n",
    "    # print(label_name)\n",
    "\n",
    "    for label_item in alias_list_data[\"label\"]:\n",
    "        # print(label_item[0])\n",
    "        if label_item[0] == label_name:\n",
    "            print(label_item[0])\n",
    "\n",
    "    # alias_list = alias_file[label_name]\n",
    "    # print()\n",
    "\n",
    "    for alias_text in alias_list:\n",
    "        # print(text)\n",
    "        # print(type(alias_text), alias_text)\n",
    "        if alias_text in text:\n",
    "            # print(text)\n",
    "            print(label_name)\n",
    "            # print(alias_text)\n",
    "        #     output.append(District(name=alias_text))\n",
    "        # else:\n",
    "        #     print(\"no--\", alias_text)\n",
    "        #     label = \"District\"\n",
    "\n"
   ]
  },
  {
   "cell_type": "code",
   "execution_count": 125,
   "metadata": {},
   "outputs": [
    {
     "name": "stdout",
     "output_type": "stream",
     "text": [
      "Mua nhà ở phường 1 quận 1\n"
     ]
    }
   ],
   "source": [
    "print(text)"
   ]
  },
  {
   "cell_type": "code",
   "execution_count": 143,
   "metadata": {},
   "outputs": [
    {
     "name": "stdout",
     "output_type": "stream",
     "text": [
      "quận 1\n"
     ]
    }
   ],
   "source": [
    "# for ent in DISTRICT_ENTITIES:\n",
    "        # print(text)\n",
    "        # print(type(ent), ent)\n",
    "        # if ent in text:\n",
    "            # print(ent)\n",
    "        #     print(label_name)\n",
    "        #     print(ent)\n",
    "        #     output.append(District(name=ent))\n",
    "        # else:\n",
    "        #     label = \"District\""
   ]
  },
  {
   "cell_type": "code",
   "execution_count": null,
   "metadata": {},
   "outputs": [],
   "source": []
  }
 ],
 "metadata": {
  "kernelspec": {
   "display_name": "Python 3.7.9 64-bit",
   "language": "python",
   "name": "python3"
  },
  "language_info": {
   "codemirror_mode": {
    "name": "ipython",
    "version": 3
   },
   "file_extension": ".py",
   "mimetype": "text/x-python",
   "name": "python",
   "nbconvert_exporter": "python",
   "pygments_lexer": "ipython3",
   "version": "3.7.9"
  },
  "orig_nbformat": 4,
  "vscode": {
   "interpreter": {
    "hash": "aee8b7b246df8f9039afb4144a1f6fd8d2ca17a180786b69acc140d282b71a49"
   }
  }
 },
 "nbformat": 4,
 "nbformat_minor": 2
}
