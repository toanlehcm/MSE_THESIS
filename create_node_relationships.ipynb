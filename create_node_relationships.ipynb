{
 "cells": [
  {
   "cell_type": "code",
   "execution_count": 1,
   "metadata": {},
   "outputs": [],
   "source": [
    "from neo4j import GraphDatabase\n",
    "import json"
   ]
  },
  {
   "cell_type": "code",
   "execution_count": 2,
   "metadata": {},
   "outputs": [],
   "source": [
    "driver = GraphDatabase.driver('bolt://localhost:7687',\n",
    "                              auth=('neo4j', 'password'))\n"
   ]
  },
  {
   "cell_type": "code",
   "execution_count": 3,
   "metadata": {},
   "outputs": [],
   "source": [
    "with open('data/create_relationships_dict.json', 'r', encoding=\"utf-8\") as fp:\n",
    "    create_relationships_dict = json.load(fp)\n",
    "    fp.close()\n",
    "\n",
    "HOUSE_TRANSACTION_RELATION = create_relationships_dict[\n",
    "    \"HOUSE_TRANSACTION_RELATION\"]\n",
    "HOUSE_PRICE_RELATION = create_relationships_dict[\"HOUSE_PRICE_RELATION\"]\n",
    "HOUSE_AREA_RELATION = create_relationships_dict[\"HOUSE_AREA_RELATION\"]\n",
    "HOUSE_CITY_RELATION = create_relationships_dict[\"HOUSE_CITY_RELATION\"]\n",
    "HOUSE_DISTRICT_RELATION = create_relationships_dict[\"HOUSE_DISTRICT_RELATION\"]\n",
    "HOUSE_WARD_RELATION = create_relationships_dict[\"HOUSE_WARD_RELATION\"]\n",
    "HOUSE_STREET_RELATION = create_relationships_dict[\"HOUSE_STREET_RELATION\"]\n",
    "HOUSE_BATH_ROOM_RELATION = create_relationships_dict[\n",
    "    \"HOUSE_BATH_ROOM_RELATION\"]\n",
    "HOUSE_BED_ROOM_RELATION = create_relationships_dict[\"HOUSE_BED_ROOM_RELATION\"]\n",
    "HOUSE_LIVING_ROOM_RELATION = create_relationships_dict[\n",
    "    \"HOUSE_LIVING_ROOM_RELATION\"]\n",
    "HOUSE_DIRECTION_RELATION = create_relationships_dict[\n",
    "    \"HOUSE_DIRECTION_RELATION\"]\n",
    "HOUSE_FLOOR_RELATION = create_relationships_dict[\"HOUSE_FLOOR_RELATION\"]\n",
    "HOUSE_FLOOR_GAC_RELATION = create_relationships_dict[\n",
    "    \"HOUSE_FLOOR_GAC_RELATION\"]\n",
    "HOUSE_FLOOR_TRET_RELATION = create_relationships_dict[\n",
    "    \"HOUSE_FLOOR_TRET_RELATION\"]\n",
    "HOUSE_FLOOR_LUNG_RELATION = create_relationships_dict[\n",
    "    \"HOUSE_FLOOR_LUNG_RELATION\"]\n",
    "HOUSE_FLOOR_HAM_RELATION = create_relationships_dict[\n",
    "    \"HOUSE_FLOOR_HAM_RELATION\"]\n",
    "HOUSE_FLOOR_BAN_CONG_RELATION = create_relationships_dict[\n",
    "    \"HOUSE_FLOOR_BAN_CONG_RELATION\"]\n",
    "HOUSE_FLOOR_SAN_THUONG_RELATION = create_relationships_dict[\n",
    "    \"HOUSE_FLOOR_SAN_THUONG_RELATION\"]\n",
    "HOUSE_FRONT_LENGTH_RELATION = create_relationships_dict[\n",
    "    \"HOUSE_FRONT_LENGTH_RELATION\"]\n",
    "HOUSE_LEGAL_RELATION = create_relationships_dict[\"HOUSE_LEGAL_RELATION\"]\n",
    "HOUSE_POSITION_RELATION = create_relationships_dict[\"HOUSE_POSITION_RELATION\"]\n",
    "HOUSE_PROJECT_NAME_RELATION = create_relationships_dict[\n",
    "    \"HOUSE_PROJECT_NAME_RELATION\"]\n",
    "HOUSE_ROAD_WIDTH_RELATION = create_relationships_dict[\n",
    "    \"HOUSE_ROAD_WIDTH_RELATION\"]\n",
    "HOUSE_SURROUNDING_RELATION = create_relationships_dict[\n",
    "    \"HOUSE_SURROUNDING_RELATION\"]\n",
    "HOUSE_POTENTIAL_RELATION = create_relationships_dict[\n",
    "    \"HOUSE_POTENTIAL_RELATION\"]\n",
    "STREET_WARD_RELATION = create_relationships_dict[\"STREET_WARD_RELATION\"]\n",
    "STREET_DISTRICT_RELATION = create_relationships_dict[\n",
    "    \"STREET_DISTRICT_RELATION\"]\n",
    "STREET_CITY_RELATION = create_relationships_dict[\"STREET_CITY_RELATION\"]\n",
    "WARD_DISTRICT_RELATION = create_relationships_dict[\"WARD_DISTRICT_RELATION\"]\n",
    "WARD_CITY_RELATION = create_relationships_dict[\"WARD_CITY_RELATION\"]\n",
    "DISTRICT_CITY_RELATION = create_relationships_dict[\"DISTRICT_CITY_RELATION\"]"
   ]
  },
  {
   "cell_type": "code",
   "execution_count": 4,
   "metadata": {},
   "outputs": [],
   "source": [
    "def run_query(query):\n",
    "    with driver.session(database=\"htdb\") as session:\n",
    "        result = session.run(query)"
   ]
  },
  {
   "cell_type": "code",
   "execution_count": 5,
   "metadata": {},
   "outputs": [],
   "source": [
    "def create_relationships_query(link_data, start_node, start_line, end_node,\n",
    "                               end_line, relationship_name):\n",
    "    relationships_query = \"LOAD CSV FROM '\"+link_data+\"' AS line \" + \\\n",
    "        \"WITH line skip 1 \" + \\\n",
    "        \"MATCH (n:\"+ start_node +\" {individual: \"+ start_line +\"}), (n1:\"+ end_node +\" {individual: \"+ end_line +\"}) \" + \\\n",
    "        \"MERGE (n)-[:\"+relationship_name+\"]-> (n1)\"\n",
    "\n",
    "    # print(relationships_query)\n",
    "    run_query(relationships_query)"
   ]
  },
  {
   "cell_type": "code",
   "execution_count": 10,
   "metadata": {},
   "outputs": [],
   "source": [
    "# Create HOUSE_TRANSACTION_RELATION.\n",
    "create_relationships_query(HOUSE_TRANSACTION_RELATION[\"link\"],\n",
    "                           HOUSE_TRANSACTION_RELATION[\"start_node\"],\n",
    "                           HOUSE_TRANSACTION_RELATION[\"start_line\"],\n",
    "                           HOUSE_TRANSACTION_RELATION[\"end_node\"],\n",
    "                           HOUSE_TRANSACTION_RELATION[\"end_line\"],\n",
    "                           HOUSE_TRANSACTION_RELATION[\"relationship_name\"])\n"
   ]
  },
  {
   "cell_type": "code",
   "execution_count": 6,
   "metadata": {},
   "outputs": [],
   "source": [
    "# Create HOUSE_PRICE_RELATION.\n",
    "create_relationships_query(HOUSE_PRICE_RELATION[\"link\"],\n",
    "                           HOUSE_PRICE_RELATION[\"start_node\"],\n",
    "                           HOUSE_PRICE_RELATION[\"start_line\"],\n",
    "                           HOUSE_PRICE_RELATION[\"end_node\"],\n",
    "                           HOUSE_PRICE_RELATION[\"end_line\"],\n",
    "                           HOUSE_PRICE_RELATION[\"relationship_name\"])\n"
   ]
  },
  {
   "cell_type": "code",
   "execution_count": 12,
   "metadata": {},
   "outputs": [],
   "source": [
    "# Create HOUSE_AREA_RELATION\n",
    "create_relationships_query(HOUSE_AREA_RELATION[\"link\"],\n",
    "                           HOUSE_AREA_RELATION[\"start_node\"],\n",
    "                           HOUSE_AREA_RELATION[\"start_line\"],\n",
    "                           HOUSE_AREA_RELATION[\"end_node\"],\n",
    "                           HOUSE_AREA_RELATION[\"end_line\"],\n",
    "                           HOUSE_AREA_RELATION[\"relationship_name\"])\n"
   ]
  },
  {
   "cell_type": "code",
   "execution_count": 13,
   "metadata": {},
   "outputs": [],
   "source": [
    "# Create HOUSE_CITY_RELATION\n",
    "create_relationships_query(HOUSE_CITY_RELATION[\"link\"],\n",
    "                           HOUSE_CITY_RELATION[\"start_node\"],\n",
    "                           HOUSE_CITY_RELATION[\"start_line\"],\n",
    "                           HOUSE_CITY_RELATION[\"end_node\"],\n",
    "                           HOUSE_CITY_RELATION[\"end_line\"],\n",
    "                           HOUSE_CITY_RELATION[\"relationship_name\"])"
   ]
  },
  {
   "cell_type": "code",
   "execution_count": 14,
   "metadata": {},
   "outputs": [],
   "source": [
    "# Create HOUSE_DISTRICT_RELATION\n",
    "create_relationships_query(HOUSE_DISTRICT_RELATION[\"link\"],\n",
    "                           HOUSE_DISTRICT_RELATION[\"start_node\"],\n",
    "                           HOUSE_DISTRICT_RELATION[\"start_line\"],\n",
    "                           HOUSE_DISTRICT_RELATION[\"end_node\"],\n",
    "                           HOUSE_DISTRICT_RELATION[\"end_line\"],\n",
    "                           HOUSE_DISTRICT_RELATION[\"relationship_name\"])"
   ]
  },
  {
   "cell_type": "code",
   "execution_count": 15,
   "metadata": {},
   "outputs": [],
   "source": [
    "# Create HOUSE_WARD_RELATION\n",
    "create_relationships_query(HOUSE_WARD_RELATION[\"link\"],\n",
    "                           HOUSE_WARD_RELATION[\"start_node\"],\n",
    "                           HOUSE_WARD_RELATION[\"start_line\"],\n",
    "                           HOUSE_WARD_RELATION[\"end_node\"],\n",
    "                           HOUSE_WARD_RELATION[\"end_line\"],\n",
    "                           HOUSE_WARD_RELATION[\"relationship_name\"])"
   ]
  },
  {
   "cell_type": "code",
   "execution_count": 16,
   "metadata": {},
   "outputs": [],
   "source": [
    "# Create HOUSE_STREET_RELATION\n",
    "create_relationships_query(HOUSE_STREET_RELATION[\"link\"],\n",
    "                           HOUSE_STREET_RELATION[\"start_node\"],\n",
    "                           HOUSE_STREET_RELATION[\"start_line\"],\n",
    "                           HOUSE_STREET_RELATION[\"end_node\"],\n",
    "                           HOUSE_STREET_RELATION[\"end_line\"],\n",
    "                           HOUSE_STREET_RELATION[\"relationship_name\"])"
   ]
  },
  {
   "cell_type": "code",
   "execution_count": 17,
   "metadata": {},
   "outputs": [],
   "source": [
    "# Create HOUSE_BATH_ROOM_RELATION\n",
    "create_relationships_query(HOUSE_BATH_ROOM_RELATION[\"link\"],\n",
    "                           HOUSE_BATH_ROOM_RELATION[\"start_node\"],\n",
    "                           HOUSE_BATH_ROOM_RELATION[\"start_line\"],\n",
    "                           HOUSE_BATH_ROOM_RELATION[\"end_node\"],\n",
    "                           HOUSE_BATH_ROOM_RELATION[\"end_line\"],\n",
    "                           HOUSE_BATH_ROOM_RELATION[\"relationship_name\"])"
   ]
  },
  {
   "cell_type": "code",
   "execution_count": 18,
   "metadata": {},
   "outputs": [],
   "source": [
    "# Create HOUSE_BED_ROOM_RELATION\n",
    "create_relationships_query(HOUSE_BED_ROOM_RELATION[\"link\"],\n",
    "                           HOUSE_BED_ROOM_RELATION[\"start_node\"],\n",
    "                           HOUSE_BED_ROOM_RELATION[\"start_line\"],\n",
    "                           HOUSE_BED_ROOM_RELATION[\"end_node\"],\n",
    "                           HOUSE_BED_ROOM_RELATION[\"end_line\"],\n",
    "                           HOUSE_BED_ROOM_RELATION[\"relationship_name\"])"
   ]
  },
  {
   "cell_type": "code",
   "execution_count": 19,
   "metadata": {},
   "outputs": [],
   "source": [
    "# Create HOUSE_LIVING_ROOM_RELATION\n",
    "create_relationships_query(HOUSE_LIVING_ROOM_RELATION[\"link\"],\n",
    "                           HOUSE_LIVING_ROOM_RELATION[\"start_node\"],\n",
    "                           HOUSE_LIVING_ROOM_RELATION[\"start_line\"],\n",
    "                           HOUSE_LIVING_ROOM_RELATION[\"end_node\"],\n",
    "                           HOUSE_LIVING_ROOM_RELATION[\"end_line\"],\n",
    "                           HOUSE_LIVING_ROOM_RELATION[\"relationship_name\"])"
   ]
  },
  {
   "cell_type": "code",
   "execution_count": 20,
   "metadata": {},
   "outputs": [],
   "source": [
    "# Create HOUSE_DIRECTION_RELATION\n",
    "create_relationships_query(HOUSE_DIRECTION_RELATION[\"link\"],\n",
    "                           HOUSE_DIRECTION_RELATION[\"start_node\"],\n",
    "                           HOUSE_DIRECTION_RELATION[\"start_line\"],\n",
    "                           HOUSE_DIRECTION_RELATION[\"end_node\"],\n",
    "                           HOUSE_DIRECTION_RELATION[\"end_line\"],\n",
    "                           HOUSE_DIRECTION_RELATION[\"relationship_name\"])"
   ]
  },
  {
   "cell_type": "code",
   "execution_count": 21,
   "metadata": {},
   "outputs": [],
   "source": [
    "# Create HOUSE_FLOOR_RELATION\n",
    "create_relationships_query(HOUSE_FLOOR_RELATION[\"link\"],\n",
    "                           HOUSE_FLOOR_RELATION[\"start_node\"],\n",
    "                           HOUSE_FLOOR_RELATION[\"start_line\"],\n",
    "                           HOUSE_FLOOR_RELATION[\"end_node\"],\n",
    "                           HOUSE_FLOOR_RELATION[\"end_line\"],\n",
    "                           HOUSE_FLOOR_RELATION[\"relationship_name\"])"
   ]
  },
  {
   "cell_type": "code",
   "execution_count": 22,
   "metadata": {},
   "outputs": [],
   "source": [
    "# Create HOUSE_FLOOR_GAC_RELATION\n",
    "create_relationships_query(HOUSE_FLOOR_GAC_RELATION[\"link\"],\n",
    "                           HOUSE_FLOOR_GAC_RELATION[\"start_node\"],\n",
    "                           HOUSE_FLOOR_GAC_RELATION[\"start_line\"],\n",
    "                           HOUSE_FLOOR_GAC_RELATION[\"end_node\"],\n",
    "                           HOUSE_FLOOR_GAC_RELATION[\"end_line\"],\n",
    "                           HOUSE_FLOOR_GAC_RELATION[\"relationship_name\"])"
   ]
  },
  {
   "cell_type": "code",
   "execution_count": 23,
   "metadata": {},
   "outputs": [],
   "source": [
    "# Create HOUSE_FLOOR_TRET_RELATION\n",
    "create_relationships_query(HOUSE_FLOOR_TRET_RELATION[\"link\"],\n",
    "                           HOUSE_FLOOR_TRET_RELATION[\"start_node\"],\n",
    "                           HOUSE_FLOOR_TRET_RELATION[\"start_line\"],\n",
    "                           HOUSE_FLOOR_TRET_RELATION[\"end_node\"],\n",
    "                           HOUSE_FLOOR_TRET_RELATION[\"end_line\"],\n",
    "                           HOUSE_FLOOR_TRET_RELATION[\"relationship_name\"])"
   ]
  },
  {
   "cell_type": "code",
   "execution_count": 24,
   "metadata": {},
   "outputs": [],
   "source": [
    "# Create HOUSE_FLOOR_LUNG_RELATION\n",
    "create_relationships_query(HOUSE_FLOOR_LUNG_RELATION[\"link\"],\n",
    "                           HOUSE_FLOOR_LUNG_RELATION[\"start_node\"],\n",
    "                           HOUSE_FLOOR_LUNG_RELATION[\"start_line\"],\n",
    "                           HOUSE_FLOOR_LUNG_RELATION[\"end_node\"],\n",
    "                           HOUSE_FLOOR_LUNG_RELATION[\"end_line\"],\n",
    "                           HOUSE_FLOOR_LUNG_RELATION[\"relationship_name\"])"
   ]
  },
  {
   "cell_type": "code",
   "execution_count": 25,
   "metadata": {},
   "outputs": [],
   "source": [
    "# Create HOUSE_FLOOR_HAM_RELATION\n",
    "create_relationships_query(HOUSE_FLOOR_HAM_RELATION[\"link\"],\n",
    "                           HOUSE_FLOOR_HAM_RELATION[\"start_node\"],\n",
    "                           HOUSE_FLOOR_HAM_RELATION[\"start_line\"],\n",
    "                           HOUSE_FLOOR_HAM_RELATION[\"end_node\"],\n",
    "                           HOUSE_FLOOR_HAM_RELATION[\"end_line\"],\n",
    "                           HOUSE_FLOOR_HAM_RELATION[\"relationship_name\"])"
   ]
  },
  {
   "cell_type": "code",
   "execution_count": 26,
   "metadata": {},
   "outputs": [],
   "source": [
    "# Create HOUSE_FLOOR_BAN_CONG_RELATION\n",
    "create_relationships_query(HOUSE_FLOOR_BAN_CONG_RELATION[\"link\"],\n",
    "                           HOUSE_FLOOR_BAN_CONG_RELATION[\"start_node\"],\n",
    "                           HOUSE_FLOOR_BAN_CONG_RELATION[\"start_line\"],\n",
    "                           HOUSE_FLOOR_BAN_CONG_RELATION[\"end_node\"],\n",
    "                           HOUSE_FLOOR_BAN_CONG_RELATION[\"end_line\"],\n",
    "                           HOUSE_FLOOR_BAN_CONG_RELATION[\"relationship_name\"])"
   ]
  },
  {
   "cell_type": "code",
   "execution_count": 27,
   "metadata": {},
   "outputs": [],
   "source": [
    "# Create HOUSE_FLOOR_SAN_THUONG_RELATION\n",
    "create_relationships_query(\n",
    "    HOUSE_FLOOR_SAN_THUONG_RELATION[\"link\"],\n",
    "    HOUSE_FLOOR_SAN_THUONG_RELATION[\"start_node\"],\n",
    "    HOUSE_FLOOR_SAN_THUONG_RELATION[\"start_line\"],\n",
    "    HOUSE_FLOOR_SAN_THUONG_RELATION[\"end_node\"],\n",
    "    HOUSE_FLOOR_SAN_THUONG_RELATION[\"end_line\"],\n",
    "    HOUSE_FLOOR_SAN_THUONG_RELATION[\"relationship_name\"])\n"
   ]
  },
  {
   "cell_type": "code",
   "execution_count": 28,
   "metadata": {},
   "outputs": [],
   "source": [
    "# Create HOUSE_FRONT_LENGTH_RELATION\n",
    "create_relationships_query(HOUSE_FRONT_LENGTH_RELATION[\"link\"],\n",
    "                           HOUSE_FRONT_LENGTH_RELATION[\"start_node\"],\n",
    "                           HOUSE_FRONT_LENGTH_RELATION[\"start_line\"],\n",
    "                           HOUSE_FRONT_LENGTH_RELATION[\"end_node\"],\n",
    "                           HOUSE_FRONT_LENGTH_RELATION[\"end_line\"],\n",
    "                           HOUSE_FRONT_LENGTH_RELATION[\"relationship_name\"])"
   ]
  },
  {
   "cell_type": "code",
   "execution_count": 29,
   "metadata": {},
   "outputs": [],
   "source": [
    "# Create HOUSE_LEGAL_RELATION\n",
    "create_relationships_query(HOUSE_LEGAL_RELATION[\"link\"],\n",
    "                           HOUSE_LEGAL_RELATION[\"start_node\"],\n",
    "                           HOUSE_LEGAL_RELATION[\"start_line\"],\n",
    "                           HOUSE_LEGAL_RELATION[\"end_node\"],\n",
    "                           HOUSE_LEGAL_RELATION[\"end_line\"],\n",
    "                           HOUSE_LEGAL_RELATION[\"relationship_name\"])"
   ]
  },
  {
   "cell_type": "code",
   "execution_count": 30,
   "metadata": {},
   "outputs": [],
   "source": [
    "# Create HOUSE_POSITION_RELATION\n",
    "create_relationships_query(HOUSE_POSITION_RELATION[\"link\"],\n",
    "                           HOUSE_POSITION_RELATION[\"start_node\"],\n",
    "                           HOUSE_POSITION_RELATION[\"start_line\"],\n",
    "                           HOUSE_POSITION_RELATION[\"end_node\"],\n",
    "                           HOUSE_POSITION_RELATION[\"end_line\"],\n",
    "                           HOUSE_POSITION_RELATION[\"relationship_name\"])"
   ]
  },
  {
   "cell_type": "code",
   "execution_count": 31,
   "metadata": {},
   "outputs": [],
   "source": [
    "# Create HOUSE_PROJECT_NAME_RELATION\n",
    "create_relationships_query(HOUSE_PROJECT_NAME_RELATION[\"link\"],\n",
    "                           HOUSE_PROJECT_NAME_RELATION[\"start_node\"],\n",
    "                           HOUSE_PROJECT_NAME_RELATION[\"start_line\"],\n",
    "                           HOUSE_PROJECT_NAME_RELATION[\"end_node\"],\n",
    "                           HOUSE_PROJECT_NAME_RELATION[\"end_line\"],\n",
    "                           HOUSE_PROJECT_NAME_RELATION[\"relationship_name\"])"
   ]
  },
  {
   "cell_type": "code",
   "execution_count": 32,
   "metadata": {},
   "outputs": [],
   "source": [
    "# Create HOUSE_ROAD_WIDTH_RELATION\n",
    "create_relationships_query(HOUSE_ROAD_WIDTH_RELATION[\"link\"],\n",
    "                           HOUSE_ROAD_WIDTH_RELATION[\"start_node\"],\n",
    "                           HOUSE_ROAD_WIDTH_RELATION[\"start_line\"],\n",
    "                           HOUSE_ROAD_WIDTH_RELATION[\"end_node\"],\n",
    "                           HOUSE_ROAD_WIDTH_RELATION[\"end_line\"],\n",
    "                           HOUSE_ROAD_WIDTH_RELATION[\"relationship_name\"])"
   ]
  },
  {
   "cell_type": "code",
   "execution_count": 33,
   "metadata": {},
   "outputs": [],
   "source": [
    "# Create HOUSE_SURROUNDING_RELATION\n",
    "create_relationships_query(HOUSE_SURROUNDING_RELATION[\"link\"],\n",
    "                           HOUSE_SURROUNDING_RELATION[\"start_node\"],\n",
    "                           HOUSE_SURROUNDING_RELATION[\"start_line\"],\n",
    "                           HOUSE_SURROUNDING_RELATION[\"end_node\"],\n",
    "                           HOUSE_SURROUNDING_RELATION[\"end_line\"],\n",
    "                           HOUSE_SURROUNDING_RELATION[\"relationship_name\"])"
   ]
  },
  {
   "cell_type": "code",
   "execution_count": 34,
   "metadata": {},
   "outputs": [],
   "source": [
    "# Create HOUSE_POTENTIAL_RELATION\n",
    "create_relationships_query(HOUSE_POTENTIAL_RELATION[\"link\"],\n",
    "                           HOUSE_POTENTIAL_RELATION[\"start_node\"],\n",
    "                           HOUSE_POTENTIAL_RELATION[\"start_line\"],\n",
    "                           HOUSE_POTENTIAL_RELATION[\"end_node\"],\n",
    "                           HOUSE_POTENTIAL_RELATION[\"end_line\"],\n",
    "                           HOUSE_POTENTIAL_RELATION[\"relationship_name\"])"
   ]
  },
  {
   "cell_type": "code",
   "execution_count": 35,
   "metadata": {},
   "outputs": [],
   "source": [
    "# Create STREET_WARD_RELATION\n",
    "create_relationships_query(STREET_WARD_RELATION[\"link\"],\n",
    "                           STREET_WARD_RELATION[\"start_node\"],\n",
    "                           STREET_WARD_RELATION[\"start_line\"],\n",
    "                           STREET_WARD_RELATION[\"end_node\"],\n",
    "                           STREET_WARD_RELATION[\"end_line\"],\n",
    "                           STREET_WARD_RELATION[\"relationship_name\"])"
   ]
  },
  {
   "cell_type": "code",
   "execution_count": 36,
   "metadata": {},
   "outputs": [],
   "source": [
    "# Create STREET_DISTRICT_RELATION\n",
    "create_relationships_query(STREET_DISTRICT_RELATION[\"link\"],\n",
    "                           STREET_DISTRICT_RELATION[\"start_node\"],\n",
    "                           STREET_DISTRICT_RELATION[\"start_line\"],\n",
    "                           STREET_DISTRICT_RELATION[\"end_node\"],\n",
    "                           STREET_DISTRICT_RELATION[\"end_line\"],\n",
    "                           STREET_DISTRICT_RELATION[\"relationship_name\"])"
   ]
  },
  {
   "cell_type": "code",
   "execution_count": 37,
   "metadata": {},
   "outputs": [],
   "source": [
    "# Create STREET_CITY_RELATION\n",
    "create_relationships_query(STREET_CITY_RELATION[\"link\"],\n",
    "                           STREET_CITY_RELATION[\"start_node\"],\n",
    "                           STREET_CITY_RELATION[\"start_line\"],\n",
    "                           STREET_CITY_RELATION[\"end_node\"],\n",
    "                           STREET_CITY_RELATION[\"end_line\"],\n",
    "                           STREET_CITY_RELATION[\"relationship_name\"])"
   ]
  },
  {
   "cell_type": "code",
   "execution_count": 38,
   "metadata": {},
   "outputs": [],
   "source": [
    "# Create WARD_DISTRICT_RELATION\n",
    "create_relationships_query(WARD_DISTRICT_RELATION[\"link\"],\n",
    "                           WARD_DISTRICT_RELATION[\"start_node\"],\n",
    "                           WARD_DISTRICT_RELATION[\"start_line\"],\n",
    "                           WARD_DISTRICT_RELATION[\"end_node\"],\n",
    "                           WARD_DISTRICT_RELATION[\"end_line\"],\n",
    "                           WARD_DISTRICT_RELATION[\"relationship_name\"])"
   ]
  },
  {
   "cell_type": "code",
   "execution_count": 39,
   "metadata": {},
   "outputs": [],
   "source": [
    "# Create WARD_CITY_RELATION\n",
    "create_relationships_query(WARD_CITY_RELATION[\"link\"],\n",
    "                           WARD_CITY_RELATION[\"start_node\"],\n",
    "                           WARD_CITY_RELATION[\"start_line\"],\n",
    "                           WARD_CITY_RELATION[\"end_node\"],\n",
    "                           WARD_CITY_RELATION[\"end_line\"],\n",
    "                           WARD_CITY_RELATION[\"relationship_name\"])"
   ]
  },
  {
   "cell_type": "code",
   "execution_count": 40,
   "metadata": {},
   "outputs": [],
   "source": [
    "# Create DISTRICT_CITY_RELATION\n",
    "create_relationships_query(DISTRICT_CITY_RELATION[\"link\"],\n",
    "                           DISTRICT_CITY_RELATION[\"start_node\"],\n",
    "                           DISTRICT_CITY_RELATION[\"start_line\"],\n",
    "                           DISTRICT_CITY_RELATION[\"end_node\"],\n",
    "                           DISTRICT_CITY_RELATION[\"end_line\"],\n",
    "                           DISTRICT_CITY_RELATION[\"relationship_name\"])"
   ]
  },
  {
   "cell_type": "code",
   "execution_count": null,
   "metadata": {},
   "outputs": [],
   "source": []
  }
 ],
 "metadata": {
  "kernelspec": {
   "display_name": "Python 3.7.9 64-bit",
   "language": "python",
   "name": "python3"
  },
  "language_info": {
   "codemirror_mode": {
    "name": "ipython",
    "version": 3
   },
   "file_extension": ".py",
   "mimetype": "text/x-python",
   "name": "python",
   "nbconvert_exporter": "python",
   "pygments_lexer": "ipython3",
   "version": "3.7.9"
  },
  "orig_nbformat": 4,
  "vscode": {
   "interpreter": {
    "hash": "5109d816b82be14675a6b11f8e0f0d2e80f029176ed3710d54e125caa8520dfd"
   }
  }
 },
 "nbformat": 4,
 "nbformat_minor": 2
}
