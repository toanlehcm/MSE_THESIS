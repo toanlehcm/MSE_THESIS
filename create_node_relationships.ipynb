{
 "cells": [
  {
   "cell_type": "code",
   "execution_count": 1,
   "metadata": {},
   "outputs": [],
   "source": [
    "from neo4j import GraphDatabase\n",
    "import json"
   ]
  },
  {
   "cell_type": "code",
   "execution_count": 2,
   "metadata": {},
   "outputs": [],
   "source": [
    "driver = GraphDatabase.driver(\n",
    "    'bolt://localhost:7687', auth=('neo4j', 'password'))"
   ]
  },
  {
   "cell_type": "code",
   "execution_count": 3,
   "metadata": {},
   "outputs": [],
   "source": [
    "with open('data/create_relationships_dict.json', 'r', encoding=\"utf-8\") as fp:\n",
    "    create_relationships_dict = json.load(fp)\n",
    "    fp.close()\n",
    "\n",
    "PRICE_RELATION = create_relationships_dict[\"PRICE_RELATION\"]\n",
    "STREET_RELATION = create_relationships_dict[\"STREET_RELATION\"]\n",
    "WARD_RELATION = create_relationships_dict[\"WARD_RELATION\"]"
   ]
  },
  {
   "cell_type": "code",
   "execution_count": 4,
   "metadata": {},
   "outputs": [],
   "source": [
    "def run_query(query):\n",
    "    with driver.session(database=\"htdb\") as session:\n",
    "        result = session.run(query)"
   ]
  },
  {
   "cell_type": "code",
   "execution_count": 5,
   "metadata": {},
   "outputs": [],
   "source": [
    "def create_relationships_query(link_data, primary_label, primary_line, foreign_label, foreign_line, relationship_name):\n",
    "    relationships_query = \"LOAD CSV FROM '\"+link_data+\"' AS line \" + \\\n",
    "        \"WITH line skip 1 \" + \\\n",
    "        \"MATCH (n:\"+primary_label+\" {individual: \"+primary_line+\"}), (n1:\"+foreign_label+\" {individual: \"+foreign_line+\"}) \" + \\\n",
    "        \"MERGE (n)-[:\"+relationship_name+\"]-> (n1)\"\n",
    "\n",
    "    print(relationships_query)\n",
    "    run_query(relationships_query)"
   ]
  },
  {
   "cell_type": "code",
   "execution_count": null,
   "metadata": {},
   "outputs": [],
   "source": [
    "# Create price relation.\n",
    "create_relationships_query(PRICE_RELATION[\"link\"], PRICE_RELATION[\"primary_label\"], PRICE_RELATION[\"primary_line\"],\n",
    "                  PRICE_RELATION[\"foreign_label\"], PRICE_RELATION[\"foreign_line\"], PRICE_RELATION[\"relationship_name\"])"
   ]
  },
  {
   "cell_type": "code",
   "execution_count": null,
   "metadata": {},
   "outputs": [],
   "source": [
    "# Create street relation.\n",
    "create_relationships_query(STREET_RELATION[\"link\"], STREET_RELATION[\"primary_label\"], STREET_RELATION[\"primary_line\"],\n",
    "                  STREET_RELATION[\"foreign_label\"], STREET_RELATION[\"foreign_line\"], STREET_RELATION[\"relationship_name\"])"
   ]
  },
  {
   "cell_type": "code",
   "execution_count": 6,
   "metadata": {},
   "outputs": [
    {
     "name": "stdout",
     "output_type": "stream",
     "text": [
      "LOAD CSV FROM 'https://www.dropbox.com/s/dgpq4ppxyok02zh/HungThinhDB10K.csv?dl=1' AS line WITH line skip 1 MATCH (n:Street {individual: line[11]}), (n1:Ward {individual: line[10]}) MERGE (n)-[:In]-> (n1)\n"
     ]
    }
   ],
   "source": [
    "# Create ward relation.\n",
    "create_relationships_query(WARD_RELATION[\"link\"], WARD_RELATION[\"primary_label\"], WARD_RELATION[\"primary_line\"],\n",
    "                  WARD_RELATION[\"foreign_label\"], WARD_RELATION[\"foreign_line\"], WARD_RELATION[\"relationship_name\"])"
   ]
  },
  {
   "cell_type": "code",
   "execution_count": null,
   "metadata": {},
   "outputs": [],
   "source": []
  }
 ],
 "metadata": {
  "kernelspec": {
   "display_name": "Python 3.7.9 64-bit",
   "language": "python",
   "name": "python3"
  },
  "language_info": {
   "codemirror_mode": {
    "name": "ipython",
    "version": 3
   },
   "file_extension": ".py",
   "mimetype": "text/x-python",
   "name": "python",
   "nbconvert_exporter": "python",
   "pygments_lexer": "ipython3",
   "version": "3.7.9"
  },
  "orig_nbformat": 4,
  "vscode": {
   "interpreter": {
    "hash": "5109d816b82be14675a6b11f8e0f0d2e80f029176ed3710d54e125caa8520dfd"
   }
  }
 },
 "nbformat": 4,
 "nbformat_minor": 2
}
