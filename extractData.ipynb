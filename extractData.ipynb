{
 "cells": [
  {
   "cell_type": "code",
   "execution_count": 10,
   "metadata": {},
   "outputs": [],
   "source": [
    "import pandas as pd\n",
    "import json\n",
    "import pathlib\n",
    "import dropbox\n",
    "from dropbox.exceptions import AuthError"
   ]
  },
  {
   "cell_type": "code",
   "execution_count": 26,
   "metadata": {},
   "outputs": [],
   "source": [
    "DB_DATA_PATH = \"data/HungThinhDB10K.csv\"\n",
    "\n",
    "db_data = pd.read_csv(DB_DATA_PATH)\n"
   ]
  },
  {
   "cell_type": "code",
   "execution_count": 27,
   "metadata": {},
   "outputs": [],
   "source": [
    "with open('data/intent_alias_data.json', 'r', encoding=\"utf-8\") as fp:\n",
    "    alias_file = json.load(fp)\n",
    "    fp.close()\n"
   ]
  },
  {
   "cell_type": "code",
   "execution_count": 28,
   "metadata": {},
   "outputs": [],
   "source": [
    "\n",
    "with open('data/create_csv_dict.json', 'r', encoding=\"utf-8\") as fp:\n",
    "    create_csv_dict = json.load(fp)\n",
    "    fp.close()\n",
    "\n",
    "HOUSE = create_csv_dict[\"HOUSE\"]\n",
    "CITY = create_csv_dict[\"CITY\"]\n",
    "DISTRICT = create_csv_dict[\"DISTRICT\"]\n",
    "WARD = create_csv_dict[\"WARD\"]\n",
    "STREET = create_csv_dict[\"STREET\"]\n",
    "# HOUSE_NUMBER = create_csv_dict[\"HOUSE_NUMBER\"]\n",
    "PRICE = create_csv_dict[\"PRICE\"]\n",
    "AREA = create_csv_dict[\"AREA\"]\n",
    "POTENTIAL = create_csv_dict[\"POTENTIAL\"]\n",
    "BATH_ROOM = create_csv_dict[\"BATH_ROOM\"]\n",
    "BED_ROOM = create_csv_dict[\"BED_ROOM\"]\n",
    "LIVING_ROOM = create_csv_dict[\"LIVING_ROOM\"]\n",
    "DIRECTION = create_csv_dict[\"DIRECTION\"]\n",
    "FLOOR = create_csv_dict[\"FLOOR\"]\n"
   ]
  },
  {
   "cell_type": "code",
   "execution_count": 37,
   "metadata": {},
   "outputs": [],
   "source": [
    "def preprocess(old_data, old_column_name, new_column_name):\n",
    "    temp_data = pd.DataFrame(old_data)\n",
    "    temp_data = temp_data.rename(columns={old_column_name: new_column_name})\n",
    "    temp_data = temp_data.dropna()\n",
    "    temp_data = temp_data.drop_duplicates()\n",
    "    number_column_arr = ['price', 'area', 'bath_room', 'bed_room', 'living_room', \"floor\"]\n",
    "\n",
    "    if old_column_name not in number_column_arr:\n",
    "        for x in temp_data.index:\n",
    "            if \"http\" in temp_data.loc[x, new_column_name]:\n",
    "                # print(x, temp_data.loc[x, new_column_name])\n",
    "                temp_data = temp_data.drop(x)\n",
    "\n",
    "            # if \"/\" in temp_data.loc[x, new_column_name]:\n",
    "            #     print(x, temp_data.loc[x, new_column_name])\n",
    "                # temp_data = temp_data.drop(x)\n",
    "\n",
    "            # if \".\" in temp_data.loc[x, new_column_name]:\n",
    "            #     print(x, temp_data.loc[x, new_column_name])\n",
    "                # temp_data = temp_data.drop(x)\n",
    "\n",
    "            # if \"<\" in temp_data.loc[x, new_column_name]:\n",
    "            #     print(x, temp_data.loc[x, new_column_name])\n",
    "            #     temp_data = temp_data.drop(x)\n",
    "\n",
    "            # if \">\" in temp_data.loc[x, new_column_name]:\n",
    "            #     print(x, temp_data.loc[x, new_column_name])\n",
    "            #     temp_data = temp_data.drop(x)\n",
    "\n",
    "            # if \"01\" in temp_data.loc[x, new_column_name]:\n",
    "            #     print(x, temp_data.loc[x, new_column_name])\n",
    "            #     temp_data = temp_data.drop(x)\n",
    "\n",
    "    return temp_data\n"
   ]
  },
  {
   "cell_type": "code",
   "execution_count": 33,
   "metadata": {},
   "outputs": [],
   "source": [
    "def add_alias_to_csv(file_csv_path, new_alias_column_name, alias_list):\n",
    "    temp_data = pd.read_csv(file_csv_path)\n",
    "    new_column = pd.DataFrame({new_alias_column_name: alias_list})\n",
    "    temp_data = temp_data.merge(\n",
    "        new_column, how=\"left\", left_index=True, right_index=True)\n",
    "    temp_data.to_csv(file_csv_path, index=False)\n"
   ]
  },
  {
   "cell_type": "code",
   "execution_count": 34,
   "metadata": {},
   "outputs": [],
   "source": [
    "def create_alias_column(file_csv_path, new_alias_column_name, alias_file, alias_data):\n",
    "    alias_list = alias_file[alias_data]\n",
    "    add_alias_to_csv(file_csv_path, new_alias_column_name, alias_list)\n"
   ]
  },
  {
   "cell_type": "code",
   "execution_count": 35,
   "metadata": {},
   "outputs": [],
   "source": [
    "def create_csv_file(db_data, column_name, new_column_name, file_name):\n",
    "    temp_data_old = db_data[[column_name]]\n",
    "    new_data = preprocess(temp_data_old, column_name, new_column_name)\n",
    "    new_data.to_csv(file_name)\n"
   ]
  },
  {
   "cell_type": "code",
   "execution_count": 23,
   "metadata": {},
   "outputs": [],
   "source": [
    "DROPBOX_ACCESS_TOKEN = \"sl.BQ2T1GxZk4MLt8MRUz6SO33NQ_SuaadhpXxSvuOyOzGdqTyK-g1Je-5NFHLh2CM0Q8_ztcbTMYv6evu9eAuJLmeZAHSnDyqC6uSypdHl-JpsG3mzozgcAYe-sU0L3TyRc9sfyFc\""
   ]
  },
  {
   "cell_type": "code",
   "execution_count": 14,
   "metadata": {},
   "outputs": [],
   "source": [
    "# Connect to the Dropbox API\n",
    "def dropbox_connect():\n",
    "    \"\"\"Create a connection to Dropbox.\"\"\"\n",
    "\n",
    "    try:\n",
    "        dbx = dropbox.Dropbox(DROPBOX_ACCESS_TOKEN)\n",
    "    except AuthError as e:\n",
    "        print('Error connecting to Dropbox with access token: ' + str(e))\n",
    "    return dbx"
   ]
  },
  {
   "cell_type": "code",
   "execution_count": 18,
   "metadata": {},
   "outputs": [],
   "source": [
    "# Get a list of files in a Dropbox folder\n",
    "def dropbox_list_files(path):\n",
    "    \"\"\"Return a Pandas dataframe of files in a given Dropbox folder path in the Apps directory.\n",
    "    \"\"\"\n",
    "\n",
    "    dbx = dropbox_connect()\n",
    "\n",
    "    try:\n",
    "        files = dbx.files_list_folder(path).entries\n",
    "        files_list = []\n",
    "        for file in files:\n",
    "            if isinstance(file, dropbox.files.FileMetadata):\n",
    "                metadata = {\n",
    "                    'name': file.name,\n",
    "                    'path_display': file.path_display,\n",
    "                    'client_modified': file.client_modified,\n",
    "                    'server_modified': file.server_modified\n",
    "                }\n",
    "                files_list.append(metadata)\n",
    "\n",
    "        df = pd.DataFrame.from_records(files_list)\n",
    "        return df.sort_values(by='server_modified', ascending=False)\n",
    "\n",
    "    except Exception as e:\n",
    "        print('Error getting list of files from Dropbox: ' + str(e))"
   ]
  },
  {
   "cell_type": "code",
   "execution_count": 29,
   "metadata": {},
   "outputs": [],
   "source": [
    "# dropbox_list_files(\"https://www.dropbox.com/s/d38msio1vfs8ccl/test.csv?dl=1\")"
   ]
  },
  {
   "cell_type": "code",
   "execution_count": 15,
   "metadata": {},
   "outputs": [],
   "source": [
    "# Upload a file to Dropbox\n",
    "def dropbox_upload_file(local_path, local_file, dropbox_file_path):\n",
    "    \"\"\"Upload a file from the local machine to a path in the Dropbox app directory.\n",
    "\n",
    "    Args:\n",
    "        local_path (str): The path to the local file.\n",
    "        local_file (str): The name of the local file.\n",
    "        dropbox_file_path (str): The path to the file in the Dropbox app directory.\n",
    "\n",
    "    Example:\n",
    "        dropbox_upload_file('.', 'test.csv', '/stuff/test.csv')\n",
    "\n",
    "    Returns:\n",
    "        meta: The Dropbox file metadata.\n",
    "    \"\"\"\n",
    "\n",
    "    try:\n",
    "        dbx = dropbox_connect()\n",
    "\n",
    "        local_file_path = pathlib.Path(local_path) / local_file\n",
    "\n",
    "        with local_file_path.open(\"rb\") as f:\n",
    "            meta = dbx.files_upload(f.read(), dropbox_file_path, mode=dropbox.files.WriteMode(\"overwrite\"))\n",
    "\n",
    "            return meta\n",
    "    except Exception as e:\n",
    "        print('Error uploading file to Dropbox: ' + str(e))"
   ]
  },
  {
   "cell_type": "code",
   "execution_count": 30,
   "metadata": {},
   "outputs": [],
   "source": [
    "# dropbox_upload_file('.', 'test.csv', '/Apps/chatbot_data/test.csv')"
   ]
  },
  {
   "cell_type": "code",
   "execution_count": 21,
   "metadata": {},
   "outputs": [],
   "source": [
    "# implement house_data.csv\n",
    "create_csv_file(db_data, HOUSE[\"column_name\"],\n",
    "                HOUSE[\"new_column_name\"], HOUSE[\"csv_file_path\"])\n",
    "create_alias_column(HOUSE[\"csv_file_path\"], HOUSE[\"new_alias_column_name\"],\n",
    "                    alias_file, HOUSE[\"alias_list\"])\n"
   ]
  },
  {
   "cell_type": "code",
   "execution_count": 10,
   "metadata": {},
   "outputs": [],
   "source": [
    "# implement city_data.csv\n",
    "create_csv_file(db_data, CITY[\"column_name\"],\n",
    "                CITY[\"new_column_name\"], CITY[\"csv_file_path\"])\n",
    "create_alias_column(CITY[\"csv_file_path\"], CITY[\"new_alias_column_name\"],\n",
    "                    alias_file, CITY[\"alias_list\"])"
   ]
  },
  {
   "cell_type": "code",
   "execution_count": 11,
   "metadata": {},
   "outputs": [],
   "source": [
    "# implement district_data.csv\n",
    "create_csv_file(db_data, DISTRICT[\"column_name\"],\n",
    "                DISTRICT[\"new_column_name\"], DISTRICT[\"csv_file_path\"])\n",
    "create_alias_column(DISTRICT[\"csv_file_path\"], DISTRICT[\"new_alias_column_name\"],\n",
    "                    alias_file, DISTRICT[\"alias_list\"])"
   ]
  },
  {
   "cell_type": "code",
   "execution_count": 12,
   "metadata": {},
   "outputs": [],
   "source": [
    "# implement ward_data.csv\n",
    "create_csv_file(db_data, WARD[\"column_name\"],\n",
    "                WARD[\"new_column_name\"], WARD[\"csv_file_path\"])\n",
    "create_alias_column(WARD[\"csv_file_path\"], WARD[\"new_alias_column_name\"],\n",
    "                    alias_file, WARD[\"alias_list\"])\n"
   ]
  },
  {
   "cell_type": "code",
   "execution_count": 13,
   "metadata": {},
   "outputs": [],
   "source": [
    "# implement street_data.csv\n",
    "create_csv_file(db_data, STREET[\"column_name\"],\n",
    "                STREET[\"new_column_name\"], STREET[\"csv_file_path\"])\n",
    "create_alias_column(STREET[\"csv_file_path\"], STREET[\"new_alias_column_name\"],\n",
    "                    alias_file, STREET[\"alias_list\"])\n"
   ]
  },
  {
   "cell_type": "code",
   "execution_count": 14,
   "metadata": {},
   "outputs": [],
   "source": [
    "# implement house_number_data.csv\n",
    "# create_csv_file(db_data, HOUSE_NUMBER[\"column_name\"],\n",
    "#                 HOUSE_NUMBER[\"new_column_name\"], HOUSE_NUMBER[\"csv_file_path\"])\n",
    "# create_alias_column(HOUSE_NUMBER[\"csv_file_path\"], HOUSE_NUMBER[\"new_alias_column_name\"],\n",
    "#                     alias_file, HOUSE_NUMBER[\"alias_list\"])\n"
   ]
  },
  {
   "cell_type": "code",
   "execution_count": 25,
   "metadata": {},
   "outputs": [],
   "source": [
    "# implement price_data.csv\n",
    "create_csv_file(db_data, PRICE[\"column_name\"],\n",
    "                PRICE[\"new_column_name\"], PRICE[\"csv_file_path\"])\n",
    "create_alias_column(PRICE[\"csv_file_path\"], PRICE[\"new_alias_column_name\"],\n",
    "                    alias_file, PRICE[\"alias_list\"])"
   ]
  },
  {
   "cell_type": "code",
   "execution_count": 11,
   "metadata": {},
   "outputs": [],
   "source": [
    "# implement area_data.csv\n",
    "create_csv_file(db_data, AREA[\"column_name\"],\n",
    "                AREA[\"new_column_name\"], AREA[\"csv_file_path\"])\n",
    "create_alias_column(AREA[\"csv_file_path\"], AREA[\"new_alias_column_name\"],\n",
    "                    alias_file, AREA[\"alias_list\"])"
   ]
  },
  {
   "cell_type": "code",
   "execution_count": 13,
   "metadata": {},
   "outputs": [],
   "source": [
    "# implement potential_data.csv\n",
    "create_csv_file(db_data, POTENTIAL[\"column_name\"],\n",
    "                POTENTIAL[\"new_column_name\"], POTENTIAL[\"csv_file_path\"])\n",
    "create_alias_column(POTENTIAL[\"csv_file_path\"], POTENTIAL[\"new_alias_column_name\"],\n",
    "                    alias_file, POTENTIAL[\"alias_list\"])"
   ]
  },
  {
   "cell_type": "code",
   "execution_count": 23,
   "metadata": {},
   "outputs": [],
   "source": [
    "# implement bath_room_data.csv\n",
    "create_csv_file(db_data, BATH_ROOM[\"column_name\"],\n",
    "                BATH_ROOM[\"new_column_name\"], BATH_ROOM[\"csv_file_path\"])\n",
    "create_alias_column(BATH_ROOM[\"csv_file_path\"], BATH_ROOM[\"new_alias_column_name\"],\n",
    "                    alias_file, BATH_ROOM[\"alias_list\"])"
   ]
  },
  {
   "cell_type": "code",
   "execution_count": 24,
   "metadata": {},
   "outputs": [],
   "source": [
    "# implement bed_room_data.csv\n",
    "create_csv_file(db_data, BED_ROOM[\"column_name\"],\n",
    "                BED_ROOM[\"new_column_name\"], BED_ROOM[\"csv_file_path\"])\n",
    "create_alias_column(BED_ROOM[\"csv_file_path\"], BED_ROOM[\"new_alias_column_name\"],\n",
    "                    alias_file, BED_ROOM[\"alias_list\"])"
   ]
  },
  {
   "cell_type": "code",
   "execution_count": 27,
   "metadata": {},
   "outputs": [],
   "source": [
    "# implement living_room_data.csv\n",
    "create_csv_file(db_data, LIVING_ROOM[\"column_name\"],\n",
    "                LIVING_ROOM[\"new_column_name\"], LIVING_ROOM[\"csv_file_path\"])\n",
    "create_alias_column(LIVING_ROOM[\"csv_file_path\"], LIVING_ROOM[\"new_alias_column_name\"],\n",
    "                    alias_file, LIVING_ROOM[\"alias_list\"])"
   ]
  },
  {
   "cell_type": "code",
   "execution_count": 32,
   "metadata": {},
   "outputs": [],
   "source": [
    "# implement direction_data.csv\n",
    "create_csv_file(db_data, DIRECTION[\"column_name\"],\n",
    "                DIRECTION[\"new_column_name\"], DIRECTION[\"csv_file_path\"])\n",
    "create_alias_column(DIRECTION[\"csv_file_path\"], DIRECTION[\"new_alias_column_name\"],\n",
    "                    alias_file, DIRECTION[\"alias_list\"])"
   ]
  },
  {
   "cell_type": "code",
   "execution_count": 38,
   "metadata": {},
   "outputs": [],
   "source": [
    "# implement floor_data.csv\n",
    "create_csv_file(db_data, FLOOR[\"column_name\"],\n",
    "                FLOOR[\"new_column_name\"], FLOOR[\"csv_file_path\"])\n",
    "create_alias_column(FLOOR[\"csv_file_path\"], FLOOR[\"new_alias_column_name\"],\n",
    "                    alias_file, FLOOR[\"alias_list\"])"
   ]
  }
 ],
 "metadata": {
  "kernelspec": {
   "display_name": "Python 3.7.9 64-bit",
   "language": "python",
   "name": "python3"
  },
  "language_info": {
   "codemirror_mode": {
    "name": "ipython",
    "version": 3
   },
   "file_extension": ".py",
   "mimetype": "text/x-python",
   "name": "python",
   "nbconvert_exporter": "python",
   "pygments_lexer": "ipython3",
   "version": "3.7.9"
  },
  "orig_nbformat": 4,
  "vscode": {
   "interpreter": {
    "hash": "5109d816b82be14675a6b11f8e0f0d2e80f029176ed3710d54e125caa8520dfd"
   }
  }
 },
 "nbformat": 4,
 "nbformat_minor": 2
}
