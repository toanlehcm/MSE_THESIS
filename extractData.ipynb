{
 "cells": [
  {
   "cell_type": "code",
   "execution_count": 1,
   "metadata": {},
   "outputs": [],
   "source": [
    "import pandas as pd\n",
    "import json\n"
   ]
  },
  {
   "cell_type": "code",
   "execution_count": 2,
   "metadata": {},
   "outputs": [],
   "source": [
    "DB_DATA_PATH = \"data/HungThinhDB10K.csv\"\n",
    "\n",
    "db_data = pd.read_csv(DB_DATA_PATH)\n"
   ]
  },
  {
   "cell_type": "code",
   "execution_count": 3,
   "metadata": {},
   "outputs": [],
   "source": [
    "with open('data/intent_alias_data.json', 'r', encoding=\"utf-8\") as fp:\n",
    "    alias_file = json.load(fp)\n",
    "    fp.close()\n"
   ]
  },
  {
   "cell_type": "code",
   "execution_count": 14,
   "metadata": {},
   "outputs": [
    {
     "name": "stdout",
     "output_type": "stream",
     "text": [
      "real_estate_sub_type\n"
     ]
    }
   ],
   "source": [
    "\n",
    "with open('data/create_csv_dict.json', 'r', encoding=\"utf-8\") as fp:\n",
    "    create_csv_dict = json.load(fp)\n",
    "    fp.close()\n",
    "\n",
    "HOUSE = create_csv_dict[\"HOUSE\"]\n",
    "CITY = create_csv_dict[\"CITY\"]\n",
    "DISTRICT = create_csv_dict[\"DISTRICT\"]\n",
    "WARD = create_csv_dict[\"WARD\"]\n",
    "STREET = create_csv_dict[\"STREET\"]\n",
    "HOUSE_NUMBER = create_csv_dict[\"HOUSE_NUMBER\"]\n"
   ]
  },
  {
   "cell_type": "code",
   "execution_count": 28,
   "metadata": {},
   "outputs": [],
   "source": [
    "def preprocess(old_data, old_column_name, new_column_name):\n",
    "    temp_data = pd.DataFrame(old_data)\n",
    "    temp_data = temp_data.rename(columns={old_column_name: new_column_name})\n",
    "    temp_data = temp_data.dropna()\n",
    "    temp_data = temp_data.drop_duplicates()\n",
    "\n",
    "    for x in temp_data.index:\n",
    "        if \"http\" in temp_data.loc[x, new_column_name]:\n",
    "            # print(x, temp_data.loc[x, new_column_name])\n",
    "            temp_data = temp_data.drop(x)\n",
    "\n",
    "        # if \"/\" in temp_data.loc[x, new_column_name]:\n",
    "        #     print(x, temp_data.loc[x, new_column_name])\n",
    "            # temp_data = temp_data.drop(x)\n",
    "\n",
    "        # if \".\" in temp_data.loc[x, new_column_name]:\n",
    "        #     print(x, temp_data.loc[x, new_column_name])\n",
    "            # temp_data = temp_data.drop(x)\n",
    "\n",
    "        # if \"<\" in temp_data.loc[x, new_column_name]:\n",
    "        #     print(x, temp_data.loc[x, new_column_name])\n",
    "        #     temp_data = temp_data.drop(x)\n",
    "\n",
    "        # if \">\" in temp_data.loc[x, new_column_name]:\n",
    "        #     print(x, temp_data.loc[x, new_column_name])\n",
    "        #     temp_data = temp_data.drop(x)\n",
    "\n",
    "        # if \"01\" in temp_data.loc[x, new_column_name]:\n",
    "        #     print(x, temp_data.loc[x, new_column_name])\n",
    "        #     temp_data = temp_data.drop(x)\n",
    "\n",
    "    return temp_data\n"
   ]
  },
  {
   "cell_type": "code",
   "execution_count": 29,
   "metadata": {},
   "outputs": [],
   "source": [
    "def add_alias_to_csv(file_csv_path, new_alias_column_name, alias_list):\n",
    "    temp_data = pd.read_csv(file_csv_path)\n",
    "    new_column = pd.DataFrame({new_alias_column_name: alias_list})\n",
    "    temp_data = temp_data.merge(\n",
    "        new_column, how=\"left\", left_index=True, right_index=True)\n",
    "    temp_data.to_csv(file_csv_path, index=False)\n"
   ]
  },
  {
   "cell_type": "code",
   "execution_count": 30,
   "metadata": {},
   "outputs": [],
   "source": [
    "def create_alias_column(file_csv_path, new_alias_column_name, alias_file, alias_data):\n",
    "    alias_list = alias_file[alias_data]\n",
    "    add_alias_to_csv(file_csv_path, new_alias_column_name, alias_list)\n"
   ]
  },
  {
   "cell_type": "code",
   "execution_count": 31,
   "metadata": {},
   "outputs": [],
   "source": [
    "def create_csv_file(db_data, column_name, new_column_name, file_name):\n",
    "    temp_data_old = db_data[[column_name]]\n",
    "    new_data = preprocess(temp_data_old, column_name, new_column_name)\n",
    "    new_data.to_csv(file_name)\n"
   ]
  },
  {
   "cell_type": "code",
   "execution_count": 32,
   "metadata": {},
   "outputs": [],
   "source": [
    "# implement house\n",
    "create_csv_file(db_data, HOUSE[\"column_name\"],\n",
    "                HOUSE[\"new_column_name\"], HOUSE[\"csv_file_path\"])\n",
    "create_alias_column(HOUSE[\"csv_file_path\"], HOUSE[\"new_alias_column_name\"],\n",
    "                    alias_file, HOUSE[\"alias_list\"])\n"
   ]
  },
  {
   "cell_type": "code",
   "execution_count": 13,
   "metadata": {},
   "outputs": [],
   "source": [
    "# implement city\n",
    "create_csv_file(db_data, CITY[\"column_name\"],\n",
    "                CITY[\"new_column_name\"], CITY[\"csv_file_path\"])\n",
    "create_alias_column(CITY[\"csv_file_path\"], CITY[\"new_alias_column_name\"],\n",
    "                    alias_file, CITY[\"alias_list\"])"
   ]
  },
  {
   "cell_type": "code",
   "execution_count": 143,
   "metadata": {},
   "outputs": [],
   "source": [
    "# implement district\n",
    "create_csv_file(db_data, DISTRICT[\"column_name\"],\n",
    "                DISTRICT[\"new_column_name\"], DISTRICT[\"csv_file_path\"])\n",
    "create_alias_column(DISTRICT[\"csv_file_path\"], DISTRICT[\"new_alias_column_name\"],\n",
    "                    alias_file, DISTRICT[\"alias_list\"])"
   ]
  },
  {
   "cell_type": "code",
   "execution_count": 145,
   "metadata": {},
   "outputs": [],
   "source": [
    "# implement ward\n",
    "create_csv_file(db_data, WARD[\"column_name\"],\n",
    "                WARD[\"new_column_name\"], WARD[\"csv_file_path\"])\n",
    "create_alias_column(WARD[\"csv_file_path\"], WARD[\"new_alias_column_name\"],\n",
    "                    alias_file, WARD[\"alias_list\"])\n"
   ]
  },
  {
   "cell_type": "code",
   "execution_count": 146,
   "metadata": {},
   "outputs": [],
   "source": [
    "# implement street\n",
    "create_csv_file(db_data, STREET[\"column_name\"],\n",
    "                STREET[\"new_column_name\"], STREET[\"csv_file_path\"])\n",
    "create_alias_column(STREET[\"csv_file_path\"], STREET[\"new_alias_column_name\"],\n",
    "                    alias_file, STREET[\"alias_list\"])\n"
   ]
  },
  {
   "cell_type": "code",
   "execution_count": 147,
   "metadata": {},
   "outputs": [],
   "source": [
    "# implement house_number\n",
    "create_csv_file(db_data, HOUSE_NUMBER[\"column_name\"],\n",
    "                HOUSE_NUMBER[\"new_column_name\"], HOUSE_NUMBER[\"csv_file_path\"])\n",
    "create_alias_column(HOUSE_NUMBER[\"csv_file_path\"], HOUSE_NUMBER[\"new_alias_column_name\"],\n",
    "                    alias_file, HOUSE_NUMBER[\"alias_list\"])\n"
   ]
  },
  {
   "cell_type": "code",
   "execution_count": null,
   "metadata": {},
   "outputs": [],
   "source": []
  }
 ],
 "metadata": {
  "kernelspec": {
   "display_name": "Python 3.7.9 64-bit",
   "language": "python",
   "name": "python3"
  },
  "language_info": {
   "codemirror_mode": {
    "name": "ipython",
    "version": 3
   },
   "file_extension": ".py",
   "mimetype": "text/x-python",
   "name": "python",
   "nbconvert_exporter": "python",
   "pygments_lexer": "ipython3",
   "version": "3.7.9"
  },
  "orig_nbformat": 4,
  "vscode": {
   "interpreter": {
    "hash": "aee8b7b246df8f9039afb4144a1f6fd8d2ca17a180786b69acc140d282b71a49"
   }
  }
 },
 "nbformat": 4,
 "nbformat_minor": 2
}
