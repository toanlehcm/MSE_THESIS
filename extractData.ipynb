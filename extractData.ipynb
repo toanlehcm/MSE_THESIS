{
 "cells": [
  {
   "cell_type": "code",
   "execution_count": 4,
   "metadata": {},
   "outputs": [],
   "source": [
    "import pandas as pd\n",
    "import json\n"
   ]
  },
  {
   "cell_type": "code",
   "execution_count": 5,
   "metadata": {},
   "outputs": [],
   "source": [
    "DB_DATA_PATH = \"data/HungThinhDB10K.csv\"\n",
    "\n",
    "db_data = pd.read_csv(DB_DATA_PATH)\n"
   ]
  },
  {
   "cell_type": "code",
   "execution_count": 6,
   "metadata": {},
   "outputs": [],
   "source": [
    "with open('data/intent_alias_data.json', 'r', encoding=\"utf-8\") as fp:\n",
    "    alias_file = json.load(fp)\n",
    "    fp.close()\n"
   ]
  },
  {
   "cell_type": "code",
   "execution_count": 7,
   "metadata": {},
   "outputs": [],
   "source": [
    "def preprocess(old_data, old_column_name, new_column_name):\n",
    "    temp_data = pd.DataFrame(old_data)\n",
    "    temp_data = temp_data.rename(columns={old_column_name: new_column_name})\n",
    "    temp_data = temp_data.dropna()\n",
    "    temp_data = temp_data.drop_duplicates()\n",
    "\n",
    "    for x in temp_data.index:\n",
    "        if \"http\" in temp_data.loc[x, new_column_name]:\n",
    "            # print(x, temp_data.loc[x, new_column_name])\n",
    "            temp_data = temp_data.drop(x)\n",
    "\n",
    "        # if \"/\" in temp_data.loc[x, new_column_name]:\n",
    "        #     print(x, temp_data.loc[x, new_column_name])\n",
    "            # temp_data = temp_data.drop(x)\n",
    "\n",
    "        # if \".\" in temp_data.loc[x, new_column_name]:\n",
    "        #     print(x, temp_data.loc[x, new_column_name])\n",
    "            # temp_data = temp_data.drop(x)\n",
    "\n",
    "        # if \"<\" in temp_data.loc[x, new_column_name]:\n",
    "        #     print(x, temp_data.loc[x, new_column_name])\n",
    "        #     temp_data = temp_data.drop(x)\n",
    "\n",
    "        # if \">\" in temp_data.loc[x, new_column_name]:\n",
    "        #     print(x, temp_data.loc[x, new_column_name])\n",
    "        #     temp_data = temp_data.drop(x)\n",
    "\n",
    "        # if \"01\" in temp_data.loc[x, new_column_name]:\n",
    "        #     print(x, temp_data.loc[x, new_column_name])\n",
    "        #     temp_data = temp_data.drop(x)\n",
    "\n",
    "    return temp_data\n"
   ]
  },
  {
   "cell_type": "code",
   "execution_count": 17,
   "metadata": {},
   "outputs": [],
   "source": [
    "def add_alias_to_csv(file_csv_path, new_alias_column_name, alias_list):\n",
    "    temp_data = pd.read_csv(file_csv_path)\n",
    "    new_column = pd.DataFrame({new_alias_column_name: alias_list})\n",
    "    temp_data = temp_data.merge(\n",
    "        new_column, how=\"left\", left_index=True, right_index=True)\n",
    "    temp_data.to_csv(file_csv_path, index=False)\n"
   ]
  },
  {
   "cell_type": "code",
   "execution_count": 10,
   "metadata": {},
   "outputs": [],
   "source": [
    "def create_alias_column(file_csv_path, new_alias_column_name, alias_file, alias_data):\n",
    "    alias_list = alias_file[alias_data]\n",
    "    add_alias_to_csv(file_csv_path, new_alias_column_name, alias_list)\n"
   ]
  },
  {
   "cell_type": "code",
   "execution_count": 11,
   "metadata": {},
   "outputs": [],
   "source": [
    "def create_csv_file(db_data, column_name, new_column_name, file_name):\n",
    "    temp_data_old = db_data[[column_name]]\n",
    "    new_data = preprocess(temp_data_old, column_name, new_column_name)\n",
    "    new_data.to_csv(file_name)\n"
   ]
  },
  {
   "cell_type": "code",
   "execution_count": 139,
   "metadata": {},
   "outputs": [],
   "source": [
    "# implement house\n",
    "create_csv_file(db_data, \"real_estate_sub_type\",\n",
    "                \"house_type\", \"data/house_data.csv\")\n",
    "create_alias_column(\"data/house_data.csv\", \"house_alias\",\n",
    "                    alias_file, \"house_type\")\n"
   ]
  },
  {
   "cell_type": "code",
   "execution_count": 13,
   "metadata": {},
   "outputs": [],
   "source": [
    "# implement city\n",
    "create_csv_file(db_data, \"city\", \"city_name\", \"data/city_data.csv\")\n",
    "\n"
   ]
  },
  {
   "cell_type": "code",
   "execution_count": 18,
   "metadata": {},
   "outputs": [],
   "source": [
    "create_alias_column(\"data/city_data.csv\", \"city_alias\", alias_file, \"city\")"
   ]
  },
  {
   "cell_type": "code",
   "execution_count": 143,
   "metadata": {},
   "outputs": [],
   "source": [
    "# implement district\n",
    "create_csv_file(db_data, \"district\", \"district_name\", \"data/district_data.csv\")"
   ]
  },
  {
   "cell_type": "code",
   "execution_count": null,
   "metadata": {},
   "outputs": [],
   "source": [
    "create_alias_column(\"data/district_data.csv\",\n",
    "                    \"district_alias\", alias_file, \"district\")\n"
   ]
  },
  {
   "cell_type": "code",
   "execution_count": 145,
   "metadata": {},
   "outputs": [],
   "source": [
    "# implement ward\n",
    "create_csv_file(db_data, \"ward\", \"ward_name\", \"data/ward_data.csv\")\n",
    "create_alias_column(\"data/ward_data.csv\", \"ward_alias\", alias_file, \"ward\")\n"
   ]
  },
  {
   "cell_type": "code",
   "execution_count": 146,
   "metadata": {},
   "outputs": [],
   "source": [
    "# implement street\n",
    "create_csv_file(db_data, \"street\", \"street_name\", \"data/street_data.csv\")\n",
    "create_alias_column(\"data/street_data.csv\",\n",
    "                    \"street_alias\", alias_file, \"street\")\n"
   ]
  },
  {
   "cell_type": "code",
   "execution_count": 147,
   "metadata": {},
   "outputs": [],
   "source": [
    "# implement house_number\n",
    "create_csv_file(db_data, \"house_number\", \"house_number\",\n",
    "                \"data/house_number_data.csv\")\n",
    "create_alias_column(\"data/house_number_data.csv\",\n",
    "                    \"house_number_alias\", alias_file, \"house_number\")\n"
   ]
  },
  {
   "cell_type": "code",
   "execution_count": null,
   "metadata": {},
   "outputs": [],
   "source": []
  }
 ],
 "metadata": {
  "kernelspec": {
   "display_name": "Python 3.7.9 64-bit",
   "language": "python",
   "name": "python3"
  },
  "language_info": {
   "codemirror_mode": {
    "name": "ipython",
    "version": 3
   },
   "file_extension": ".py",
   "mimetype": "text/x-python",
   "name": "python",
   "nbconvert_exporter": "python",
   "pygments_lexer": "ipython3",
   "version": "3.7.9"
  },
  "orig_nbformat": 4,
  "vscode": {
   "interpreter": {
    "hash": "aee8b7b246df8f9039afb4144a1f6fd8d2ca17a180786b69acc140d282b71a49"
   }
  }
 },
 "nbformat": 4,
 "nbformat_minor": 2
}
