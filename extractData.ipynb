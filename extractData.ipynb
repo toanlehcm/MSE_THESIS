{
 "cells": [
  {
   "cell_type": "code",
   "execution_count": 1,
   "metadata": {},
   "outputs": [],
   "source": [
    "import pandas as pd\n",
    "import numpy as np\n",
    "import json\n",
    "import pathlib\n",
    "import dropbox\n",
    "from dropbox.exceptions import AuthError"
   ]
  },
  {
   "cell_type": "code",
   "execution_count": 2,
   "metadata": {},
   "outputs": [],
   "source": [
    "DB_DATA_PATH = \"data/HungThinhDB10K.csv\"\n",
    "\n",
    "db_data = pd.read_csv(DB_DATA_PATH)\n"
   ]
  },
  {
   "cell_type": "code",
   "execution_count": 3,
   "metadata": {},
   "outputs": [],
   "source": [
    "with open('data/intent_alias_data.json', 'r', encoding=\"utf-8\") as fp:\n",
    "    alias_file = json.load(fp)\n",
    "    fp.close()\n"
   ]
  },
  {
   "cell_type": "code",
   "execution_count": 4,
   "metadata": {},
   "outputs": [],
   "source": [
    "with open('data/create_csv_dict.json', 'r', encoding=\"utf-8\") as fp:\n",
    "    create_csv_dict = json.load(fp)\n",
    "    fp.close()\n",
    "\n",
    "HOUSE = create_csv_dict[\"HOUSE\"]\n",
    "TRANSACTION = create_csv_dict[\"TRANSACTION\"]\n",
    "PRICE = create_csv_dict[\"PRICE\"]\n",
    "AREA = create_csv_dict[\"AREA\"]\n",
    "CITY = create_csv_dict[\"CITY\"]\n",
    "DISTRICT = create_csv_dict[\"DISTRICT\"]\n",
    "WARD = create_csv_dict[\"WARD\"]\n",
    "STREET = create_csv_dict[\"STREET\"]\n",
    "# HOUSE_NUMBER = create_csv_dict[\"HOUSE_NUMBER\"]\n",
    "POTENTIAL = create_csv_dict[\"POTENTIAL\"]\n",
    "BATH_ROOM = create_csv_dict[\"BATH_ROOM\"]\n",
    "BED_ROOM = create_csv_dict[\"BED_ROOM\"]\n",
    "LIVING_ROOM = create_csv_dict[\"LIVING_ROOM\"]\n",
    "DIRECTION = create_csv_dict[\"DIRECTION\"]\n",
    "FLOOR = create_csv_dict[\"FLOOR\"]\n",
    "FLOOR_GAC = create_csv_dict[\"FLOOR_GAC\"]\n",
    "FLOOR_TRET = create_csv_dict[\"FLOOR_TRET\"]\n",
    "FLOOR_LUNG = create_csv_dict[\"FLOOR_LUNG\"]\n",
    "FLOOR_HAM = create_csv_dict[\"FLOOR_HAM\"]\n",
    "FLOOR_BAN_CONG = create_csv_dict[\"FLOOR_BAN_CONG\"]\n",
    "FLOOR_SAN_THUONG = create_csv_dict[\"FLOOR_SAN_THUONG\"]\n",
    "FRONT_LENGTH = create_csv_dict[\"FRONT_LENGTH\"]\n",
    "LEGAL = create_csv_dict[\"LEGAL\"]\n",
    "POSITION = create_csv_dict[\"POSITION\"]\n",
    "PROJECT_NAME = create_csv_dict[\"PROJECT_NAME\"]\n",
    "ROAD_WIDTH = create_csv_dict[\"ROAD_WIDTH\"]\n",
    "SURROUNDING = create_csv_dict[\"SURROUNDING\"]\n"
   ]
  },
  {
   "cell_type": "code",
   "execution_count": 5,
   "metadata": {},
   "outputs": [],
   "source": [
    "def preprocess(old_data, old_column_name, new_column_name):\n",
    "    temp_data = pd.DataFrame(old_data)\n",
    "    temp_data = temp_data.rename(columns={old_column_name: new_column_name})\n",
    "    temp_data = temp_data.dropna()\n",
    "    temp_data = temp_data.drop_duplicates()\n",
    "    number_column_arr = [\n",
    "        'price', 'area', 'bath_room', 'bed_room', 'living_room', \"floor\",\n",
    "        \"floor_gac\", \"floor_tret\", \"floor_lung\", \"floor_ham\", \"floor_ban_cong\",\n",
    "        \"floor_san_thuong\", \"front_length\", \"road_width\"\n",
    "    ]\n",
    "\n",
    "    if old_column_name not in number_column_arr:\n",
    "        for x in temp_data.index:\n",
    "            if \"http\" in temp_data.loc[x, new_column_name]:\n",
    "                # print(x, temp_data.loc[x, new_column_name])\n",
    "                temp_data = temp_data.drop(x)\n",
    "\n",
    "            # if \"/\" in temp_data.loc[x, new_column_name]:\n",
    "            #     print(x, temp_data.loc[x, new_column_name])\n",
    "            # temp_data = temp_data.drop(x)\n",
    "\n",
    "            # if \".\" in temp_data.loc[x, new_column_name]:\n",
    "            #     print(x, temp_data.loc[x, new_column_name])\n",
    "            # temp_data = temp_data.drop(x)\n",
    "\n",
    "            # if \"<\" in temp_data.loc[x, new_column_name]:\n",
    "            #     print(x, temp_data.loc[x, new_column_name])\n",
    "            #     temp_data = temp_data.drop(x)\n",
    "\n",
    "            # if \">\" in temp_data.loc[x, new_column_name]:\n",
    "            #     print(x, temp_data.loc[x, new_column_name])\n",
    "            #     temp_data = temp_data.drop(x)\n",
    "\n",
    "            # if \"01\" in temp_data.loc[x, new_column_name]:\n",
    "            #     print(x, temp_data.loc[x, new_column_name])\n",
    "            #     temp_data = temp_data.drop(x)\n",
    "\n",
    "    if old_column_name in number_column_arr:\n",
    "        for x in temp_data.index:\n",
    "            temp_data = temp_data.astype(np.int64)\n",
    "\n",
    "    return temp_data\n"
   ]
  },
  {
   "cell_type": "code",
   "execution_count": 6,
   "metadata": {},
   "outputs": [],
   "source": [
    "def add_alias_to_csv(file_csv_path, new_alias_column_name, alias_list):\n",
    "    temp_data = pd.read_csv(file_csv_path)\n",
    "    new_column = pd.DataFrame({new_alias_column_name: alias_list})\n",
    "    temp_data = temp_data.merge(new_column,\n",
    "                                how=\"left\",\n",
    "                                left_index=True,\n",
    "                                right_index=True)\n",
    "    temp_data.to_csv(file_csv_path, index=False)\n"
   ]
  },
  {
   "cell_type": "code",
   "execution_count": 7,
   "metadata": {},
   "outputs": [],
   "source": [
    "def create_alias_column(file_csv_path, new_alias_column_name, alias_file,\n",
    "                        alias_data):\n",
    "    alias_list = alias_file[alias_data]\n",
    "    add_alias_to_csv(file_csv_path, new_alias_column_name, alias_list)\n"
   ]
  },
  {
   "cell_type": "code",
   "execution_count": 8,
   "metadata": {},
   "outputs": [],
   "source": [
    "def create_csv_file(db_data, column_name, new_column_name, file_name):\n",
    "    temp_data_old = db_data[[column_name]]\n",
    "\n",
    "    new_data = preprocess(temp_data_old, column_name, new_column_name)\n",
    "\n",
    "    new_data.to_csv(file_name)\n"
   ]
  },
  {
   "cell_type": "code",
   "execution_count": 21,
   "metadata": {},
   "outputs": [],
   "source": [
    "# implement house_data.csv\n",
    "create_csv_file(db_data, HOUSE[\"column_name\"], HOUSE[\"new_column_name\"],\n",
    "                HOUSE[\"csv_file_path\"])\n",
    "create_alias_column(HOUSE[\"csv_file_path\"], HOUSE[\"new_alias_column_name\"],\n",
    "                    alias_file, HOUSE[\"alias_list\"])\n"
   ]
  },
  {
   "cell_type": "code",
   "execution_count": 10,
   "metadata": {},
   "outputs": [],
   "source": [
    "# implement transaction_data.csv\n",
    "create_csv_file(db_data, TRANSACTION[\"column_name\"],\n",
    "                TRANSACTION[\"new_column_name\"], TRANSACTION[\"csv_file_path\"])\n",
    "create_alias_column(TRANSACTION[\"csv_file_path\"],\n",
    "                    TRANSACTION[\"new_alias_column_name\"], alias_file,\n",
    "                    TRANSACTION[\"alias_list\"])\n"
   ]
  },
  {
   "cell_type": "code",
   "execution_count": 10,
   "metadata": {},
   "outputs": [],
   "source": [
    "# implement city_data.csv\n",
    "create_csv_file(db_data, CITY[\"column_name\"], CITY[\"new_column_name\"],\n",
    "                CITY[\"csv_file_path\"])\n",
    "create_alias_column(CITY[\"csv_file_path\"], CITY[\"new_alias_column_name\"],\n",
    "                    alias_file, CITY[\"alias_list\"])"
   ]
  },
  {
   "cell_type": "code",
   "execution_count": 11,
   "metadata": {},
   "outputs": [],
   "source": [
    "# implement district_data.csv\n",
    "create_csv_file(db_data, DISTRICT[\"column_name\"], DISTRICT[\"new_column_name\"],\n",
    "                DISTRICT[\"csv_file_path\"])\n",
    "create_alias_column(DISTRICT[\"csv_file_path\"],\n",
    "                    DISTRICT[\"new_alias_column_name\"], alias_file,\n",
    "                    DISTRICT[\"alias_list\"])\n"
   ]
  },
  {
   "cell_type": "code",
   "execution_count": 12,
   "metadata": {},
   "outputs": [],
   "source": [
    "# implement ward_data.csv\n",
    "create_csv_file(db_data, WARD[\"column_name\"], WARD[\"new_column_name\"],\n",
    "                WARD[\"csv_file_path\"])\n",
    "create_alias_column(WARD[\"csv_file_path\"], WARD[\"new_alias_column_name\"],\n",
    "                    alias_file, WARD[\"alias_list\"])\n"
   ]
  },
  {
   "cell_type": "code",
   "execution_count": 36,
   "metadata": {},
   "outputs": [],
   "source": [
    "# implement street_data.csv\n",
    "create_csv_file(db_data, STREET[\"column_name\"], STREET[\"new_column_name\"],\n",
    "                STREET[\"csv_file_path\"])\n",
    "create_alias_column(STREET[\"csv_file_path\"], STREET[\"new_alias_column_name\"],\n",
    "                    alias_file, STREET[\"alias_list\"])\n"
   ]
  },
  {
   "cell_type": "code",
   "execution_count": 37,
   "metadata": {},
   "outputs": [],
   "source": [
    "# implement price_data.csv\n",
    "create_csv_file(db_data, PRICE[\"column_name\"], PRICE[\"new_column_name\"],\n",
    "                PRICE[\"csv_file_path\"])\n",
    "create_alias_column(PRICE[\"csv_file_path\"], PRICE[\"new_alias_column_name\"],\n",
    "                    alias_file, PRICE[\"alias_list\"])"
   ]
  },
  {
   "cell_type": "code",
   "execution_count": 11,
   "metadata": {},
   "outputs": [],
   "source": [
    "# implement area_data.csv\n",
    "create_csv_file(db_data, AREA[\"column_name\"], AREA[\"new_column_name\"],\n",
    "                AREA[\"csv_file_path\"])\n",
    "create_alias_column(AREA[\"csv_file_path\"], AREA[\"new_alias_column_name\"],\n",
    "                    alias_file, AREA[\"alias_list\"])"
   ]
  },
  {
   "cell_type": "code",
   "execution_count": 13,
   "metadata": {},
   "outputs": [],
   "source": [
    "# implement potential_data.csv\n",
    "create_csv_file(db_data, POTENTIAL[\"column_name\"],\n",
    "                POTENTIAL[\"new_column_name\"], POTENTIAL[\"csv_file_path\"])\n",
    "create_alias_column(POTENTIAL[\"csv_file_path\"],\n",
    "                    POTENTIAL[\"new_alias_column_name\"], alias_file,\n",
    "                    POTENTIAL[\"alias_list\"])\n"
   ]
  },
  {
   "cell_type": "code",
   "execution_count": 23,
   "metadata": {},
   "outputs": [],
   "source": [
    "# implement bath_room_data.csv\n",
    "create_csv_file(db_data, BATH_ROOM[\"column_name\"],\n",
    "                BATH_ROOM[\"new_column_name\"], BATH_ROOM[\"csv_file_path\"])\n",
    "create_alias_column(BATH_ROOM[\"csv_file_path\"],\n",
    "                    BATH_ROOM[\"new_alias_column_name\"], alias_file,\n",
    "                    BATH_ROOM[\"alias_list\"])\n"
   ]
  },
  {
   "cell_type": "code",
   "execution_count": 24,
   "metadata": {},
   "outputs": [],
   "source": [
    "# implement bed_room_data.csv\n",
    "create_csv_file(db_data, BED_ROOM[\"column_name\"], BED_ROOM[\"new_column_name\"],\n",
    "                BED_ROOM[\"csv_file_path\"])\n",
    "create_alias_column(BED_ROOM[\"csv_file_path\"],\n",
    "                    BED_ROOM[\"new_alias_column_name\"], alias_file,\n",
    "                    BED_ROOM[\"alias_list\"])\n"
   ]
  },
  {
   "cell_type": "code",
   "execution_count": 27,
   "metadata": {},
   "outputs": [],
   "source": [
    "# implement living_room_data.csv\n",
    "create_csv_file(db_data, LIVING_ROOM[\"column_name\"],\n",
    "                LIVING_ROOM[\"new_column_name\"], LIVING_ROOM[\"csv_file_path\"])\n",
    "create_alias_column(LIVING_ROOM[\"csv_file_path\"],\n",
    "                    LIVING_ROOM[\"new_alias_column_name\"], alias_file,\n",
    "                    LIVING_ROOM[\"alias_list\"])\n"
   ]
  },
  {
   "cell_type": "code",
   "execution_count": 32,
   "metadata": {},
   "outputs": [],
   "source": [
    "# implement direction_data.csv\n",
    "create_csv_file(db_data, DIRECTION[\"column_name\"],\n",
    "                DIRECTION[\"new_column_name\"], DIRECTION[\"csv_file_path\"])\n",
    "create_alias_column(DIRECTION[\"csv_file_path\"],\n",
    "                    DIRECTION[\"new_alias_column_name\"], alias_file,\n",
    "                    DIRECTION[\"alias_list\"])\n"
   ]
  },
  {
   "cell_type": "code",
   "execution_count": 38,
   "metadata": {},
   "outputs": [],
   "source": [
    "# implement floor_data.csv\n",
    "create_csv_file(db_data, FLOOR[\"column_name\"], FLOOR[\"new_column_name\"],\n",
    "                FLOOR[\"csv_file_path\"])\n",
    "create_alias_column(FLOOR[\"csv_file_path\"], FLOOR[\"new_alias_column_name\"],\n",
    "                    alias_file, FLOOR[\"alias_list\"])"
   ]
  },
  {
   "cell_type": "code",
   "execution_count": 45,
   "metadata": {},
   "outputs": [],
   "source": [
    "# implement floor_gac_data.csv\n",
    "create_csv_file(db_data, FLOOR_GAC[\"column_name\"],\n",
    "                FLOOR_GAC[\"new_column_name\"], FLOOR_GAC[\"csv_file_path\"])\n",
    "create_alias_column(FLOOR_GAC[\"csv_file_path\"],\n",
    "                    FLOOR_GAC[\"new_alias_column_name\"], alias_file,\n",
    "                    FLOOR_GAC[\"alias_list\"])\n"
   ]
  },
  {
   "cell_type": "code",
   "execution_count": 53,
   "metadata": {},
   "outputs": [],
   "source": [
    "# implement floor_tret_data.csv\n",
    "create_csv_file(db_data, FLOOR_TRET[\"column_name\"],\n",
    "                FLOOR_TRET[\"new_column_name\"], FLOOR_TRET[\"csv_file_path\"])\n",
    "create_alias_column(FLOOR_TRET[\"csv_file_path\"],\n",
    "                    FLOOR_TRET[\"new_alias_column_name\"], alias_file,\n",
    "                    FLOOR_TRET[\"alias_list\"])\n"
   ]
  },
  {
   "cell_type": "code",
   "execution_count": 57,
   "metadata": {},
   "outputs": [],
   "source": [
    "# implement floor_lung_data.csv\n",
    "create_csv_file(db_data, FLOOR_LUNG[\"column_name\"],\n",
    "                FLOOR_LUNG[\"new_column_name\"], FLOOR_LUNG[\"csv_file_path\"])\n",
    "create_alias_column(FLOOR_LUNG[\"csv_file_path\"],\n",
    "                    FLOOR_LUNG[\"new_alias_column_name\"], alias_file,\n",
    "                    FLOOR_LUNG[\"alias_list\"])\n"
   ]
  },
  {
   "cell_type": "code",
   "execution_count": 61,
   "metadata": {},
   "outputs": [],
   "source": [
    "# implement floor_ham_data.csv\n",
    "create_csv_file(db_data, FLOOR_HAM[\"column_name\"],\n",
    "                FLOOR_HAM[\"new_column_name\"], FLOOR_HAM[\"csv_file_path\"])\n",
    "create_alias_column(FLOOR_HAM[\"csv_file_path\"],\n",
    "                    FLOOR_HAM[\"new_alias_column_name\"], alias_file,\n",
    "                    FLOOR_HAM[\"alias_list\"])\n"
   ]
  },
  {
   "cell_type": "code",
   "execution_count": 65,
   "metadata": {},
   "outputs": [],
   "source": [
    "# implement floor_ban_cong_data.csv\n",
    "create_csv_file(db_data, FLOOR_BAN_CONG[\"column_name\"],\n",
    "                FLOOR_BAN_CONG[\"new_column_name\"],\n",
    "                FLOOR_BAN_CONG[\"csv_file_path\"])\n",
    "create_alias_column(FLOOR_BAN_CONG[\"csv_file_path\"],\n",
    "                    FLOOR_BAN_CONG[\"new_alias_column_name\"], alias_file,\n",
    "                    FLOOR_BAN_CONG[\"alias_list\"])\n"
   ]
  },
  {
   "cell_type": "code",
   "execution_count": 70,
   "metadata": {},
   "outputs": [],
   "source": [
    "# implement floor_san_thuong_data.csv\n",
    "create_csv_file(db_data, FLOOR_SAN_THUONG[\"column_name\"],\n",
    "                FLOOR_SAN_THUONG[\"new_column_name\"],\n",
    "                FLOOR_SAN_THUONG[\"csv_file_path\"])\n",
    "create_alias_column(FLOOR_SAN_THUONG[\"csv_file_path\"],\n",
    "                    FLOOR_SAN_THUONG[\"new_alias_column_name\"], alias_file,\n",
    "                    FLOOR_SAN_THUONG[\"alias_list\"])\n"
   ]
  },
  {
   "cell_type": "code",
   "execution_count": 75,
   "metadata": {},
   "outputs": [],
   "source": [
    "# implement front_length_data.csv\n",
    "create_csv_file(db_data, FRONT_LENGTH[\"column_name\"],\n",
    "                FRONT_LENGTH[\"new_column_name\"], FRONT_LENGTH[\"csv_file_path\"])\n",
    "create_alias_column(FRONT_LENGTH[\"csv_file_path\"],\n",
    "                    FRONT_LENGTH[\"new_alias_column_name\"], alias_file,\n",
    "                    FRONT_LENGTH[\"alias_list\"])\n"
   ]
  },
  {
   "cell_type": "code",
   "execution_count": 78,
   "metadata": {},
   "outputs": [],
   "source": [
    "# implement legal_data.csv\n",
    "create_csv_file(db_data, LEGAL[\"column_name\"], LEGAL[\"new_column_name\"],\n",
    "                LEGAL[\"csv_file_path\"])\n",
    "create_alias_column(LEGAL[\"csv_file_path\"], LEGAL[\"new_alias_column_name\"],\n",
    "                    alias_file, LEGAL[\"alias_list\"])"
   ]
  },
  {
   "cell_type": "code",
   "execution_count": 82,
   "metadata": {},
   "outputs": [],
   "source": [
    "# implement position_data.csv\n",
    "create_csv_file(db_data, POSITION[\"column_name\"], POSITION[\"new_column_name\"],\n",
    "                POSITION[\"csv_file_path\"])\n",
    "create_alias_column(POSITION[\"csv_file_path\"],\n",
    "                    POSITION[\"new_alias_column_name\"], alias_file,\n",
    "                    POSITION[\"alias_list\"])\n"
   ]
  },
  {
   "cell_type": "code",
   "execution_count": 85,
   "metadata": {},
   "outputs": [],
   "source": [
    "# implement project_name_data.csv\n",
    "create_csv_file(db_data, PROJECT_NAME[\"column_name\"],\n",
    "                PROJECT_NAME[\"new_column_name\"], PROJECT_NAME[\"csv_file_path\"])\n",
    "create_alias_column(PROJECT_NAME[\"csv_file_path\"],\n",
    "                    PROJECT_NAME[\"new_alias_column_name\"], alias_file,\n",
    "                    PROJECT_NAME[\"alias_list\"])\n"
   ]
  },
  {
   "cell_type": "code",
   "execution_count": 91,
   "metadata": {},
   "outputs": [],
   "source": [
    "# implement road_width_data.csv\n",
    "create_csv_file(db_data, ROAD_WIDTH[\"column_name\"],\n",
    "                ROAD_WIDTH[\"new_column_name\"], ROAD_WIDTH[\"csv_file_path\"])\n",
    "create_alias_column(ROAD_WIDTH[\"csv_file_path\"],\n",
    "                    ROAD_WIDTH[\"new_alias_column_name\"], alias_file,\n",
    "                    ROAD_WIDTH[\"alias_list\"])\n"
   ]
  },
  {
   "cell_type": "code",
   "execution_count": 94,
   "metadata": {},
   "outputs": [],
   "source": [
    "# implement surrounding_data.csv\n",
    "create_csv_file(db_data, SURROUNDING[\"column_name\"],\n",
    "                SURROUNDING[\"new_column_name\"], SURROUNDING[\"csv_file_path\"])\n",
    "create_alias_column(SURROUNDING[\"csv_file_path\"],\n",
    "                    SURROUNDING[\"new_alias_column_name\"], alias_file,\n",
    "                    SURROUNDING[\"alias_list\"])\n"
   ]
  }
 ],
 "metadata": {
  "kernelspec": {
   "display_name": "Python 3.7.9 64-bit",
   "language": "python",
   "name": "python3"
  },
  "language_info": {
   "codemirror_mode": {
    "name": "ipython",
    "version": 3
   },
   "file_extension": ".py",
   "mimetype": "text/x-python",
   "name": "python",
   "nbconvert_exporter": "python",
   "pygments_lexer": "ipython3",
   "version": "3.7.9"
  },
  "orig_nbformat": 4,
  "vscode": {
   "interpreter": {
    "hash": "5109d816b82be14675a6b11f8e0f0d2e80f029176ed3710d54e125caa8520dfd"
   }
  }
 },
 "nbformat": 4,
 "nbformat_minor": 2
}
