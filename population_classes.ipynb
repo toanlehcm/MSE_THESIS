{
 "cells": [
  {
   "cell_type": "code",
   "execution_count": 1,
   "metadata": {},
   "outputs": [
    {
     "name": "stderr",
     "output_type": "stream",
     "text": [
      "* Owlready2 * Warning: optimized Cython parser module 'owlready2_optimized' is not available, defaulting to slower Python implementation\n"
     ]
    }
   ],
   "source": [
    "from owlready2 import *\n",
    "import csv, types"
   ]
  },
  {
   "cell_type": "code",
   "execution_count": 2,
   "metadata": {},
   "outputs": [],
   "source": [
    "onto = get_ontology(\"bacteria.owl\").load()"
   ]
  },
  {
   "cell_type": "code",
   "execution_count": 3,
   "metadata": {},
   "outputs": [],
   "source": [
    "onto_classes = get_ontology(\"http://lesfleursdunormal.fr/static/_downloads/bacteria_classes.owl\")"
   ]
  },
  {
   "cell_type": "code",
   "execution_count": 4,
   "metadata": {},
   "outputs": [],
   "source": [
    "onto_classes.imported_ontologies.append(onto)"
   ]
  },
  {
   "cell_type": "code",
   "execution_count": 5,
   "metadata": {},
   "outputs": [
    {
     "data": {
      "text/plain": [
       "['ID', 'parent', 'gram_positive', 'shape', 'grouping']"
      ]
     },
     "execution_count": 5,
     "metadata": {},
     "output_type": "execute_result"
    }
   ],
   "source": [
    "f = open(\"population_classes.csv\")\n",
    "reader = csv.reader(f)\n",
    "next(reader)"
   ]
  },
  {
   "cell_type": "code",
   "execution_count": 9,
   "metadata": {},
   "outputs": [],
   "source": [
    "with onto_classes:\n",
    "  for row in reader:\n",
    "    id, parent, gram_positive, shape, grouping = row\n",
    "    \n",
    "    if parent: parent = onto[parent]\n",
    "    else:      parent = Thing\n",
    "    Class = types.new_class(id, (parent,))\n",
    "    \n",
    "    if gram_positive:\n",
    "      if gram_positive == \"True\": gram_positive = True\n",
    "      else:                       gram_positive = False\n",
    "      Class.gram_positive = gram_positive\n",
    "      \n",
    "    if shape:\n",
    "      shape_class = onto[shape]\n",
    "      Class.has_shape = shape_class\n",
    "      \n",
    "    if grouping:\n",
    "      grouping_class = onto[grouping]\n",
    "      Class.has_grouping.append(grouping_class)"
   ]
  },
  {
   "cell_type": "code",
   "execution_count": 10,
   "metadata": {},
   "outputs": [],
   "source": [
    "onto_classes.save(\"bacteria_classes.owl\")"
   ]
  },
  {
   "cell_type": "code",
   "execution_count": null,
   "metadata": {},
   "outputs": [],
   "source": []
  }
 ],
 "metadata": {
  "interpreter": {
   "hash": "aee8b7b246df8f9039afb4144a1f6fd8d2ca17a180786b69acc140d282b71a49"
  },
  "kernelspec": {
   "display_name": "Python 3.9.4 64-bit",
   "language": "python",
   "name": "python3"
  },
  "language_info": {
   "codemirror_mode": {
    "name": "ipython",
    "version": 3
   },
   "file_extension": ".py",
   "mimetype": "text/x-python",
   "name": "python",
   "nbconvert_exporter": "python",
   "pygments_lexer": "ipython3",
   "version": "3.9.4"
  },
  "orig_nbformat": 4
 },
 "nbformat": 4,
 "nbformat_minor": 2
}
