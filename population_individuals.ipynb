{
 "cells": [
  {
   "cell_type": "code",
   "execution_count": 25,
   "metadata": {},
   "outputs": [],
   "source": [
    "from owlready2 import *\n",
    "import csv"
   ]
  },
  {
   "cell_type": "code",
   "execution_count": 42,
   "metadata": {},
   "outputs": [
    {
     "name": "stdout",
     "output_type": "stream",
     "text": [
      "get_ontology(\"bacteria.owl#\")\n"
     ]
    }
   ],
   "source": [
    "onto = get_ontology(\"bacteria.owl\").load()"
   ]
  },
  {
   "cell_type": "code",
   "execution_count": 27,
   "metadata": {},
   "outputs": [],
   "source": [
    "onto_individuals = get_ontology(\"http://lesfleursdunormal.fr/static/_downloads/bacteria_individuals.owl\")"
   ]
  },
  {
   "cell_type": "code",
   "execution_count": 43,
   "metadata": {},
   "outputs": [
    {
     "name": "stdout",
     "output_type": "stream",
     "text": [
      "get_ontology(\"http://lesfleursdunormal.fr/static/_downloads/bacteria_individuals.owl#\")\n"
     ]
    }
   ],
   "source": [
    "onto_individuals.imported_ontologies.append(onto)"
   ]
  },
  {
   "cell_type": "code",
   "execution_count": 44,
   "metadata": {},
   "outputs": [
    {
     "data": {
      "text/plain": [
       "['\\ufeffID', 'gram_positive', 'shape', 'grouping', 'nb_colonies']"
      ]
     },
     "execution_count": 44,
     "metadata": {},
     "output_type": "execute_result"
    }
   ],
   "source": [
    "f = open(\"population_ individuals.csv\")\n",
    "reader = csv.reader(f)\n",
    "next(reader)"
   ]
  },
  {
   "cell_type": "code",
   "execution_count": 45,
   "metadata": {},
   "outputs": [
    {
     "ename": "TypeError",
     "evalue": "'NoneType' object is not callable",
     "output_type": "error",
     "traceback": [
      "\u001b[0;31m---------------------------------------------------------------------------\u001b[0m",
      "\u001b[0;31mTypeError\u001b[0m                                 Traceback (most recent call last)",
      "\u001b[1;32m/Users/toanlethanh/Documents/0_MSE/3_6_THESIS_SEM501/ToanLe/thesisSource/population_individuals.ipynb Cell 6'\u001b[0m in \u001b[0;36m<cell line: 1>\u001b[0;34m()\u001b[0m\n\u001b[1;32m      <a href='vscode-notebook-cell:/Users/toanlethanh/Documents/0_MSE/3_6_THESIS_SEM501/ToanLe/thesisSource/population_individuals.ipynb#ch0000005?line=1'>2</a>\u001b[0m \u001b[39mfor\u001b[39;00m row \u001b[39min\u001b[39;00m reader:\n\u001b[1;32m      <a href='vscode-notebook-cell:/Users/toanlethanh/Documents/0_MSE/3_6_THESIS_SEM501/ToanLe/thesisSource/population_individuals.ipynb#ch0000005?line=2'>3</a>\u001b[0m   \u001b[39m# print(row)\u001b[39;00m\n\u001b[1;32m      <a href='vscode-notebook-cell:/Users/toanlethanh/Documents/0_MSE/3_6_THESIS_SEM501/ToanLe/thesisSource/population_individuals.ipynb#ch0000005?line=3'>4</a>\u001b[0m   \u001b[39mid\u001b[39m, gram_positive, shape, grouping, nb_colonies \u001b[39m=\u001b[39m row\n\u001b[0;32m----> <a href='vscode-notebook-cell:/Users/toanlethanh/Documents/0_MSE/3_6_THESIS_SEM501/ToanLe/thesisSource/population_individuals.ipynb#ch0000005?line=4'>5</a>\u001b[0m   individual \u001b[39m=\u001b[39m onto\u001b[39m.\u001b[39;49mBacterium(\u001b[39mid\u001b[39;49m)\n\u001b[1;32m      <a href='vscode-notebook-cell:/Users/toanlethanh/Documents/0_MSE/3_6_THESIS_SEM501/ToanLe/thesisSource/population_individuals.ipynb#ch0000005?line=6'>7</a>\u001b[0m   \u001b[39mif\u001b[39;00m gram_positive:\n\u001b[1;32m      <a href='vscode-notebook-cell:/Users/toanlethanh/Documents/0_MSE/3_6_THESIS_SEM501/ToanLe/thesisSource/population_individuals.ipynb#ch0000005?line=7'>8</a>\u001b[0m     \u001b[39mif\u001b[39;00m gram_positive \u001b[39m==\u001b[39m \u001b[39m\"\u001b[39m\u001b[39mTrue\u001b[39m\u001b[39m\"\u001b[39m: gram_positive \u001b[39m=\u001b[39m \u001b[39mTrue\u001b[39;00m\n",
      "\u001b[0;31mTypeError\u001b[0m: 'NoneType' object is not callable"
     ]
    }
   ],
   "source": [
    "with onto_individuals:\n",
    "  for row in reader:\n",
    "    # print(row)\n",
    "    id, gram_positive, shape, grouping, nb_colonies = row\n",
    "    individual = onto.Bacterium(id)\n",
    "    \n",
    "    if gram_positive:\n",
    "      if gram_positive == \"True\": gram_positive = True\n",
    "      else:                       gram_positive = False\n",
    "      individual.gram_positive  = gram_positive\n",
    "      \n",
    "    if nb_colonies:\n",
    "      individual.nb_colonies = int(nb_colonies)\n",
    "      \n",
    "    if shape:\n",
    "      shape_class = onto[shape]\n",
    "      shape = shape_class()\n",
    "      individual.has_shape = shape\n",
    "      \n",
    "    if grouping:\n",
    "      grouping_class = onto[grouping]\n",
    "      grouping = grouping_class()\n",
    "      individual.has_grouping.append(grouping)"
   ]
  },
  {
   "cell_type": "code",
   "execution_count": 24,
   "metadata": {},
   "outputs": [],
   "source": [
    "onto_individuals.save(\"bacteria_individuals.owl\")"
   ]
  },
  {
   "cell_type": "code",
   "execution_count": null,
   "metadata": {},
   "outputs": [],
   "source": []
  }
 ],
 "metadata": {
  "interpreter": {
   "hash": "aee8b7b246df8f9039afb4144a1f6fd8d2ca17a180786b69acc140d282b71a49"
  },
  "kernelspec": {
   "display_name": "Python 3.9.4 64-bit",
   "language": "python",
   "name": "python3"
  },
  "language_info": {
   "codemirror_mode": {
    "name": "ipython",
    "version": 3
   },
   "file_extension": ".py",
   "mimetype": "text/x-python",
   "name": "python",
   "nbconvert_exporter": "python",
   "pygments_lexer": "ipython3",
   "version": "3.9.4"
  },
  "orig_nbformat": 4
 },
 "nbformat": 4,
 "nbformat_minor": 2
}
