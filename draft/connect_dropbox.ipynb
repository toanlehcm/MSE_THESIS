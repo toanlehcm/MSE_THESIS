{
 "cells": [
  {
   "cell_type": "code",
   "execution_count": null,
   "metadata": {},
   "outputs": [],
   "source": [
    "# DROPBOX_ACCESS_TOKEN = \"sl.BQ2T1GxZk4MLt8MRUz6SO33NQ_SuaadhpXxSvuOyOzGdqTyK-g1Je-5NFHLh2CM0Q8_ztcbTMYv6evu9eAuJLmeZAHSnDyqC6uSypdHl-JpsG3mzozgcAYe-sU0L3TyRc9sfyFc\""
   ]
  },
  {
   "cell_type": "code",
   "execution_count": null,
   "metadata": {},
   "outputs": [],
   "source": [
    "# Connect to the Dropbox API\n",
    "# def dropbox_connect():\n",
    "#     \"\"\"Create a connection to Dropbox.\"\"\"\n",
    "\n",
    "#     try:\n",
    "#         dbx = dropbox.Dropbox(DROPBOX_ACCESS_TOKEN)\n",
    "#     except AuthError as e:\n",
    "#         print('Error connecting to Dropbox with access token: ' + str(e))\n",
    "#     return dbx"
   ]
  },
  {
   "cell_type": "code",
   "execution_count": null,
   "metadata": {},
   "outputs": [],
   "source": [
    "# Get a list of files in a Dropbox folder\n",
    "# def dropbox_list_files(path):\n",
    "#     \"\"\"Return a Pandas dataframe of files in a given Dropbox folder path in the Apps directory.\n",
    "#     \"\"\"\n",
    "\n",
    "#     dbx = dropbox_connect()\n",
    "\n",
    "#     try:\n",
    "#         files = dbx.files_list_folder(path).entries\n",
    "#         files_list = []\n",
    "#         for file in files:\n",
    "#             if isinstance(file, dropbox.files.FileMetadata):\n",
    "#                 metadata = {\n",
    "#                     'name': file.name,\n",
    "#                     'path_display': file.path_display,\n",
    "#                     'client_modified': file.client_modified,\n",
    "#                     'server_modified': file.server_modified\n",
    "#                 }\n",
    "#                 files_list.append(metadata)\n",
    "\n",
    "#         df = pd.DataFrame.from_records(files_list)\n",
    "#         return df.sort_values(by='server_modified', ascending=False)\n",
    "\n",
    "#     except Exception as e:\n",
    "#         print('Error getting list of files from Dropbox: ' + str(e))"
   ]
  },
  {
   "cell_type": "code",
   "execution_count": null,
   "metadata": {},
   "outputs": [],
   "source": [
    "# dropbox_list_files(\"https://www.dropbox.com/s/d38msio1vfs8ccl/test.csv?dl=1\")"
   ]
  },
  {
   "cell_type": "code",
   "execution_count": null,
   "metadata": {},
   "outputs": [],
   "source": [
    "# Upload a file to Dropbox\n",
    "# def dropbox_upload_file(local_path, local_file, dropbox_file_path):\n",
    "#     \"\"\"Upload a file from the local machine to a path in the Dropbox app directory.\n",
    "\n",
    "#     Args:\n",
    "#         local_path (str): The path to the local file.\n",
    "#         local_file (str): The name of the local file.\n",
    "#         dropbox_file_path (str): The path to the file in the Dropbox app directory.\n",
    "\n",
    "#     Example:\n",
    "#         dropbox_upload_file('.', 'test.csv', '/stuff/test.csv')\n",
    "\n",
    "#     Returns:\n",
    "#         meta: The Dropbox file metadata.\n",
    "#     \"\"\"\n",
    "\n",
    "#     try:\n",
    "#         dbx = dropbox_connect()\n",
    "\n",
    "#         local_file_path = pathlib.Path(local_path) / local_file\n",
    "\n",
    "#         with local_file_path.open(\"rb\") as f:\n",
    "#             meta = dbx.files_upload(f.read(), dropbox_file_path, mode=dropbox.files.WriteMode(\"overwrite\"))\n",
    "\n",
    "#             return meta\n",
    "#     except Exception as e:\n",
    "#         print('Error uploading file to Dropbox: ' + str(e))"
   ]
  },
  {
   "cell_type": "code",
   "execution_count": null,
   "metadata": {},
   "outputs": [],
   "source": [
    "# dropbox_upload_file('.', 'test.csv', '/Apps/chatbot_data/test.csv')"
   ]
  }
 ],
 "metadata": {
  "kernelspec": {
   "display_name": "Python 3.7.9 64-bit",
   "language": "python",
   "name": "python3"
  },
  "language_info": {
   "name": "python",
   "version": "3.7.9"
  },
  "orig_nbformat": 4,
  "vscode": {
   "interpreter": {
    "hash": "5109d816b82be14675a6b11f8e0f0d2e80f029176ed3710d54e125caa8520dfd"
   }
  }
 },
 "nbformat": 4,
 "nbformat_minor": 2
}
