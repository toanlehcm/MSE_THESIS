{
 "cells": [
  {
   "cell_type": "code",
   "execution_count": null,
   "metadata": {},
   "outputs": [],
   "source": [
    "# Extract data > preprocess:\n",
    "# if \"/\" in temp_data.loc[x, new_column_name]:\n",
    "#     print(x, temp_data.loc[x, new_column_name])\n",
    "# temp_data = temp_data.drop(x)\n",
    "\n",
    "# if \".\" in temp_data.loc[x, new_column_name]:\n",
    "#     print(x, temp_data.loc[x, new_column_name])\n",
    "# temp_data = temp_data.drop(x)\n",
    "\n",
    "# if \"<\" in temp_data.loc[x, new_column_name]:\n",
    "#     print(x, temp_data.loc[x, new_column_name])\n",
    "#     temp_data = temp_data.drop(x)\n",
    "\n",
    "# if \">\" in temp_data.loc[x, new_column_name]:\n",
    "#     print(x, temp_data.loc[x, new_column_name])\n",
    "#     temp_data = temp_data.drop(x)\n",
    "\n",
    "# if \"01\" in temp_data.loc[x, new_column_name]:\n",
    "#     print(x, temp_data.loc[x, new_column_name])\n",
    "#     temp_data = temp_data.drop(x)\n"
   ]
  }
 ],
 "metadata": {
  "kernelspec": {
   "display_name": "Python 3.7.9 64-bit",
   "language": "python",
   "name": "python3"
  },
  "language_info": {
   "name": "python",
   "version": "3.7.9"
  },
  "orig_nbformat": 4,
  "vscode": {
   "interpreter": {
    "hash": "5109d816b82be14675a6b11f8e0f0d2e80f029176ed3710d54e125caa8520dfd"
   }
  }
 },
 "nbformat": 4,
 "nbformat_minor": 2
}
